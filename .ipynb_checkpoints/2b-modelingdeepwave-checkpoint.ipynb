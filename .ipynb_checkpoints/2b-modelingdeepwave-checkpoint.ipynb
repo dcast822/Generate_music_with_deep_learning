{
 "cells": [
  {
   "cell_type": "code",
   "execution_count": 40,
   "id": "5aa304e6-7c85-4509-a4ed-13d9b533ce54",
   "metadata": {
    "id": "5aa304e6-7c85-4509-a4ed-13d9b533ce54"
   },
   "outputs": [],
   "source": [
    "import numpy as np\n",
    "import os\n",
    "import matplotlib.pyplot as plt\n",
    "from collections import Counter\n",
    "%matplotlib inline\n",
    "\n",
    "from sklearn.model_selection import train_test_split\n",
    "from music21 import *\n",
    "import warnings\n",
    "warnings.filterwarnings(\"ignore\")\n",
    "warnings.simplefilter(\"ignore\")\n",
    "\n",
    "from keras.layers import *\n",
    "from keras.models import *\n",
    "from keras.callbacks import *\n",
    "import keras.backend as K\n",
    "from tensorflow.keras.optimizers import Adam"
   ]
  },
  {
   "cell_type": "markdown",
   "id": "0a94b2c3-0e1f-42a0-a295-4736c88780f6",
   "metadata": {
    "id": "0a94b2c3-0e1f-42a0-a295-4736c88780f6",
    "tags": []
   },
   "source": [
    "## Wavenet Modeling Iterations"
   ]
  },
  {
   "cell_type": "markdown",
   "id": "0664fcad-9213-45de-b3b9-b0e7fe62d59f",
   "metadata": {},
   "source": [
    "### Process Midis using music21"
   ]
  },
  {
   "cell_type": "code",
   "execution_count": 24,
   "id": "Xozl-T2IMoKy",
   "metadata": {
    "id": "Xozl-T2IMoKy"
   },
   "outputs": [],
   "source": [
    "#https://www.analyticsvidhya.com/blog/2020/01/how-to-perform-automatic-music-generation/\n",
    "def read_midi(file):\n",
    "    \n",
    "    print(\"Loading Music File:\",file)\n",
    "    \n",
    "    notes=[]\n",
    "    notes_to_parse = None\n",
    "    \n",
    "    #parsing a midi file\n",
    "    midi = converter.parse(file)\n",
    "  \n",
    "    #grouping based on different instruments\n",
    "    s2 = instrument.partitionByInstrument(midi)\n",
    "\n",
    "    #Looping over instruments\n",
    "    for part in s2.parts:\n",
    "    \n",
    "        #select elements of only piano\n",
    "        if 'Piano' in str(part): \n",
    "        \n",
    "            notes_to_parse = part.recurse() \n",
    "      \n",
    "            #if note or a chord\n",
    "            for element in notes_to_parse:\n",
    "                \n",
    "                if isinstance(element, note.Note):\n",
    "                    notes.append(str(element.pitch))\n",
    "                \n",
    "                elif isinstance(element, chord.Chord):\n",
    "                    notes.append('.'.join(str(n) for n in element.normalOrder))\n",
    "\n",
    "    return np.array(notes)"
   ]
  },
  {
   "cell_type": "code",
   "execution_count": 29,
   "id": "c8b25414-06f6-4f1a-81c7-5bd2509e1212",
   "metadata": {
    "colab": {
     "base_uri": "https://localhost:8080/"
    },
    "id": "c8b25414-06f6-4f1a-81c7-5bd2509e1212",
    "outputId": "3d95bb32-30d9-4fbc-b40f-7bfab3341e6a"
   },
   "outputs": [
    {
     "name": "stdout",
     "output_type": "stream",
     "text": [
      "Loading Music File: /chpn-p15.mid\n",
      "Loading Music File: /chpn_op10_e05.mid\n",
      "Loading Music File: /beethoven_opus10_1.mid\n",
      "Loading Music File: /chpn_op27_1.mid\n",
      "Loading Music File: /chpn_op35_1.mid\n",
      "Loading Music File: /chpn-p23.mid\n",
      "Loading Music File: /bor_ps7.mid\n",
      "Loading Music File: /beethoven_hammerklavier_1.mid\n",
      "Loading Music File: /chpn-p19.mid\n",
      "Loading Music File: /chpn-p4.mid\n",
      "Loading Music File: /chpn-p5.mid\n",
      "Loading Music File: /mond_2.mid\n",
      "Loading Music File: /chpn_op35_3.mid\n",
      "Loading Music File: /chpn_op10_e01.mid\n",
      "Loading Music File: /chp_op18.mid\n",
      "Loading Music File: /alb_se7.mid\n",
      "Loading Music File: /alb_se6.mid\n",
      "Loading Music File: /alb_esp3.mid\n",
      "Loading Music File: /elise.mid\n",
      "Loading Music File: /bor_ps3.mid\n",
      "Loading Music File: /alb_se1.mid\n",
      "Loading Music File: /beethoven_les_adieux_1.mid\n",
      "Loading Music File: /alb_se2.mid\n",
      "Loading Music File: /beethoven_opus90_2.mid\n",
      "Loading Music File: /waldstein_2.mid\n",
      "Loading Music File: /bor_ps6.mid\n",
      "Loading Music File: /mond_1.mid\n",
      "Loading Music File: /chp_op31.mid\n",
      "Loading Music File: /burg_perlen.mid\n",
      "Loading Music File: /alb_se8.mid\n",
      "Loading Music File: /bach_846.mid\n",
      "Loading Music File: /pathetique_2.mid\n",
      "Loading Music File: /burg_agitato.mid\n",
      "Loading Music File: /bor_ps2.mid\n",
      "Loading Music File: /chpn_op35_4.mid\n",
      "Loading Music File: /brahms_opus1_4.mid\n",
      "Loading Music File: /burg_spinnerlied.mid\n",
      "Loading Music File: /beethoven_opus22_3.mid\n",
      "Loading Music File: /chpn-p13.mid\n",
      "Loading Music File: /chpn-p16.mid\n",
      "Loading Music File: /chpn-p2.mid\n",
      "Loading Music File: /chpn-p18.mid\n",
      "Loading Music File: /chpn-p7.mid\n",
      "Loading Music File: /alb_esp5.mid\n",
      "Loading Music File: /brahms_opus1_2.mid\n",
      "Loading Music File: /beethoven_les_adieux_3.mid\n",
      "Loading Music File: /chpn_op33_2.mid\n",
      "Loading Music File: /chpn-p3.mid\n",
      "Loading Music File: /burg_trennung.mid\n",
      "Loading Music File: /chpn_op35_2.mid\n",
      "Loading Music File: /beethoven_opus10_3.mid\n",
      "Loading Music File: /bor_ps5.mid\n",
      "Loading Music File: /chpn_op10_e12.mid\n",
      "Loading Music File: /beethoven_hammerklavier_4.mid\n",
      "Loading Music File: /appass_2.mid\n",
      "Loading Music File: /appass_1.mid\n",
      "Loading Music File: /bor_ps1.mid\n",
      "Loading Music File: /burg_gewitter.mid\n",
      "Loading Music File: /chpn_op27_2.mid\n",
      "Loading Music File: /chpn-p11.mid\n",
      "Loading Music File: /chpn_op25_e4.mid\n",
      "Loading Music File: /brahms_opus1_3.mid\n",
      "Loading Music File: /beethoven_opus22_1.mid\n",
      "Loading Music File: /chpn-p9.mid\n",
      "Loading Music File: /alb_se5.mid\n",
      "Loading Music File: /chpn-p1.mid\n",
      "Loading Music File: /chpn_op25_e1.mid\n",
      "Loading Music File: /burg_geschwindigkeit.mid\n",
      "Loading Music File: /br_im5.mid\n",
      "Loading Music File: /alb_esp2.mid\n",
      "Loading Music File: /chpn-p12.mid\n",
      "Loading Music File: /chpn_op7_2.mid\n",
      "Loading Music File: /chpn-p8.mid\n",
      "Loading Music File: /alb_esp1.mid\n",
      "Loading Music File: /beethoven_opus90_1.mid\n",
      "Loading Music File: /alb_esp6.mid\n",
      "Loading Music File: /brahms_opus1_1.mid\n",
      "Loading Music File: /burg_erwachen.mid\n",
      "Loading Music File: /chpn-p24.mid\n",
      "Loading Music File: /islamei.mid\n",
      "Loading Music File: /bach_847.mid\n",
      "Loading Music File: /alb_se3.mid\n",
      "Loading Music File: /beethoven_opus22_4.mid\n",
      "Loading Music File: /br_im2.mid\n",
      "Loading Music File: /chpn_op7_1.mid\n",
      "Loading Music File: /chpn_op25_e11.mid\n",
      "Loading Music File: /chpn-p14.mid\n",
      "Loading Music File: /pathetique_3.mid\n",
      "Loading Music File: /chpn_op25_e3.mid\n",
      "Loading Music File: /appass_3.mid\n",
      "Loading Music File: /beethoven_hammerklavier_2.mid\n",
      "Loading Music File: /chpn_op25_e2.mid\n",
      "Loading Music File: /burg_sylphen.mid\n",
      "Loading Music File: /chpn_op23.mid\n",
      "Loading Music File: /bach_850.mid\n",
      "Loading Music File: /alb_esp4.mid\n",
      "Loading Music File: /chpn_op33_4.mid\n",
      "Loading Music File: /brahms_opus117_1.mid\n",
      "Loading Music File: /br_rhap.mid\n",
      "Loading Music File: /chpn-p17.mid\n",
      "Loading Music File: /chpn-p10.mid\n",
      "Loading Music File: /beethoven_opus10_2.mid\n",
      "Loading Music File: /bor_ps4.mid\n",
      "Loading Music File: /mond_3.mid\n",
      "Loading Music File: /beethoven_hammerklavier_3.mid\n",
      "Loading Music File: /chpn-p21.mid\n",
      "Loading Music File: /beethoven_les_adieux_2.mid\n",
      "Loading Music File: /burg_quelle.mid\n",
      "Loading Music File: /waldstein_3.mid\n",
      "Loading Music File: /chpn_op25_e12.mid\n",
      "Loading Music File: /brahms_opus117_2.mid\n",
      "Loading Music File: /beethoven_opus22_2.mid\n",
      "Loading Music File: /chpn_op66.mid\n",
      "Loading Music File: /pathetique_1.mid\n",
      "Loading Music File: /chpn_op53.mid\n",
      "Loading Music File: /chpn-p6.mid\n",
      "Loading Music File: /alb_se4.mid\n",
      "Loading Music File: /waldstein_1.mid\n",
      "Loading Music File: /chpn-p20.mid\n",
      "Loading Music File: /chpn-p22.mid\n"
     ]
    }
   ],
   "source": [
    "path='/'\n",
    "\n",
    "#read all the filenames\n",
    "files=[i for i in os.listdir(path) if i.endswith(\".mid\")]\n",
    "\n",
    "#reading each midi file\n",
    "notes_array = np.array([read_midi(path+i) for i in files])\n",
    "#read in these particular files from archive(1) in google colab"
   ]
  },
  {
   "cell_type": "markdown",
   "id": "MkfprYNk46t7",
   "metadata": {
    "id": "MkfprYNk46t7"
   },
   "source": [
    "Increased the quantity of midi files for this iteration to over 120 files."
   ]
  },
  {
   "cell_type": "code",
   "execution_count": null,
   "id": "3c6ec789-99c4-4eaa-8e9e-4b54176faebb",
   "metadata": {},
   "outputs": [],
   "source": [
    "#flatten array\n",
    "notes_ = [element for note_ in notes_array for element in note_]\n",
    "\n",
    "#No. of unique notes\n",
    "unique_notes = list(set(notes_))\n",
    "print(len(unique_notes))"
   ]
  },
  {
   "cell_type": "code",
   "execution_count": 31,
   "id": "GQ_IcslsNCZ_",
   "metadata": {
    "colab": {
     "base_uri": "https://localhost:8080/"
    },
    "id": "GQ_IcslsNCZ_",
    "outputId": "2f26e1ef-cd35-424e-be7c-83b3f0634fd3"
   },
   "outputs": [
    {
     "name": "stdout",
     "output_type": "stream",
     "text": [
      "178053\n"
     ]
    }
   ],
   "source": [
    "print(len(notes_))"
   ]
  },
  {
   "cell_type": "code",
   "execution_count": 32,
   "id": "J-sipqNLNCQE",
   "metadata": {
    "colab": {
     "base_uri": "https://localhost:8080/"
    },
    "id": "J-sipqNLNCQE",
    "outputId": "22912f4b-9ab9-4345-f4f2-bc2e1f5b1786"
   },
   "outputs": [
    {
     "name": "stdout",
     "output_type": "stream",
     "text": [
      "First fifty notes: ['F5', 'C#3', 'G#3', 'C#5', 'G#4', '1.5', 'G#3', 'G#3', 'G#3', 'B-4', '1.5', 'G#3', 'C5', '3.6', 'G#3', 'G#3', 'G#3', 'B-3', 'G#3', 'C#5', '1.5', 'G#3', '3.6', 'C4', 'G#3', '5.8', '6.10', 'G#3', 'G#3', 'G#3', '8.1', 'F5', 'G#3', 'G#4', 'F5', 'C4', 'G#3', 'F#4', 'E-5', 'G#3', 'C#5', '1.5', 'G#3', 'E-5', 'E-5', '0.6', 'F5', 'E-5', 'D5', 'E-5']\n"
     ]
    }
   ],
   "source": [
    "print(\"First fifty notes:\",notes_[:50])"
   ]
  },
  {
   "cell_type": "code",
   "execution_count": 79,
   "id": "S7ZcG439NCEP",
   "metadata": {
    "colab": {
     "base_uri": "https://localhost:8080/",
     "height": 517
    },
    "id": "S7ZcG439NCEP",
    "outputId": "a2d7d598-7f7b-4a67-f1be-7cb849a15d4e"
   },
   "outputs": [
    {
     "data": {
      "image/png": "[encoded data removed]",
      "text/plain": [
       "<Figure size 720x576 with 1 Axes>"
      ]
     },
     "metadata": {
      "image/png": {
       "height": 500,
       "width": 615
      },
      "needs_background": "light"
     },
     "output_type": "display_data"
    }
   ],
   "source": [
    "#computing frequency of each note\n",
    "freq = dict(Counter(notes_))\n",
    "\n",
    "#consider only the frequencies\n",
    "only_freq=[count for _,count in freq.items()]\n",
    "\n",
    "plt.figure(figsize=(10,8))\n",
    "\n",
    "plt.title(\"Frequency distribution of the notes\", fontsize=15)\n",
    "plt.ylabel('Count', fontsize= 13)\n",
    "plt.xlabel('Frequencies', fontsize= 13)\n",
    "plt.hist(only_freq, color = 'blue')\n",
    "plt.savefig('2nddistplot.png');"
   ]
  },
  {
   "cell_type": "markdown",
   "id": "8BAImE4d5Ng0",
   "metadata": {
    "id": "8BAImE4d5Ng0"
   },
   "source": [
    "When increasing the number of songs, we still encounter the same fact that low frequencies are the most widely used in music. "
   ]
  },
  {
   "cell_type": "code",
   "execution_count": 34,
   "id": "m_dA72QfNB6t",
   "metadata": {
    "colab": {
     "base_uri": "https://localhost:8080/"
    },
    "id": "m_dA72QfNB6t",
    "outputId": "8dd5638c-6f61-46b9-fff9-1e38ce8a6aab"
   },
   "outputs": [
    {
     "name": "stdout",
     "output_type": "stream",
     "text": [
      "210\n"
     ]
    }
   ],
   "source": [
    "frequent_notes = [note_ for note_, count in freq.items() if count>=40]\n",
    "#for this modeling frequent notes has been redefined to >40.  \n",
    "#We had it initially defined as >50 in the first version of the model\n",
    "print(len(frequent_notes))"
   ]
  },
  {
   "cell_type": "code",
   "execution_count": 35,
   "id": "7d27505d-a0f7-4a17-939c-d9020b65e260",
   "metadata": {
    "id": "7d27505d-a0f7-4a17-939c-d9020b65e260"
   },
   "outputs": [],
   "source": [
    "#files will only contain frequent notes\n",
    "new_music=[]\n",
    "\n",
    "for notes in notes_array:\n",
    "    temp=[]\n",
    "    for note_ in notes:\n",
    "        if note_ in frequent_notes:\n",
    "            temp.append(note_)            \n",
    "    new_music.append(temp)\n",
    "    \n",
    "new_music = np.array(new_music)"
   ]
  },
  {
   "cell_type": "code",
   "execution_count": 36,
   "id": "HuG7kgsaRWPc",
   "metadata": {
    "id": "HuG7kgsaRWPc"
   },
   "outputs": [],
   "source": [
    "#preparing input and output sequences where input is sequence of amplitude values and the output is the subsequent value\n",
    "no_of_timesteps = 32\n",
    "x = []\n",
    "y = []\n",
    "\n",
    "for note_ in new_music:\n",
    "    for i in range(0, len(note_) - no_of_timesteps, 1):\n",
    "        \n",
    "        #preparing input and output sequences\n",
    "        input_ = note_[i:i + no_of_timesteps]\n",
    "        output = note_[i + no_of_timesteps]\n",
    "        \n",
    "        x.append(input_)\n",
    "        y.append(output)\n",
    "        \n",
    "x=np.array(x)\n",
    "y=np.array(y)"
   ]
  },
  {
   "cell_type": "code",
   "execution_count": 37,
   "id": "D5AJZy2IRXAh",
   "metadata": {
    "id": "D5AJZy2IRXAh"
   },
   "outputs": [],
   "source": [
    "#Each note gets a unique integer\n",
    "unique_x = list(set(x.ravel()))\n",
    "x_note_to_int = dict((note_, number) for number, note_ in enumerate(unique_x))"
   ]
  },
  {
   "cell_type": "code",
   "execution_count": 38,
   "id": "OQxqFjshRbX_",
   "metadata": {
    "id": "OQxqFjshRbX_"
   },
   "outputs": [],
   "source": [
    "#preparing input sequences\n",
    "x_seq=[]\n",
    "for i in x:\n",
    "    temp=[]\n",
    "    for j in i:\n",
    "        #assigning unique integer to every note\n",
    "        temp.append(x_note_to_int[j])\n",
    "    x_seq.append(temp)\n",
    "    \n",
    "x_seq = np.array(x_seq)"
   ]
  },
  {
   "cell_type": "code",
   "execution_count": 39,
   "id": "aZ5yohR0RfhL",
   "metadata": {
    "id": "aZ5yohR0RfhL"
   },
   "outputs": [],
   "source": [
    "#preparing integer sequences for output data.\n",
    "unique_y = list(set(y))\n",
    "y_note_to_int = dict((note_, number) for number, note_ in enumerate(unique_y)) \n",
    "y_seq=np.array([y_note_to_int[i] for i in y])"
   ]
  },
  {
   "cell_type": "code",
   "execution_count": 44,
   "id": "sBNUBocRUV7r",
   "metadata": {
    "id": "sBNUBocRUV7r"
   },
   "outputs": [],
   "source": [
    "x_tr, x_val, y_tr, y_val = train_test_split(x_seq,y_seq,test_size=0.2,random_state=0)"
   ]
  },
  {
   "cell_type": "code",
   "execution_count": 41,
   "id": "ZZWsbtfRRqJ3",
   "metadata": {
    "colab": {
     "base_uri": "https://localhost:8080/"
    },
    "id": "ZZWsbtfRRqJ3",
    "outputId": "cc2460a4-e206-4d80-d36e-69beca1b5578"
   },
   "outputs": [
    {
     "name": "stdout",
     "output_type": "stream",
     "text": [
      "Model: \"sequential\"\n",
      "_________________________________________________________________\n",
      " Layer (type)                Output Shape              Param #   \n",
      "=================================================================\n",
      " embedding (Embedding)       (None, 32, 100)           21000     \n",
      "                                                                 \n",
      " conv1d (Conv1D)             (None, 32, 32)            9632      \n",
      "                                                                 \n",
      " dropout (Dropout)           (None, 32, 32)            0         \n",
      "                                                                 \n",
      " max_pooling1d (MaxPooling1D  (None, 16, 32)           0         \n",
      " )                                                               \n",
      "                                                                 \n",
      " conv1d_1 (Conv1D)           (None, 16, 64)            6208      \n",
      "                                                                 \n",
      " dropout_1 (Dropout)         (None, 16, 64)            0         \n",
      "                                                                 \n",
      " max_pooling1d_1 (MaxPooling  (None, 8, 64)            0         \n",
      " 1D)                                                             \n",
      "                                                                 \n",
      " conv1d_2 (Conv1D)           (None, 8, 128)            24704     \n",
      "                                                                 \n",
      " dropout_2 (Dropout)         (None, 8, 128)            0         \n",
      "                                                                 \n",
      " max_pooling1d_2 (MaxPooling  (None, 4, 128)           0         \n",
      " 1D)                                                             \n",
      "                                                                 \n",
      " conv1d_3 (Conv1D)           (None, 4, 256)            98560     \n",
      "                                                                 \n",
      " dropout_3 (Dropout)         (None, 4, 256)            0         \n",
      "                                                                 \n",
      " max_pooling1d_3 (MaxPooling  (None, 2, 256)           0         \n",
      " 1D)                                                             \n",
      "                                                                 \n",
      " global_max_pooling1d (Globa  (None, 256)              0         \n",
      " lMaxPooling1D)                                                  \n",
      "                                                                 \n",
      " dense (Dense)               (None, 256)               65792     \n",
      "                                                                 \n",
      " dense_1 (Dense)             (None, 210)               53970     \n",
      "                                                                 \n",
      "=================================================================\n",
      "Total params: 279,866\n",
      "Trainable params: 279,866\n",
      "Non-trainable params: 0\n",
      "_________________________________________________________________\n"
     ]
    }
   ],
   "source": [
    "model = Sequential()\n",
    "\n",
    "model.add(Embedding(len(unique_x), 100, input_length=32, trainable=True))\n",
    "#conv1d learns local patterns of dta in cnns\n",
    "model.add(Conv1D(32,3, padding= 'causal', activation = 'relu'))\n",
    "#added layer from original model\n",
    "model.add(Dropout(0.4))\n",
    "model.add(MaxPool1D(2))\n",
    "model.add(Conv1D(64,3, padding = 'causal', activation = 'relu'))\n",
    "#increase dropouts\n",
    "model.add(Dropout(0.4))\n",
    "# reduce dimensionality of this vector and overfitting, \n",
    "# we dont want to just repeat notes\n",
    "model.add(MaxPool1D(2))\n",
    "model.add(Conv1D(128,3, activation= 'relu', dilation_rate=2, padding='causal'))\n",
    "#increase dropout again\n",
    "model.add(Dropout(0.4))\n",
    "model.add(MaxPool1D(2))\n",
    "model.add(Conv1D(256,3, activation = 'relu', dilation_rate=4, padding= 'causal'))\n",
    "model.add(Dropout(0.4))\n",
    "model.add(MaxPool1D(2))\n",
    "\n",
    "model.add(GlobalMaxPool1D())\n",
    "\n",
    "model.add(Dense(256, activation='relu'))\n",
    "model.add(Dense(len(unique_y), activation = 'softmax'))\n",
    "\n",
    "model.compile(loss = 'sparse_categorical_crossentropy', optimizer=Adam(lr=0.0005))\n",
    "#decreased adam learning rate to .00005 from default in original model\n",
    "model.summary()"
   ]
  },
  {
   "cell_type": "code",
   "execution_count": 42,
   "id": "SNyghY7-T-Yw",
   "metadata": {
    "id": "SNyghY7-T-Yw"
   },
   "outputs": [],
   "source": [
    "mc=ModelCheckpoint('best_model_2.h5', monitor = 'val_loss', mode = 'min',\n",
    "                   save_best_only=True, verbose =1)"
   ]
  },
  {
   "cell_type": "code",
   "execution_count": 45,
   "id": "Nxq4X76ZUCr_",
   "metadata": {
    "colab": {
     "base_uri": "https://localhost:8080/"
    },
    "id": "Nxq4X76ZUCr_",
    "outputId": "aa99732c-26ba-49a1-e388-e716be4dd336"
   },
   "outputs": [
    {
     "name": "stdout",
     "output_type": "stream",
     "text": [
      "Epoch 1/65\n",
      "2164/2164 [==============================] - ETA: 0s - loss: 4.3411\n",
      "Epoch 00001: val_loss improved from inf to 4.58382, saving model to best_model_2.h5\n",
      "2164/2164 [==============================] - 24s 6ms/step - loss: 4.3411 - val_loss: 4.5838\n",
      "Epoch 2/65\n",
      "2157/2164 [============================>.] - ETA: 0s - loss: 4.0372\n",
      "Epoch 00002: val_loss improved from 4.58382 to 4.41425, saving model to best_model_2.h5\n",
      "2164/2164 [==============================] - 14s 7ms/step - loss: 4.0372 - val_loss: 4.4142\n",
      "Epoch 3/65\n",
      "2164/2164 [==============================] - ETA: 0s - loss: 3.9468\n",
      "Epoch 00003: val_loss improved from 4.41425 to 4.25359, saving model to best_model_2.h5\n",
      "2164/2164 [==============================] - 14s 6ms/step - loss: 3.9468 - val_loss: 4.2536\n",
      "Epoch 4/65\n",
      "2161/2164 [============================>.] - ETA: 0s - loss: 3.8863\n",
      "Epoch 00004: val_loss improved from 4.25359 to 4.22513, saving model to best_model_2.h5\n",
      "2164/2164 [==============================] - 14s 6ms/step - loss: 3.8863 - val_loss: 4.2251\n",
      "Epoch 5/65\n",
      "2164/2164 [==============================] - ETA: 0s - loss: 3.8309\n",
      "Epoch 00005: val_loss improved from 4.22513 to 4.10750, saving model to best_model_2.h5\n",
      "2164/2164 [==============================] - 14s 6ms/step - loss: 3.8309 - val_loss: 4.1075\n",
      "Epoch 6/65\n",
      "2162/2164 [============================>.] - ETA: 0s - loss: 3.7887\n",
      "Epoch 00006: val_loss improved from 4.10750 to 4.05531, saving model to best_model_2.h5\n",
      "2164/2164 [==============================] - 14s 6ms/step - loss: 3.7886 - val_loss: 4.0553\n",
      "Epoch 7/65\n",
      "2157/2164 [============================>.] - ETA: 0s - loss: 3.7580\n",
      "Epoch 00007: val_loss improved from 4.05531 to 4.04010, saving model to best_model_2.h5\n",
      "2164/2164 [==============================] - 14s 6ms/step - loss: 3.7578 - val_loss: 4.0401\n",
      "Epoch 8/65\n",
      "2160/2164 [============================>.] - ETA: 0s - loss: 3.7324\n",
      "Epoch 00008: val_loss improved from 4.04010 to 4.00396, saving model to best_model_2.h5\n",
      "2164/2164 [==============================] - 14s 6ms/step - loss: 3.7324 - val_loss: 4.0040\n",
      "Epoch 9/65\n",
      "2163/2164 [============================>.] - ETA: 0s - loss: 3.7125\n",
      "Epoch 00009: val_loss improved from 4.00396 to 3.95132, saving model to best_model_2.h5\n",
      "2164/2164 [==============================] - 14s 6ms/step - loss: 3.7125 - val_loss: 3.9513\n",
      "Epoch 10/65\n",
      "2161/2164 [============================>.] - ETA: 0s - loss: 3.6940\n",
      "Epoch 00010: val_loss improved from 3.95132 to 3.94704, saving model to best_model_2.h5\n",
      "2164/2164 [==============================] - 14s 6ms/step - loss: 3.6940 - val_loss: 3.9470\n",
      "Epoch 11/65\n",
      "2162/2164 [============================>.] - ETA: 0s - loss: 3.6756\n",
      "Epoch 00011: val_loss improved from 3.94704 to 3.93372, saving model to best_model_2.h5\n",
      "2164/2164 [==============================] - 14s 6ms/step - loss: 3.6757 - val_loss: 3.9337\n",
      "Epoch 12/65\n",
      "2164/2164 [==============================] - ETA: 0s - loss: 3.6604\n",
      "Epoch 00012: val_loss improved from 3.93372 to 3.88433, saving model to best_model_2.h5\n",
      "2164/2164 [==============================] - 14s 6ms/step - loss: 3.6604 - val_loss: 3.8843\n",
      "Epoch 13/65\n",
      "2156/2164 [============================>.] - ETA: 0s - loss: 3.6462\n",
      "Epoch 00013: val_loss did not improve from 3.88433\n",
      "2164/2164 [==============================] - 13s 6ms/step - loss: 3.6461 - val_loss: 3.8850\n",
      "Epoch 14/65\n",
      "2155/2164 [============================>.] - ETA: 0s - loss: 3.6340\n",
      "Epoch 00014: val_loss improved from 3.88433 to 3.86980, saving model to best_model_2.h5\n",
      "2164/2164 [==============================] - 13s 6ms/step - loss: 3.6339 - val_loss: 3.8698\n",
      "Epoch 15/65\n",
      "2157/2164 [============================>.] - ETA: 0s - loss: 3.6205\n",
      "Epoch 00015: val_loss improved from 3.86980 to 3.84337, saving model to best_model_2.h5\n",
      "2164/2164 [==============================] - 13s 6ms/step - loss: 3.6209 - val_loss: 3.8434\n",
      "Epoch 16/65\n",
      "2164/2164 [==============================] - ETA: 0s - loss: 3.6112\n",
      "Epoch 00016: val_loss did not improve from 3.84337\n",
      "2164/2164 [==============================] - 13s 6ms/step - loss: 3.6112 - val_loss: 3.8481\n",
      "Epoch 17/65\n",
      "2159/2164 [============================>.] - ETA: 0s - loss: 3.6036\n",
      "Epoch 00017: val_loss improved from 3.84337 to 3.83194, saving model to best_model_2.h5\n",
      "2164/2164 [==============================] - 13s 6ms/step - loss: 3.6034 - val_loss: 3.8319\n",
      "Epoch 18/65\n",
      "2158/2164 [============================>.] - ETA: 0s - loss: 3.5954\n",
      "Epoch 00018: val_loss improved from 3.83194 to 3.80996, saving model to best_model_2.h5\n",
      "2164/2164 [==============================] - 13s 6ms/step - loss: 3.5955 - val_loss: 3.8100\n",
      "Epoch 19/65\n",
      "2158/2164 [============================>.] - ETA: 0s - loss: 3.5877\n",
      "Epoch 00019: val_loss did not improve from 3.80996\n",
      "2164/2164 [==============================] - 13s 6ms/step - loss: 3.5877 - val_loss: 3.8200\n",
      "Epoch 20/65\n",
      "2158/2164 [============================>.] - ETA: 0s - loss: 3.5803\n",
      "Epoch 00020: val_loss improved from 3.80996 to 3.80639, saving model to best_model_2.h5\n",
      "2164/2164 [==============================] - 14s 6ms/step - loss: 3.5804 - val_loss: 3.8064\n",
      "Epoch 21/65\n",
      "2162/2164 [============================>.] - ETA: 0s - loss: 3.5714\n",
      "Epoch 00021: val_loss did not improve from 3.80639\n",
      "2164/2164 [==============================] - 14s 7ms/step - loss: 3.5713 - val_loss: 3.8069\n",
      "Epoch 22/65\n",
      "2160/2164 [============================>.] - ETA: 0s - loss: 3.5646\n",
      "Epoch 00022: val_loss improved from 3.80639 to 3.79758, saving model to best_model_2.h5\n",
      "2164/2164 [==============================] - 14s 6ms/step - loss: 3.5646 - val_loss: 3.7976\n",
      "Epoch 23/65\n",
      "2163/2164 [============================>.] - ETA: 0s - loss: 3.5580\n",
      "Epoch 00023: val_loss did not improve from 3.79758\n",
      "2164/2164 [==============================] - 14s 6ms/step - loss: 3.5580 - val_loss: 3.7988\n",
      "Epoch 24/65\n",
      "2161/2164 [============================>.] - ETA: 0s - loss: 3.5548\n",
      "Epoch 00024: val_loss improved from 3.79758 to 3.77397, saving model to best_model_2.h5\n",
      "2164/2164 [==============================] - 14s 6ms/step - loss: 3.5547 - val_loss: 3.7740\n",
      "Epoch 25/65\n",
      "2159/2164 [============================>.] - ETA: 0s - loss: 3.5511\n",
      "Epoch 00025: val_loss improved from 3.77397 to 3.77268, saving model to best_model_2.h5\n",
      "2164/2164 [==============================] - 14s 6ms/step - loss: 3.5511 - val_loss: 3.7727\n",
      "Epoch 26/65\n",
      "2162/2164 [============================>.] - ETA: 0s - loss: 3.5451\n",
      "Epoch 00026: val_loss improved from 3.77268 to 3.76756, saving model to best_model_2.h5\n",
      "2164/2164 [==============================] - 14s 6ms/step - loss: 3.5451 - val_loss: 3.7676\n",
      "Epoch 27/65\n",
      "2164/2164 [==============================] - ETA: 0s - loss: 3.5402\n",
      "Epoch 00027: val_loss did not improve from 3.76756\n",
      "2164/2164 [==============================] - 14s 6ms/step - loss: 3.5402 - val_loss: 3.7738\n",
      "Epoch 28/65\n",
      "2158/2164 [============================>.] - ETA: 0s - loss: 3.5360\n",
      "Epoch 00028: val_loss improved from 3.76756 to 3.75575, saving model to best_model_2.h5\n",
      "2164/2164 [==============================] - 14s 6ms/step - loss: 3.5360 - val_loss: 3.7558\n",
      "Epoch 29/65\n",
      "2161/2164 [============================>.] - ETA: 0s - loss: 3.5318\n",
      "Epoch 00029: val_loss did not improve from 3.75575\n",
      "2164/2164 [==============================] - 13s 6ms/step - loss: 3.5318 - val_loss: 3.7601\n",
      "Epoch 30/65\n",
      "2162/2164 [============================>.] - ETA: 0s - loss: 3.5309\n",
      "Epoch 00030: val_loss did not improve from 3.75575\n",
      "2164/2164 [==============================] - 14s 6ms/step - loss: 3.5310 - val_loss: 3.7663\n",
      "Epoch 31/65\n",
      "2157/2164 [============================>.] - ETA: 0s - loss: 3.5232\n",
      "Epoch 00031: val_loss did not improve from 3.75575\n",
      "2164/2164 [==============================] - 14s 6ms/step - loss: 3.5233 - val_loss: 3.7640\n",
      "Epoch 32/65\n",
      "2159/2164 [============================>.] - ETA: 0s - loss: 3.5190\n",
      "Epoch 00032: val_loss improved from 3.75575 to 3.74754, saving model to best_model_2.h5\n",
      "2164/2164 [==============================] - 14s 6ms/step - loss: 3.5191 - val_loss: 3.7475\n",
      "Epoch 33/65\n",
      "2160/2164 [============================>.] - ETA: 0s - loss: 3.5185\n",
      "Epoch 00033: val_loss did not improve from 3.74754\n",
      "2164/2164 [==============================] - 14s 6ms/step - loss: 3.5186 - val_loss: 3.7510\n",
      "Epoch 34/65\n",
      "2157/2164 [============================>.] - ETA: 0s - loss: 3.5130\n",
      "Epoch 00034: val_loss improved from 3.74754 to 3.73656, saving model to best_model_2.h5\n",
      "2164/2164 [==============================] - 14s 6ms/step - loss: 3.5128 - val_loss: 3.7366\n",
      "Epoch 35/65\n",
      "2161/2164 [============================>.] - ETA: 0s - loss: 3.5124\n",
      "Epoch 00035: val_loss improved from 3.73656 to 3.73509, saving model to best_model_2.h5\n",
      "2164/2164 [==============================] - 14s 6ms/step - loss: 3.5124 - val_loss: 3.7351\n",
      "Epoch 36/65\n",
      "2163/2164 [============================>.] - ETA: 0s - loss: 3.5075\n",
      "Epoch 00036: val_loss improved from 3.73509 to 3.72841, saving model to best_model_2.h5\n",
      "2164/2164 [==============================] - 14s 6ms/step - loss: 3.5075 - val_loss: 3.7284\n",
      "Epoch 37/65\n",
      "2159/2164 [============================>.] - ETA: 0s - loss: 3.5077\n",
      "Epoch 00037: val_loss improved from 3.72841 to 3.72734, saving model to best_model_2.h5\n",
      "2164/2164 [==============================] - 14s 6ms/step - loss: 3.5077 - val_loss: 3.7273\n",
      "Epoch 38/65\n",
      "2156/2164 [============================>.] - ETA: 0s - loss: 3.5014\n",
      "Epoch 00038: val_loss did not improve from 3.72734\n",
      "2164/2164 [==============================] - 14s 6ms/step - loss: 3.5015 - val_loss: 3.7335\n",
      "Epoch 39/65\n",
      "2160/2164 [============================>.] - ETA: 0s - loss: 3.4989\n",
      "Epoch 00039: val_loss improved from 3.72734 to 3.70775, saving model to best_model_2.h5\n",
      "2164/2164 [==============================] - 14s 6ms/step - loss: 3.4989 - val_loss: 3.7077\n",
      "Epoch 40/65\n",
      "2162/2164 [============================>.] - ETA: 0s - loss: 3.4990\n",
      "Epoch 00040: val_loss did not improve from 3.70775\n",
      "2164/2164 [==============================] - 14s 6ms/step - loss: 3.4989 - val_loss: 3.7194\n",
      "Epoch 41/65\n",
      "2162/2164 [============================>.] - ETA: 0s - loss: 3.4964\n",
      "Epoch 00041: val_loss did not improve from 3.70775\n",
      "2164/2164 [==============================] - 14s 6ms/step - loss: 3.4965 - val_loss: 3.7302\n",
      "Epoch 42/65\n",
      "2160/2164 [============================>.] - ETA: 0s - loss: 3.4922\n",
      "Epoch 00042: val_loss did not improve from 3.70775\n",
      "2164/2164 [==============================] - 14s 6ms/step - loss: 3.4922 - val_loss: 3.7245\n",
      "Epoch 43/65\n",
      "2161/2164 [============================>.] - ETA: 0s - loss: 3.4873\n",
      "Epoch 00043: val_loss improved from 3.70775 to 3.70737, saving model to best_model_2.h5\n",
      "2164/2164 [==============================] - 14s 6ms/step - loss: 3.4872 - val_loss: 3.7074\n",
      "Epoch 44/65\n",
      "2158/2164 [============================>.] - ETA: 0s - loss: 3.4900\n",
      "Epoch 00044: val_loss improved from 3.70737 to 3.70343, saving model to best_model_2.h5\n",
      "2164/2164 [==============================] - 14s 6ms/step - loss: 3.4902 - val_loss: 3.7034\n",
      "Epoch 45/65\n",
      "2156/2164 [============================>.] - ETA: 0s - loss: 3.4847\n",
      "Epoch 00045: val_loss did not improve from 3.70343\n",
      "2164/2164 [==============================] - 14s 6ms/step - loss: 3.4849 - val_loss: 3.7113\n",
      "Epoch 46/65\n",
      "2157/2164 [============================>.] - ETA: 0s - loss: 3.4872\n",
      "Epoch 00046: val_loss did not improve from 3.70343\n",
      "2164/2164 [==============================] - 13s 6ms/step - loss: 3.4875 - val_loss: 3.7071\n",
      "Epoch 47/65\n",
      "2163/2164 [============================>.] - ETA: 0s - loss: 3.4830\n",
      "Epoch 00047: val_loss did not improve from 3.70343\n",
      "2164/2164 [==============================] - 14s 6ms/step - loss: 3.4830 - val_loss: 3.7161\n",
      "Epoch 48/65\n",
      "2156/2164 [============================>.] - ETA: 0s - loss: 3.4799\n",
      "Epoch 00048: val_loss did not improve from 3.70343\n",
      "2164/2164 [==============================] - 14s 6ms/step - loss: 3.4800 - val_loss: 3.7243\n",
      "Epoch 49/65\n",
      "2159/2164 [============================>.] - ETA: 0s - loss: 3.4775\n",
      "Epoch 00049: val_loss improved from 3.70343 to 3.69706, saving model to best_model_2.h5\n",
      "2164/2164 [==============================] - 13s 6ms/step - loss: 3.4774 - val_loss: 3.6971\n",
      "Epoch 50/65\n",
      "2164/2164 [==============================] - ETA: 0s - loss: 3.4808\n",
      "Epoch 00050: val_loss did not improve from 3.69706\n",
      "2164/2164 [==============================] - 13s 6ms/step - loss: 3.4808 - val_loss: 3.7063\n",
      "Epoch 51/65\n",
      "2162/2164 [============================>.] - ETA: 0s - loss: 3.4784\n",
      "Epoch 00051: val_loss did not improve from 3.69706\n",
      "2164/2164 [==============================] - 13s 6ms/step - loss: 3.4785 - val_loss: 3.7074\n",
      "Epoch 52/65\n",
      "2159/2164 [============================>.] - ETA: 0s - loss: 3.4737\n",
      "Epoch 00052: val_loss did not improve from 3.69706\n",
      "2164/2164 [==============================] - 14s 6ms/step - loss: 3.4738 - val_loss: 3.6988\n",
      "Epoch 53/65\n",
      "2159/2164 [============================>.] - ETA: 0s - loss: 3.4742\n",
      "Epoch 00053: val_loss did not improve from 3.69706\n",
      "2164/2164 [==============================] - 13s 6ms/step - loss: 3.4742 - val_loss: 3.7101\n",
      "Epoch 54/65\n",
      "2163/2164 [============================>.] - ETA: 0s - loss: 3.4704\n",
      "Epoch 00054: val_loss did not improve from 3.69706\n",
      "2164/2164 [==============================] - 14s 6ms/step - loss: 3.4703 - val_loss: 3.7032\n",
      "Epoch 55/65\n",
      "2156/2164 [============================>.] - ETA: 0s - loss: 3.4740\n",
      "Epoch 00055: val_loss did not improve from 3.69706\n",
      "2164/2164 [==============================] - 14s 6ms/step - loss: 3.4740 - val_loss: 3.7003\n",
      "Epoch 56/65\n",
      "2159/2164 [============================>.] - ETA: 0s - loss: 3.4683\n",
      "Epoch 00056: val_loss improved from 3.69706 to 3.69654, saving model to best_model_2.h5\n",
      "2164/2164 [==============================] - 14s 6ms/step - loss: 3.4685 - val_loss: 3.6965\n",
      "Epoch 57/65\n",
      "2160/2164 [============================>.] - ETA: 0s - loss: 3.4697\n",
      "Epoch 00057: val_loss did not improve from 3.69654\n",
      "2164/2164 [==============================] - 14s 6ms/step - loss: 3.4696 - val_loss: 3.7031\n",
      "Epoch 58/65\n",
      "2157/2164 [============================>.] - ETA: 0s - loss: 3.4678\n",
      "Epoch 00058: val_loss did not improve from 3.69654\n",
      "2164/2164 [==============================] - 14s 6ms/step - loss: 3.4678 - val_loss: 3.7007\n",
      "Epoch 59/65\n",
      "2160/2164 [============================>.] - ETA: 0s - loss: 3.4669\n",
      "Epoch 00059: val_loss improved from 3.69654 to 3.69368, saving model to best_model_2.h5\n",
      "2164/2164 [==============================] - 14s 6ms/step - loss: 3.4671 - val_loss: 3.6937\n",
      "Epoch 60/65\n",
      "2158/2164 [============================>.] - ETA: 0s - loss: 3.4637\n",
      "Epoch 00060: val_loss did not improve from 3.69368\n",
      "2164/2164 [==============================] - 14s 6ms/step - loss: 3.4639 - val_loss: 3.7020\n",
      "Epoch 61/65\n",
      "2163/2164 [============================>.] - ETA: 0s - loss: 3.4642\n",
      "Epoch 00061: val_loss did not improve from 3.69368\n",
      "2164/2164 [==============================] - 13s 6ms/step - loss: 3.4642 - val_loss: 3.7008\n",
      "Epoch 62/65\n",
      "2163/2164 [============================>.] - ETA: 0s - loss: 3.4625\n",
      "Epoch 00062: val_loss improved from 3.69368 to 3.69174, saving model to best_model_2.h5\n",
      "2164/2164 [==============================] - 14s 6ms/step - loss: 3.4626 - val_loss: 3.6917\n",
      "Epoch 63/65\n",
      "2158/2164 [============================>.] - ETA: 0s - loss: 3.4617\n",
      "Epoch 00063: val_loss did not improve from 3.69174\n",
      "2164/2164 [==============================] - 13s 6ms/step - loss: 3.4618 - val_loss: 3.7017\n",
      "Epoch 64/65\n",
      "2164/2164 [==============================] - ETA: 0s - loss: 3.4617\n",
      "Epoch 00064: val_loss did not improve from 3.69174\n",
      "2164/2164 [==============================] - 13s 6ms/step - loss: 3.4617 - val_loss: 3.6991\n",
      "Epoch 65/65\n",
      "2159/2164 [============================>.] - ETA: 0s - loss: 3.4614\n",
      "Epoch 00065: val_loss did not improve from 3.69174\n",
      "2164/2164 [==============================] - 13s 6ms/step - loss: 3.4616 - val_loss: 3.6976\n"
     ]
    }
   ],
   "source": [
    "history = model.fit(np.array(x_tr), np.array(y_tr), batch_size=64, \n",
    "                    epochs=65, validation_data=(np.array(x_val),\n",
    "                                                np.array(y_val)),verbose =1, callbacks=[mc])\n",
    "#increased epochs and decreased batch size from original model"
   ]
  },
  {
   "cell_type": "code",
   "execution_count": 46,
   "id": "f4Z2AfZuUP9V",
   "metadata": {
    "id": "f4Z2AfZuUP9V"
   },
   "outputs": [],
   "source": [
    "from keras.models import load_model\n",
    "model =load_model('best_model_2.h5')"
   ]
  },
  {
   "cell_type": "code",
   "execution_count": 71,
   "id": "AgVe6-SNYdYf",
   "metadata": {
    "colab": {
     "base_uri": "https://localhost:8080/"
    },
    "id": "AgVe6-SNYdYf",
    "outputId": "7df1fdf9-8558-44cd-b69c-5fa5ab0163e0"
   },
   "outputs": [
    {
     "name": "stdout",
     "output_type": "stream",
     "text": [
      "[82, 170, 39, 39, 82, 82, 82, 82, 82, 82, 82, 82, 82, 82, 82]\n"
     ]
    }
   ],
   "source": [
    "import random\n",
    "ind =np.random.randint(0,len(x_val)-1)\n",
    "\n",
    "random_music = x_val[ind]\n",
    "\n",
    "predictions = []\n",
    "\n",
    "for i in range(15):\n",
    "  random_music = random_music.reshape(1,no_of_timesteps)\n",
    "\n",
    "  prob = model.predict(random_music)[0]\n",
    "\n",
    "  y_pred = np.argmax(prob, axis=0)\n",
    "  predictions.append(y_pred)\n",
    "\n",
    "  random_music=np.insert(random_music[0], len(random_music[0]),y_pred)\n",
    "  random_music = random_music[1:]\n",
    "\n",
    "print(predictions)"
   ]
  },
  {
   "cell_type": "code",
   "execution_count": 72,
   "id": "2Va7MG0mY-nK",
   "metadata": {
    "id": "2Va7MG0mY-nK"
   },
   "outputs": [],
   "source": [
    "x_int_to_note = dict((number, note_) for number, note_ in enumerate(unique_x))\n",
    "\n",
    "predicted_notes = [x_int_to_note[i] for i in predictions]"
   ]
  },
  {
   "cell_type": "code",
   "execution_count": 74,
   "id": "Ao0Q48MjZF_d",
   "metadata": {
    "id": "Ao0Q48MjZF_d"
   },
   "outputs": [],
   "source": [
    "# convert preds to midi files\n",
    "def convert_to_midi(prediction_output):\n",
    "\n",
    "  offset = 0\n",
    "  output_notes = []\n",
    "\n",
    "  for pattern in prediction_output:\n",
    "\n",
    "    if ('.' in pattern) or pattern.isdigit():\n",
    "            notes_in_chord = pattern.split('.')\n",
    "            notes = []\n",
    "            for current_note in notes_in_chord:\n",
    "                \n",
    "                cn=int(current_note)\n",
    "                new_note = note.Note(cn)\n",
    "                new_note.storedInstrument = instrument.Piano()\n",
    "                notes.append(new_note)\n",
    "                \n",
    "            new_chord = chord.Chord(notes)\n",
    "            new_chord.offset = offset\n",
    "            output_notes.append(new_chord)\n",
    "            \n",
    "        # pattern is a note\n",
    "    else:    \n",
    "      new_note = note.Note(pattern)\n",
    "      new_note.offset = offset\n",
    "      new_note.storedInstrument = instrument.Piano()\n",
    "      output_notes.append(new_note)\n",
    "\n",
    "        # increase offset each iteration so that notes do not stack\n",
    "    offset += 1\n",
    "  midi_stream = stream.Stream(output_notes)\n",
    "  midi_stream.write('midi', fp='music2.mid')"
   ]
  },
  {
   "cell_type": "code",
   "execution_count": 96,
   "id": "7V-aGV1DZjbA",
   "metadata": {
    "id": "7V-aGV1DZjbA"
   },
   "outputs": [],
   "source": [
    "convert_to_midi(predicted_notes)"
   ]
  },
  {
   "cell_type": "code",
   "execution_count": 76,
   "id": "NdVGqSjQZklo",
   "metadata": {
    "colab": {
     "base_uri": "https://localhost:8080/"
    },
    "id": "NdVGqSjQZklo",
    "outputId": "92e0d3c0-7d52-4726-f791-365e04bfa0f9"
   },
   "outputs": [
    {
     "data": {
      "text/plain": [
       "['B-4',\n",
       " 'G#4',\n",
       " 'C#5',\n",
       " 'C#5',\n",
       " 'B-4',\n",
       " 'B-4',\n",
       " 'B-4',\n",
       " 'B-4',\n",
       " 'B-4',\n",
       " 'B-4',\n",
       " 'B-4',\n",
       " 'B-4',\n",
       " 'B-4',\n",
       " 'B-4',\n",
       " 'B-4']"
      ]
     },
     "execution_count": 76,
     "metadata": {},
     "output_type": "execute_result"
    }
   ],
   "source": [
    "predicted_notes"
   ]
  },
  {
   "cell_type": "markdown",
   "id": "x_nCMAF77e6h",
   "metadata": {
    "id": "x_nCMAF77e6h"
   },
   "source": [
    "Model worsened, also predictions are underwhelming with the same note appearing 12/15 times."
   ]
  },
  {
   "cell_type": "code",
   "execution_count": 78,
   "id": "4j98PqbfZr93",
   "metadata": {
    "colab": {
     "base_uri": "https://localhost:8080/",
     "height": 498
    },
    "id": "4j98PqbfZr93",
    "outputId": "15fb6728-3774-4fa2-90a2-3bdabe66ed60"
   },
   "outputs": [
    {
     "data": {
      "image/png": "[encoded data removed]",
      "text/plain": [
       "<Figure size 864x576 with 1 Axes>"
      ]
     },
     "metadata": {
      "image/png": {
       "height": 481,
       "width": 706
      },
      "needs_background": "light"
     },
     "output_type": "display_data"
    }
   ],
   "source": [
    "train_loss=history.history['loss']\n",
    "test_loss= history.history['val_loss']\n",
    "\n",
    "\n",
    "plt.figure(figsize=(12,8))\n",
    "plt.title('Training versus Testing loss(model_2)')\n",
    "plt.plot(train_loss, label ='Training Loss', color = 'navy')\n",
    "plt.plot(test_loss, label = 'Testing loss', color = 'red')\n",
    "plt.legend();\n",
    "plt.savefig('2ndmodel_loss_plot.png')"
   ]
  },
  {
   "cell_type": "markdown",
   "id": "Sr1w3niIaGsY",
   "metadata": {
    "id": "Sr1w3niIaGsY"
   },
   "source": [
    "This model actually performed worse than the initial one.  It is even more overfit and has increased its val_loss from 3.04(original model) to 3.69174."
   ]
  },
  {
   "cell_type": "code",
   "execution_count": 80,
   "id": "NPvqL32VaHwI",
   "metadata": {
    "colab": {
     "base_uri": "https://localhost:8080/"
    },
    "id": "NPvqL32VaHwI",
    "outputId": "2264c0cd-ffb7-4add-bf9d-576822adccff"
   },
   "outputs": [
    {
     "name": "stdout",
     "output_type": "stream",
     "text": [
      "Model: \"sequential\"\n",
      "_________________________________________________________________\n",
      " Layer (type)                Output Shape              Param #   \n",
      "=================================================================\n",
      " embedding (Embedding)       (None, 32, 100)           21000     \n",
      "                                                                 \n",
      " conv1d (Conv1D)             (None, 32, 32)            9632      \n",
      "                                                                 \n",
      " dropout (Dropout)           (None, 32, 32)            0         \n",
      "                                                                 \n",
      " max_pooling1d (MaxPooling1D  (None, 16, 32)           0         \n",
      " )                                                               \n",
      "                                                                 \n",
      " conv1d_1 (Conv1D)           (None, 16, 64)            6208      \n",
      "                                                                 \n",
      " dropout_1 (Dropout)         (None, 16, 64)            0         \n",
      "                                                                 \n",
      " max_pooling1d_1 (MaxPooling  (None, 8, 64)            0         \n",
      " 1D)                                                             \n",
      "                                                                 \n",
      " conv1d_2 (Conv1D)           (None, 8, 128)            24704     \n",
      "                                                                 \n",
      " dropout_2 (Dropout)         (None, 8, 128)            0         \n",
      "                                                                 \n",
      " max_pooling1d_2 (MaxPooling  (None, 4, 128)           0         \n",
      " 1D)                                                             \n",
      "                                                                 \n",
      " conv1d_3 (Conv1D)           (None, 4, 256)            98560     \n",
      "                                                                 \n",
      " dropout_3 (Dropout)         (None, 4, 256)            0         \n",
      "                                                                 \n",
      " max_pooling1d_3 (MaxPooling  (None, 2, 256)           0         \n",
      " 1D)                                                             \n",
      "                                                                 \n",
      " global_max_pooling1d (Globa  (None, 256)              0         \n",
      " lMaxPooling1D)                                                  \n",
      "                                                                 \n",
      " dense (Dense)               (None, 256)               65792     \n",
      "                                                                 \n",
      " dense_1 (Dense)             (None, 210)               53970     \n",
      "                                                                 \n",
      "=================================================================\n",
      "Total params: 279,866\n",
      "Trainable params: 279,866\n",
      "Non-trainable params: 0\n",
      "_________________________________________________________________\n"
     ]
    }
   ],
   "source": [
    "model3 = Sequential()\n",
    "\n",
    "model3.add(Embedding(len(unique_x), 100, input_length=32, trainable=True))\n",
    "#conv1d learns local patterns of dta in cnns\n",
    "model3.add(Conv1D(32,3, padding= 'causal', activation = 'relu'))\n",
    "#added layer from original model\n",
    "model3.add(Dropout(0.3))\n",
    "model3.add(MaxPool1D(2))\n",
    "model3.add(Conv1D(64,3, padding = 'causal', activation = 'relu'))\n",
    "#decrease dropouts from second model\n",
    "model3.add(Dropout(0.3))\n",
    "# reduce dimensionality of this vector and overfitting, \n",
    "# we dont want to just repeat notes\n",
    "model3.add(MaxPool1D(2))\n",
    "model3.add(Conv1D(128,3, activation= 'relu', dilation_rate=2, padding='causal'))\n",
    "#increase dropout again\n",
    "model3.add(Dropout(0.3))\n",
    "model3.add(MaxPool1D(2))\n",
    "model3.add(Conv1D(256,3, activation = 'relu', dilation_rate=4, padding= 'causal'))\n",
    "model3.add(Dropout(0.3))\n",
    "model3.add(MaxPool1D(2))\n",
    "\n",
    "model3.add(GlobalMaxPool1D())\n",
    "\n",
    "model3.add(Dense(256, activation='relu'))\n",
    "model3.add(Dense(len(unique_y), activation = 'softmax'))\n",
    "\n",
    "model3.compile(loss = 'sparse_categorical_crossentropy', optimizer=Adam(lr=0.0009))\n",
    "#changed adam learning rate to .00009 increase from 2nd model\n",
    "model.summary()"
   ]
  },
  {
   "cell_type": "code",
   "execution_count": 82,
   "id": "TAFef0b-be_Y",
   "metadata": {
    "id": "TAFef0b-be_Y"
   },
   "outputs": [],
   "source": [
    "mc3=ModelCheckpoint('best_model_3.h5', monitor = 'val_loss', mode = 'min',\n",
    "                   save_best_only=True, verbose =1)"
   ]
  },
  {
   "cell_type": "code",
   "execution_count": 83,
   "id": "v0WMviwdbloc",
   "metadata": {
    "colab": {
     "base_uri": "https://localhost:8080/"
    },
    "id": "v0WMviwdbloc",
    "outputId": "c4198aa1-437e-4b30-b907-49842deb0dea"
   },
   "outputs": [
    {
     "name": "stdout",
     "output_type": "stream",
     "text": [
      "Epoch 1/65\n",
      "2164/2164 [==============================] - ETA: 0s - loss: 4.2530\n",
      "Epoch 00001: val_loss improved from inf to 4.23672, saving model to best_model_3.h5\n",
      "2164/2164 [==============================] - 15s 6ms/step - loss: 4.2530 - val_loss: 4.2367\n",
      "Epoch 2/65\n",
      "2163/2164 [============================>.] - ETA: 0s - loss: 3.9570\n",
      "Epoch 00002: val_loss improved from 4.23672 to 4.13722, saving model to best_model_3.h5\n",
      "2164/2164 [==============================] - 14s 6ms/step - loss: 3.9570 - val_loss: 4.1372\n",
      "Epoch 3/65\n",
      "2164/2164 [==============================] - ETA: 0s - loss: 3.8762\n",
      "Epoch 00003: val_loss improved from 4.13722 to 4.04014, saving model to best_model_3.h5\n",
      "2164/2164 [==============================] - 14s 6ms/step - loss: 3.8762 - val_loss: 4.0401\n",
      "Epoch 4/65\n",
      "2163/2164 [============================>.] - ETA: 0s - loss: 3.8180\n",
      "Epoch 00004: val_loss improved from 4.04014 to 3.97372, saving model to best_model_3.h5\n",
      "2164/2164 [==============================] - 14s 6ms/step - loss: 3.8180 - val_loss: 3.9737\n",
      "Epoch 5/65\n",
      "2164/2164 [==============================] - ETA: 0s - loss: 3.7667\n",
      "Epoch 00005: val_loss improved from 3.97372 to 3.89204, saving model to best_model_3.h5\n",
      "2164/2164 [==============================] - 14s 6ms/step - loss: 3.7667 - val_loss: 3.8920\n",
      "Epoch 6/65\n",
      "2157/2164 [============================>.] - ETA: 0s - loss: 3.7348\n",
      "Epoch 00006: val_loss improved from 3.89204 to 3.88621, saving model to best_model_3.h5\n",
      "2164/2164 [==============================] - 14s 6ms/step - loss: 3.7350 - val_loss: 3.8862\n",
      "Epoch 7/65\n",
      "2163/2164 [============================>.] - ETA: 0s - loss: 3.7040\n",
      "Epoch 00007: val_loss improved from 3.88621 to 3.83093, saving model to best_model_3.h5\n",
      "2164/2164 [==============================] - 14s 6ms/step - loss: 3.7041 - val_loss: 3.8309\n",
      "Epoch 8/65\n",
      "2158/2164 [============================>.] - ETA: 0s - loss: 3.6777\n",
      "Epoch 00008: val_loss improved from 3.83093 to 3.80898, saving model to best_model_3.h5\n",
      "2164/2164 [==============================] - 14s 6ms/step - loss: 3.6774 - val_loss: 3.8090\n",
      "Epoch 9/65\n",
      "2157/2164 [============================>.] - ETA: 0s - loss: 3.6524\n",
      "Epoch 00009: val_loss improved from 3.80898 to 3.77589, saving model to best_model_3.h5\n",
      "2164/2164 [==============================] - 13s 6ms/step - loss: 3.6523 - val_loss: 3.7759\n",
      "Epoch 10/65\n",
      "2159/2164 [============================>.] - ETA: 0s - loss: 3.6330\n",
      "Epoch 00010: val_loss improved from 3.77589 to 3.74628, saving model to best_model_3.h5\n",
      "2164/2164 [==============================] - 13s 6ms/step - loss: 3.6330 - val_loss: 3.7463\n",
      "Epoch 11/65\n",
      "2161/2164 [============================>.] - ETA: 0s - loss: 3.6169\n",
      "Epoch 00011: val_loss improved from 3.74628 to 3.72862, saving model to best_model_3.h5\n",
      "2164/2164 [==============================] - 14s 6ms/step - loss: 3.6169 - val_loss: 3.7286\n",
      "Epoch 12/65\n",
      "2161/2164 [============================>.] - ETA: 0s - loss: 3.6030\n",
      "Epoch 00012: val_loss improved from 3.72862 to 3.72596, saving model to best_model_3.h5\n",
      "2164/2164 [==============================] - 13s 6ms/step - loss: 3.6029 - val_loss: 3.7260\n",
      "Epoch 13/65\n",
      "2163/2164 [============================>.] - ETA: 0s - loss: 3.5928\n",
      "Epoch 00013: val_loss improved from 3.72596 to 3.71719, saving model to best_model_3.h5\n",
      "2164/2164 [==============================] - 14s 6ms/step - loss: 3.5929 - val_loss: 3.7172\n",
      "Epoch 14/65\n",
      "2157/2164 [============================>.] - ETA: 0s - loss: 3.5850\n",
      "Epoch 00014: val_loss improved from 3.71719 to 3.70452, saving model to best_model_3.h5\n",
      "2164/2164 [==============================] - 14s 6ms/step - loss: 3.5848 - val_loss: 3.7045\n",
      "Epoch 15/65\n",
      "2162/2164 [============================>.] - ETA: 0s - loss: 3.5715\n",
      "Epoch 00015: val_loss improved from 3.70452 to 3.68147, saving model to best_model_3.h5\n",
      "2164/2164 [==============================] - 14s 6ms/step - loss: 3.5715 - val_loss: 3.6815\n",
      "Epoch 16/65\n",
      "2158/2164 [============================>.] - ETA: 0s - loss: 3.5643\n",
      "Epoch 00016: val_loss improved from 3.68147 to 3.67420, saving model to best_model_3.h5\n",
      "2164/2164 [==============================] - 14s 6ms/step - loss: 3.5644 - val_loss: 3.6742\n",
      "Epoch 17/65\n",
      "2164/2164 [==============================] - ETA: 0s - loss: 3.5534\n",
      "Epoch 00017: val_loss did not improve from 3.67420\n",
      "2164/2164 [==============================] - 13s 6ms/step - loss: 3.5534 - val_loss: 3.6752\n",
      "Epoch 18/65\n",
      "2158/2164 [============================>.] - ETA: 0s - loss: 3.5475\n",
      "Epoch 00018: val_loss improved from 3.67420 to 3.67220, saving model to best_model_3.h5\n",
      "2164/2164 [==============================] - 14s 6ms/step - loss: 3.5476 - val_loss: 3.6722\n",
      "Epoch 19/65\n",
      "2158/2164 [============================>.] - ETA: 0s - loss: 3.5442\n",
      "Epoch 00019: val_loss improved from 3.67220 to 3.66250, saving model to best_model_3.h5\n",
      "2164/2164 [==============================] - 14s 6ms/step - loss: 3.5442 - val_loss: 3.6625\n",
      "Epoch 20/65\n",
      "2161/2164 [============================>.] - ETA: 0s - loss: 3.5360\n",
      "Epoch 00020: val_loss improved from 3.66250 to 3.65889, saving model to best_model_3.h5\n",
      "2164/2164 [==============================] - 14s 6ms/step - loss: 3.5360 - val_loss: 3.6589\n",
      "Epoch 21/65\n",
      "2158/2164 [============================>.] - ETA: 0s - loss: 3.5286\n",
      "Epoch 00021: val_loss improved from 3.65889 to 3.63892, saving model to best_model_3.h5\n",
      "2164/2164 [==============================] - 14s 6ms/step - loss: 3.5288 - val_loss: 3.6389\n",
      "Epoch 22/65\n",
      "2159/2164 [============================>.] - ETA: 0s - loss: 3.5253\n",
      "Epoch 00022: val_loss did not improve from 3.63892\n",
      "2164/2164 [==============================] - 14s 6ms/step - loss: 3.5255 - val_loss: 3.6422\n",
      "Epoch 23/65\n",
      "2157/2164 [============================>.] - ETA: 0s - loss: 3.5239\n",
      "Epoch 00023: val_loss did not improve from 3.63892\n",
      "2164/2164 [==============================] - 14s 6ms/step - loss: 3.5241 - val_loss: 3.6696\n",
      "Epoch 24/65\n",
      "2162/2164 [============================>.] - ETA: 0s - loss: 3.5179\n",
      "Epoch 00024: val_loss did not improve from 3.63892\n",
      "2164/2164 [==============================] - 14s 6ms/step - loss: 3.5178 - val_loss: 3.6399\n",
      "Epoch 25/65\n",
      "2161/2164 [============================>.] - ETA: 0s - loss: 3.5155\n",
      "Epoch 00025: val_loss did not improve from 3.63892\n",
      "2164/2164 [==============================] - 14s 6ms/step - loss: 3.5154 - val_loss: 3.6394\n",
      "Epoch 26/65\n",
      "2160/2164 [============================>.] - ETA: 0s - loss: 3.5074\n",
      "Epoch 00026: val_loss improved from 3.63892 to 3.63137, saving model to best_model_3.h5\n",
      "2164/2164 [==============================] - 14s 6ms/step - loss: 3.5073 - val_loss: 3.6314\n",
      "Epoch 27/65\n",
      "2160/2164 [============================>.] - ETA: 0s - loss: 3.5073\n",
      "Epoch 00027: val_loss improved from 3.63137 to 3.63043, saving model to best_model_3.h5\n",
      "2164/2164 [==============================] - 14s 6ms/step - loss: 3.5072 - val_loss: 3.6304\n",
      "Epoch 28/65\n",
      "2161/2164 [============================>.] - ETA: 0s - loss: 3.5023\n",
      "Epoch 00028: val_loss improved from 3.63043 to 3.62632, saving model to best_model_3.h5\n",
      "2164/2164 [==============================] - 14s 6ms/step - loss: 3.5024 - val_loss: 3.6263\n",
      "Epoch 29/65\n",
      "2164/2164 [==============================] - ETA: 0s - loss: 3.5008\n",
      "Epoch 00029: val_loss did not improve from 3.62632\n",
      "2164/2164 [==============================] - 13s 6ms/step - loss: 3.5008 - val_loss: 3.6268\n",
      "Epoch 30/65\n",
      "2163/2164 [============================>.] - ETA: 0s - loss: 3.4972\n",
      "Epoch 00030: val_loss did not improve from 3.62632\n",
      "2164/2164 [==============================] - 14s 6ms/step - loss: 3.4972 - val_loss: 3.6285\n",
      "Epoch 31/65\n",
      "2159/2164 [============================>.] - ETA: 0s - loss: 3.4992\n",
      "Epoch 00031: val_loss did not improve from 3.62632\n",
      "2164/2164 [==============================] - 14s 6ms/step - loss: 3.4991 - val_loss: 3.6333\n",
      "Epoch 32/65\n",
      "2158/2164 [============================>.] - ETA: 0s - loss: 3.4907\n",
      "Epoch 00032: val_loss did not improve from 3.62632\n",
      "2164/2164 [==============================] - 13s 6ms/step - loss: 3.4907 - val_loss: 3.6275\n",
      "Epoch 33/65\n",
      "2162/2164 [============================>.] - ETA: 0s - loss: 3.4901\n",
      "Epoch 00033: val_loss improved from 3.62632 to 3.62613, saving model to best_model_3.h5\n",
      "2164/2164 [==============================] - 14s 6ms/step - loss: 3.4901 - val_loss: 3.6261\n",
      "Epoch 34/65\n",
      "2158/2164 [============================>.] - ETA: 0s - loss: 3.4885\n",
      "Epoch 00034: val_loss did not improve from 3.62613\n",
      "2164/2164 [==============================] - 14s 6ms/step - loss: 3.4886 - val_loss: 3.6266\n",
      "Epoch 35/65\n",
      "2157/2164 [============================>.] - ETA: 0s - loss: 3.4873\n",
      "Epoch 00035: val_loss improved from 3.62613 to 3.61539, saving model to best_model_3.h5\n",
      "2164/2164 [==============================] - 14s 6ms/step - loss: 3.4874 - val_loss: 3.6154\n",
      "Epoch 36/65\n",
      "2157/2164 [============================>.] - ETA: 0s - loss: 3.4856\n",
      "Epoch 00036: val_loss did not improve from 3.61539\n",
      "2164/2164 [==============================] - 13s 6ms/step - loss: 3.4855 - val_loss: 3.6176\n",
      "Epoch 37/65\n",
      "2158/2164 [============================>.] - ETA: 0s - loss: 3.4810\n",
      "Epoch 00037: val_loss did not improve from 3.61539\n",
      "2164/2164 [==============================] - 14s 6ms/step - loss: 3.4813 - val_loss: 3.6252\n",
      "Epoch 38/65\n",
      "2155/2164 [============================>.] - ETA: 0s - loss: 3.4826\n",
      "Epoch 00038: val_loss did not improve from 3.61539\n",
      "2164/2164 [==============================] - 13s 6ms/step - loss: 3.4827 - val_loss: 3.6273\n",
      "Epoch 39/65\n",
      "2161/2164 [============================>.] - ETA: 0s - loss: 3.4823\n",
      "Epoch 00039: val_loss did not improve from 3.61539\n",
      "2164/2164 [==============================] - 13s 6ms/step - loss: 3.4823 - val_loss: 3.6181\n",
      "Epoch 40/65\n",
      "2158/2164 [============================>.] - ETA: 0s - loss: 3.4766\n",
      "Epoch 00040: val_loss did not improve from 3.61539\n",
      "2164/2164 [==============================] - 13s 6ms/step - loss: 3.4769 - val_loss: 3.6277\n",
      "Epoch 41/65\n",
      "2157/2164 [============================>.] - ETA: 0s - loss: 3.4761\n",
      "Epoch 00041: val_loss improved from 3.61539 to 3.61048, saving model to best_model_3.h5\n",
      "2164/2164 [==============================] - 13s 6ms/step - loss: 3.4760 - val_loss: 3.6105\n",
      "Epoch 42/65\n",
      "2159/2164 [============================>.] - ETA: 0s - loss: 3.4784\n",
      "Epoch 00042: val_loss improved from 3.61048 to 3.60755, saving model to best_model_3.h5\n",
      "2164/2164 [==============================] - 14s 6ms/step - loss: 3.4783 - val_loss: 3.6075\n",
      "Epoch 43/65\n",
      "2163/2164 [============================>.] - ETA: 0s - loss: 3.4748\n",
      "Epoch 00043: val_loss did not improve from 3.60755\n",
      "2164/2164 [==============================] - 14s 6ms/step - loss: 3.4748 - val_loss: 3.6085\n",
      "Epoch 44/65\n",
      "2156/2164 [============================>.] - ETA: 0s - loss: 3.4688\n",
      "Epoch 00044: val_loss improved from 3.60755 to 3.60708, saving model to best_model_3.h5\n",
      "2164/2164 [==============================] - 14s 6ms/step - loss: 3.4693 - val_loss: 3.6071\n",
      "Epoch 45/65\n",
      "2163/2164 [============================>.] - ETA: 0s - loss: 3.4703\n",
      "Epoch 00045: val_loss improved from 3.60708 to 3.60463, saving model to best_model_3.h5\n",
      "2164/2164 [==============================] - 14s 6ms/step - loss: 3.4703 - val_loss: 3.6046\n",
      "Epoch 46/65\n",
      "2164/2164 [==============================] - ETA: 0s - loss: 3.4739\n",
      "Epoch 00046: val_loss did not improve from 3.60463\n",
      "2164/2164 [==============================] - 13s 6ms/step - loss: 3.4739 - val_loss: 3.6207\n",
      "Epoch 47/65\n",
      "2163/2164 [============================>.] - ETA: 0s - loss: 3.4672\n",
      "Epoch 00047: val_loss did not improve from 3.60463\n",
      "2164/2164 [==============================] - 14s 6ms/step - loss: 3.4672 - val_loss: 3.6201\n",
      "Epoch 48/65\n",
      "2159/2164 [============================>.] - ETA: 0s - loss: 3.4708\n",
      "Epoch 00048: val_loss did not improve from 3.60463\n",
      "2164/2164 [==============================] - 13s 6ms/step - loss: 3.4708 - val_loss: 3.6139\n",
      "Epoch 49/65\n",
      "2163/2164 [============================>.] - ETA: 0s - loss: 3.4663\n",
      "Epoch 00049: val_loss did not improve from 3.60463\n",
      "2164/2164 [==============================] - 13s 6ms/step - loss: 3.4663 - val_loss: 3.6130\n",
      "Epoch 50/65\n",
      "2159/2164 [============================>.] - ETA: 0s - loss: 3.4643\n",
      "Epoch 00050: val_loss did not improve from 3.60463\n",
      "2164/2164 [==============================] - 13s 6ms/step - loss: 3.4642 - val_loss: 3.6125\n",
      "Epoch 51/65\n",
      "2162/2164 [============================>.] - ETA: 0s - loss: 3.4671\n",
      "Epoch 00051: val_loss did not improve from 3.60463\n",
      "2164/2164 [==============================] - 13s 6ms/step - loss: 3.4672 - val_loss: 3.6113\n",
      "Epoch 52/65\n",
      "2158/2164 [============================>.] - ETA: 0s - loss: 3.4653\n",
      "Epoch 00052: val_loss did not improve from 3.60463\n",
      "2164/2164 [==============================] - 13s 6ms/step - loss: 3.4654 - val_loss: 3.6129\n",
      "Epoch 53/65\n",
      "2160/2164 [============================>.] - ETA: 0s - loss: 3.4641\n",
      "Epoch 00053: val_loss did not improve from 3.60463\n",
      "2164/2164 [==============================] - 13s 6ms/step - loss: 3.4640 - val_loss: 3.6128\n",
      "Epoch 54/65\n",
      "2162/2164 [============================>.] - ETA: 0s - loss: 3.4622\n",
      "Epoch 00054: val_loss did not improve from 3.60463\n",
      "2164/2164 [==============================] - 13s 6ms/step - loss: 3.4621 - val_loss: 3.6135\n",
      "Epoch 55/65\n",
      "2157/2164 [============================>.] - ETA: 0s - loss: 3.4606\n",
      "Epoch 00055: val_loss did not improve from 3.60463\n",
      "2164/2164 [==============================] - 13s 6ms/step - loss: 3.4610 - val_loss: 3.6240\n",
      "Epoch 56/65\n",
      "2159/2164 [============================>.] - ETA: 0s - loss: 3.4615\n",
      "Epoch 00056: val_loss did not improve from 3.60463\n",
      "2164/2164 [==============================] - 13s 6ms/step - loss: 3.4616 - val_loss: 3.6065\n",
      "Epoch 57/65\n",
      "2163/2164 [============================>.] - ETA: 0s - loss: 3.4619\n",
      "Epoch 00057: val_loss did not improve from 3.60463\n",
      "2164/2164 [==============================] - 13s 6ms/step - loss: 3.4619 - val_loss: 3.6157\n",
      "Epoch 58/65\n",
      "2162/2164 [============================>.] - ETA: 0s - loss: 3.4602\n",
      "Epoch 00058: val_loss did not improve from 3.60463\n",
      "2164/2164 [==============================] - 13s 6ms/step - loss: 3.4601 - val_loss: 3.6130\n",
      "Epoch 59/65\n",
      "2157/2164 [============================>.] - ETA: 0s - loss: 3.4581\n",
      "Epoch 00059: val_loss did not improve from 3.60463\n",
      "2164/2164 [==============================] - 13s 6ms/step - loss: 3.4582 - val_loss: 3.6225\n",
      "Epoch 60/65\n",
      "2157/2164 [============================>.] - ETA: 0s - loss: 3.4565\n",
      "Epoch 00060: val_loss did not improve from 3.60463\n",
      "2164/2164 [==============================] - 14s 6ms/step - loss: 3.4564 - val_loss: 3.6099\n",
      "Epoch 61/65\n",
      "2159/2164 [============================>.] - ETA: 0s - loss: 3.4593\n",
      "Epoch 00061: val_loss improved from 3.60463 to 3.60457, saving model to best_model_3.h5\n",
      "2164/2164 [==============================] - 13s 6ms/step - loss: 3.4595 - val_loss: 3.6046\n",
      "Epoch 62/65\n",
      "2161/2164 [============================>.] - ETA: 0s - loss: 3.4565\n",
      "Epoch 00062: val_loss did not improve from 3.60457\n",
      "2164/2164 [==============================] - 13s 6ms/step - loss: 3.4564 - val_loss: 3.6292\n",
      "Epoch 63/65\n",
      "2162/2164 [============================>.] - ETA: 0s - loss: 3.4597\n",
      "Epoch 00063: val_loss did not improve from 3.60457\n",
      "2164/2164 [==============================] - 13s 6ms/step - loss: 3.4597 - val_loss: 3.6070\n",
      "Epoch 64/65\n",
      "2159/2164 [============================>.] - ETA: 0s - loss: 3.4600\n",
      "Epoch 00064: val_loss did not improve from 3.60457\n",
      "2164/2164 [==============================] - 13s 6ms/step - loss: 3.4603 - val_loss: 3.6407\n",
      "Epoch 65/65\n",
      "2159/2164 [============================>.] - ETA: 0s - loss: 3.4586\n",
      "Epoch 00065: val_loss did not improve from 3.60457\n",
      "2164/2164 [==============================] - 13s 6ms/step - loss: 3.4587 - val_loss: 3.6233\n"
     ]
    }
   ],
   "source": [
    "history3 = model3.fit(np.array(x_tr), np.array(y_tr), batch_size=64, \n",
    "                    epochs=65, validation_data=(np.array(x_val),\n",
    "                                                np.array(y_val)),verbose =1, callbacks=[mc3])"
   ]
  },
  {
   "cell_type": "markdown",
   "id": "pLNhG1hihuPb",
   "metadata": {
    "id": "pLNhG1hihuPb"
   },
   "source": [
    "Model loss improved from 3.69174 to 3.60457.  Very small improvement."
   ]
  },
  {
   "cell_type": "code",
   "execution_count": 84,
   "id": "xZjrcFVMbwad",
   "metadata": {
    "id": "xZjrcFVMbwad"
   },
   "outputs": [],
   "source": [
    "model3 =load_model('best_model_3.h5')"
   ]
  },
  {
   "cell_type": "code",
   "execution_count": 91,
   "id": "ychGMLo3falc",
   "metadata": {
    "colab": {
     "base_uri": "https://localhost:8080/"
    },
    "id": "ychGMLo3falc",
    "outputId": "739a2e2e-3b6d-4216-a790-9e0b3e1fff79"
   },
   "outputs": [
    {
     "name": "stdout",
     "output_type": "stream",
     "text": [
      "[17, 103, 103, 103, 103, 17, 103, 17, 17, 103, 84, 17, 17, 17, 76, 17, 76, 76, 76, 76]\n"
     ]
    }
   ],
   "source": [
    "ind =np.random.randint(0,len(x_val)-1)\n",
    "\n",
    "random_music = x_val[ind]\n",
    "\n",
    "predictions3 = []\n",
    "\n",
    "for i in range(20):\n",
    "  random_music = random_music.reshape(1,no_of_timesteps)\n",
    "\n",
    "  prob = model3.predict(random_music)[0]\n",
    "\n",
    "  y_pred = np.argmax(prob, axis=0)\n",
    "  predictions3.append(y_pred)\n",
    "\n",
    "  random_music=np.insert(random_music[0], len(random_music[0]),y_pred)\n",
    "  random_music = random_music[1:]\n",
    "\n",
    "print(predictions3)"
   ]
  },
  {
   "cell_type": "code",
   "execution_count": 92,
   "id": "Q5LcTcDxf2Y2",
   "metadata": {
    "id": "Q5LcTcDxf2Y2"
   },
   "outputs": [],
   "source": [
    "predicted_notes3 = [x_int_to_note[i] for i in predictions3]"
   ]
  },
  {
   "cell_type": "code",
   "execution_count": 93,
   "id": "5lX9jlvEgYeo",
   "metadata": {
    "id": "5lX9jlvEgYeo"
   },
   "outputs": [],
   "source": [
    "convert_to_midi(predicted_notes3)"
   ]
  },
  {
   "cell_type": "code",
   "execution_count": 94,
   "id": "lcAHcNUtgaMN",
   "metadata": {
    "colab": {
     "base_uri": "https://localhost:8080/"
    },
    "id": "lcAHcNUtgaMN",
    "outputId": "6cdafc46-2b15-4a04-ce50-fa2c91a165cb"
   },
   "outputs": [
    {
     "data": {
      "text/plain": [
       "['8.11',\n",
       " '6.9',\n",
       " '6.9',\n",
       " '6.9',\n",
       " '6.9',\n",
       " '8.11',\n",
       " '6.9',\n",
       " '8.11',\n",
       " '8.11',\n",
       " '6.9',\n",
       " 'F#3',\n",
       " '8.11',\n",
       " '8.11',\n",
       " '8.11',\n",
       " '3.6',\n",
       " '8.11',\n",
       " '3.6',\n",
       " '3.6',\n",
       " '3.6',\n",
       " '3.6']"
      ]
     },
     "execution_count": 94,
     "metadata": {},
     "output_type": "execute_result"
    }
   ],
   "source": [
    "predicted_notes3"
   ]
  },
  {
   "cell_type": "code",
   "execution_count": 110,
   "id": "NGvnc_stgnNO",
   "metadata": {
    "colab": {
     "base_uri": "https://localhost:8080/",
     "height": 498
    },
    "id": "NGvnc_stgnNO",
    "outputId": "d513a088-1c5b-4c38-b410-11672564fbb8"
   },
   "outputs": [
    {
     "data": {
      "image/png": "[encoded data removed]",
      "text/plain": [
       "<Figure size 864x576 with 1 Axes>"
      ]
     },
     "metadata": {
      "image/png": {
       "height": 481,
       "width": 706
      },
      "needs_background": "light"
     },
     "output_type": "display_data"
    }
   ],
   "source": [
    "train_loss3=history3.history['loss']\n",
    "test_loss3= history3.history['val_loss']\n",
    "\n",
    "\n",
    "plt.figure(figsize=(12,8))\n",
    "plt.title('Training versus Testing loss(model_3)')\n",
    "plt.plot(train_loss3, label ='Training Loss', color = 'violet')\n",
    "plt.plot(test_loss3, label = 'Testing loss', color = 'orangered')\n",
    "plt.legend();\n",
    "plt.savefig('3rdmodel_loss_plot.png')"
   ]
  },
  {
   "cell_type": "markdown",
   "id": "7607daf4-1592-4423-9b26-d4a9f23bf97a",
   "metadata": {},
   "source": [
    "This iteration adjusts the learning rate for adam to .0009.  The dropout is also lowered to 0.3, since overfitting does not seem to be an issue.  The value of the loss function is 3.60457."
   ]
  },
  {
   "cell_type": "code",
   "execution_count": 98,
   "id": "Q0SQ8z8YgxG5",
   "metadata": {
    "colab": {
     "base_uri": "https://localhost:8080/"
    },
    "id": "Q0SQ8z8YgxG5",
    "outputId": "d449a461-1863-469c-ebcb-1d2fb89ab76e"
   },
   "outputs": [
    {
     "name": "stdout",
     "output_type": "stream",
     "text": [
      "Model: \"sequential_3\"\n",
      "_________________________________________________________________\n",
      " Layer (type)                Output Shape              Param #   \n",
      "=================================================================\n",
      " embedding_3 (Embedding)     (None, 32, 100)           21000     \n",
      "                                                                 \n",
      " conv1d_12 (Conv1D)          (None, 32, 512)           154112    \n",
      "                                                                 \n",
      " dropout_12 (Dropout)        (None, 32, 512)           0         \n",
      "                                                                 \n",
      " max_pooling1d_12 (MaxPoolin  (None, 16, 512)          0         \n",
      " g1D)                                                            \n",
      "                                                                 \n",
      " conv1d_13 (Conv1D)          (None, 16, 256)           393472    \n",
      "                                                                 \n",
      " dropout_13 (Dropout)        (None, 16, 256)           0         \n",
      "                                                                 \n",
      " max_pooling1d_13 (MaxPoolin  (None, 8, 256)           0         \n",
      " g1D)                                                            \n",
      "                                                                 \n",
      " conv1d_14 (Conv1D)          (None, 8, 128)            98432     \n",
      "                                                                 \n",
      " dropout_14 (Dropout)        (None, 8, 128)            0         \n",
      "                                                                 \n",
      " max_pooling1d_14 (MaxPoolin  (None, 4, 128)           0         \n",
      " g1D)                                                            \n",
      "                                                                 \n",
      " conv1d_15 (Conv1D)          (None, 4, 64)             24640     \n",
      "                                                                 \n",
      " dropout_15 (Dropout)        (None, 4, 64)             0         \n",
      "                                                                 \n",
      " max_pooling1d_15 (MaxPoolin  (None, 2, 64)            0         \n",
      " g1D)                                                            \n",
      "                                                                 \n",
      " global_max_pooling1d_3 (Glo  (None, 64)               0         \n",
      " balMaxPooling1D)                                                \n",
      "                                                                 \n",
      " dense_6 (Dense)             (None, 256)               16640     \n",
      "                                                                 \n",
      " dense_7 (Dense)             (None, 210)               53970     \n",
      "                                                                 \n",
      "=================================================================\n",
      "Total params: 762,266\n",
      "Trainable params: 762,266\n",
      "Non-trainable params: 0\n",
      "_________________________________________________________________\n"
     ]
    }
   ],
   "source": [
    "\n",
    "model4 = Sequential()\n",
    "\n",
    "model4.add(Embedding(len(unique_x), 100, input_length=32, trainable=True))\n",
    "#conv1d learns local patterns of dta in cnns\n",
    "#increased filter size to 512, subsequent layer decrease by half\n",
    "model4.add(Conv1D(512,3, padding= 'causal', activation = 'relu'))\n",
    "#added layer from original model\n",
    "model4.add(Dropout(0.2))\n",
    "model4.add(MaxPool1D(2))\n",
    "model4.add(Conv1D(256,3, padding = 'causal', activation = 'relu'))\n",
    "#decrease dropouts from second model\n",
    "model4.add(Dropout(0.2))\n",
    "# reduce dimensionality of this vector and overfitting, \n",
    "# we dont want to just repeat notes\n",
    "model4.add(MaxPool1D(2))\n",
    "model4.add(Conv1D(128,3, activation= 'relu', dilation_rate=2, padding='causal'))\n",
    "#increase dropout again\n",
    "model4.add(Dropout(0.2))\n",
    "model4.add(MaxPool1D(2))\n",
    "model4.add(Conv1D(64,3, activation = 'relu', dilation_rate=4, padding= 'causal'))\n",
    "model4.add(Dropout(0.2))\n",
    "model4.add(MaxPool1D(2))\n",
    "\n",
    "model4.add(GlobalMaxPool1D())\n",
    "\n",
    "model4.add(Dense(256, activation='relu'))\n",
    "model4.add(Dense(len(unique_y), activation = 'softmax'))\n",
    "\n",
    "model4.compile(loss = 'sparse_categorical_crossentropy', optimizer=Adam(lr=0.0009))\n",
    "#changed adam learning rate to .00009 increase from 2nd model\n",
    "model4.summary()"
   ]
  },
  {
   "cell_type": "code",
   "execution_count": 99,
   "id": "gWpp5LdhjwdV",
   "metadata": {
    "id": "gWpp5LdhjwdV"
   },
   "outputs": [],
   "source": [
    "mc4=ModelCheckpoint('best_model_4.h5', monitor = 'val_loss', mode = 'min',\n",
    "                   save_best_only=True, verbose =1)"
   ]
  },
  {
   "cell_type": "code",
   "execution_count": 100,
   "id": "cabKIDPQk15W",
   "metadata": {
    "colab": {
     "base_uri": "https://localhost:8080/"
    },
    "id": "cabKIDPQk15W",
    "outputId": "7a0564f0-de6d-4b5b-84d6-de81638281d1"
   },
   "outputs": [
    {
     "name": "stdout",
     "output_type": "stream",
     "text": [
      "Epoch 1/60\n",
      "2164/2164 [==============================] - ETA: 0s - loss: 4.2282\n",
      "Epoch 00001: val_loss improved from inf to 4.07956, saving model to best_model_4.h5\n",
      "2164/2164 [==============================] - 14s 6ms/step - loss: 4.2282 - val_loss: 4.0796\n",
      "Epoch 2/60\n",
      "2157/2164 [============================>.] - ETA: 0s - loss: 3.8985\n",
      "Epoch 00002: val_loss improved from 4.07956 to 3.88409, saving model to best_model_4.h5\n",
      "2164/2164 [==============================] - 13s 6ms/step - loss: 3.8984 - val_loss: 3.8841\n",
      "Epoch 3/60\n",
      "2159/2164 [============================>.] - ETA: 0s - loss: 3.7691\n",
      "Epoch 00003: val_loss improved from 3.88409 to 3.80493, saving model to best_model_4.h5\n",
      "2164/2164 [==============================] - 13s 6ms/step - loss: 3.7690 - val_loss: 3.8049\n",
      "Epoch 4/60\n",
      "2156/2164 [============================>.] - ETA: 0s - loss: 3.6799\n",
      "Epoch 00004: val_loss improved from 3.80493 to 3.70712, saving model to best_model_4.h5\n",
      "2164/2164 [==============================] - 13s 6ms/step - loss: 3.6797 - val_loss: 3.7071\n",
      "Epoch 5/60\n",
      "2162/2164 [============================>.] - ETA: 0s - loss: 3.6031\n",
      "Epoch 00005: val_loss improved from 3.70712 to 3.66959, saving model to best_model_4.h5\n",
      "2164/2164 [==============================] - 13s 6ms/step - loss: 3.6030 - val_loss: 3.6696\n",
      "Epoch 6/60\n",
      "2162/2164 [============================>.] - ETA: 0s - loss: 3.5438\n",
      "Epoch 00006: val_loss improved from 3.66959 to 3.60248, saving model to best_model_4.h5\n",
      "2164/2164 [==============================] - 13s 6ms/step - loss: 3.5439 - val_loss: 3.6025\n",
      "Epoch 7/60\n",
      "2164/2164 [==============================] - ETA: 0s - loss: 3.4936\n",
      "Epoch 00007: val_loss improved from 3.60248 to 3.56717, saving model to best_model_4.h5\n",
      "2164/2164 [==============================] - 13s 6ms/step - loss: 3.4936 - val_loss: 3.5672\n",
      "Epoch 8/60\n",
      "2155/2164 [============================>.] - ETA: 0s - loss: 3.4502\n",
      "Epoch 00008: val_loss improved from 3.56717 to 3.52281, saving model to best_model_4.h5\n",
      "2164/2164 [==============================] - 13s 6ms/step - loss: 3.4504 - val_loss: 3.5228\n",
      "Epoch 9/60\n",
      "2156/2164 [============================>.] - ETA: 0s - loss: 3.4139\n",
      "Epoch 00009: val_loss improved from 3.52281 to 3.51476, saving model to best_model_4.h5\n",
      "2164/2164 [==============================] - 13s 6ms/step - loss: 3.4139 - val_loss: 3.5148\n",
      "Epoch 10/60\n",
      "2156/2164 [============================>.] - ETA: 0s - loss: 3.3854\n",
      "Epoch 00010: val_loss improved from 3.51476 to 3.46277, saving model to best_model_4.h5\n",
      "2164/2164 [==============================] - 13s 6ms/step - loss: 3.3854 - val_loss: 3.4628\n",
      "Epoch 11/60\n",
      "2164/2164 [==============================] - ETA: 0s - loss: 3.3588\n",
      "Epoch 00011: val_loss improved from 3.46277 to 3.45261, saving model to best_model_4.h5\n",
      "2164/2164 [==============================] - 13s 6ms/step - loss: 3.3588 - val_loss: 3.4526\n",
      "Epoch 12/60\n",
      "2155/2164 [============================>.] - ETA: 0s - loss: 3.3303\n",
      "Epoch 00012: val_loss improved from 3.45261 to 3.43623, saving model to best_model_4.h5\n",
      "2164/2164 [==============================] - 13s 6ms/step - loss: 3.3306 - val_loss: 3.4362\n",
      "Epoch 13/60\n",
      "2163/2164 [============================>.] - ETA: 0s - loss: 3.3095\n",
      "Epoch 00013: val_loss improved from 3.43623 to 3.41171, saving model to best_model_4.h5\n",
      "2164/2164 [==============================] - 13s 6ms/step - loss: 3.3095 - val_loss: 3.4117\n",
      "Epoch 14/60\n",
      "2156/2164 [============================>.] - ETA: 0s - loss: 3.2929\n",
      "Epoch 00014: val_loss did not improve from 3.41171\n",
      "2164/2164 [==============================] - 13s 6ms/step - loss: 3.2932 - val_loss: 3.4124\n",
      "Epoch 15/60\n",
      "2156/2164 [============================>.] - ETA: 0s - loss: 3.2743\n",
      "Epoch 00015: val_loss improved from 3.41171 to 3.40576, saving model to best_model_4.h5\n",
      "2164/2164 [==============================] - 13s 6ms/step - loss: 3.2746 - val_loss: 3.4058\n",
      "Epoch 16/60\n",
      "2160/2164 [============================>.] - ETA: 0s - loss: 3.2581\n",
      "Epoch 00016: val_loss improved from 3.40576 to 3.38716, saving model to best_model_4.h5\n",
      "2164/2164 [==============================] - 13s 6ms/step - loss: 3.2582 - val_loss: 3.3872\n",
      "Epoch 17/60\n",
      "2160/2164 [============================>.] - ETA: 0s - loss: 3.2462\n",
      "Epoch 00017: val_loss improved from 3.38716 to 3.37703, saving model to best_model_4.h5\n",
      "2164/2164 [==============================] - 13s 6ms/step - loss: 3.2463 - val_loss: 3.3770\n",
      "Epoch 18/60\n",
      "2159/2164 [============================>.] - ETA: 0s - loss: 3.2296\n",
      "Epoch 00018: val_loss improved from 3.37703 to 3.36027, saving model to best_model_4.h5\n",
      "2164/2164 [==============================] - 13s 6ms/step - loss: 3.2295 - val_loss: 3.3603\n",
      "Epoch 19/60\n",
      "2158/2164 [============================>.] - ETA: 0s - loss: 3.2175\n",
      "Epoch 00019: val_loss improved from 3.36027 to 3.34429, saving model to best_model_4.h5\n",
      "2164/2164 [==============================] - 13s 6ms/step - loss: 3.2178 - val_loss: 3.3443\n",
      "Epoch 20/60\n",
      "2161/2164 [============================>.] - ETA: 0s - loss: 3.2077\n",
      "Epoch 00020: val_loss did not improve from 3.34429\n",
      "2164/2164 [==============================] - 13s 6ms/step - loss: 3.2075 - val_loss: 3.3502\n",
      "Epoch 21/60\n",
      "2157/2164 [============================>.] - ETA: 0s - loss: 3.2000\n",
      "Epoch 00021: val_loss improved from 3.34429 to 3.33180, saving model to best_model_4.h5\n",
      "2164/2164 [==============================] - 13s 6ms/step - loss: 3.1999 - val_loss: 3.3318\n",
      "Epoch 22/60\n",
      "2164/2164 [==============================] - ETA: 0s - loss: 3.1888\n",
      "Epoch 00022: val_loss improved from 3.33180 to 3.33141, saving model to best_model_4.h5\n",
      "2164/2164 [==============================] - 13s 6ms/step - loss: 3.1888 - val_loss: 3.3314\n",
      "Epoch 23/60\n",
      "2161/2164 [============================>.] - ETA: 0s - loss: 3.1782\n",
      "Epoch 00023: val_loss improved from 3.33141 to 3.31827, saving model to best_model_4.h5\n",
      "2164/2164 [==============================] - 13s 6ms/step - loss: 3.1782 - val_loss: 3.3183\n",
      "Epoch 24/60\n",
      "2162/2164 [============================>.] - ETA: 0s - loss: 3.1722\n",
      "Epoch 00024: val_loss did not improve from 3.31827\n",
      "2164/2164 [==============================] - 13s 6ms/step - loss: 3.1722 - val_loss: 3.3256\n",
      "Epoch 25/60\n",
      "2156/2164 [============================>.] - ETA: 0s - loss: 3.1595\n",
      "Epoch 00025: val_loss improved from 3.31827 to 3.29652, saving model to best_model_4.h5\n",
      "2164/2164 [==============================] - 13s 6ms/step - loss: 3.1598 - val_loss: 3.2965\n",
      "Epoch 26/60\n",
      "2157/2164 [============================>.] - ETA: 0s - loss: 3.1528\n",
      "Epoch 00026: val_loss improved from 3.29652 to 3.29629, saving model to best_model_4.h5\n",
      "2164/2164 [==============================] - 13s 6ms/step - loss: 3.1528 - val_loss: 3.2963\n",
      "Epoch 27/60\n",
      "2158/2164 [============================>.] - ETA: 0s - loss: 3.1498\n",
      "Epoch 00027: val_loss did not improve from 3.29629\n",
      "2164/2164 [==============================] - 13s 6ms/step - loss: 3.1502 - val_loss: 3.2997\n",
      "Epoch 28/60\n",
      "2162/2164 [============================>.] - ETA: 0s - loss: 3.1399\n",
      "Epoch 00028: val_loss improved from 3.29629 to 3.28916, saving model to best_model_4.h5\n",
      "2164/2164 [==============================] - 13s 6ms/step - loss: 3.1398 - val_loss: 3.2892\n",
      "Epoch 29/60\n",
      "2157/2164 [============================>.] - ETA: 0s - loss: 3.1418\n",
      "Epoch 00029: val_loss improved from 3.28916 to 3.28220, saving model to best_model_4.h5\n",
      "2164/2164 [==============================] - 13s 6ms/step - loss: 3.1416 - val_loss: 3.2822\n",
      "Epoch 30/60\n",
      "2157/2164 [============================>.] - ETA: 0s - loss: 3.1298\n",
      "Epoch 00030: val_loss did not improve from 3.28220\n",
      "2164/2164 [==============================] - 13s 6ms/step - loss: 3.1299 - val_loss: 3.2919\n",
      "Epoch 31/60\n",
      "2155/2164 [============================>.] - ETA: 0s - loss: 3.1188\n",
      "Epoch 00031: val_loss improved from 3.28220 to 3.27562, saving model to best_model_4.h5\n",
      "2164/2164 [==============================] - 13s 6ms/step - loss: 3.1188 - val_loss: 3.2756\n",
      "Epoch 32/60\n",
      "2156/2164 [============================>.] - ETA: 0s - loss: 3.1186\n",
      "Epoch 00032: val_loss improved from 3.27562 to 3.27227, saving model to best_model_4.h5\n",
      "2164/2164 [==============================] - 13s 6ms/step - loss: 3.1185 - val_loss: 3.2723\n",
      "Epoch 33/60\n",
      "2160/2164 [============================>.] - ETA: 0s - loss: 3.1147\n",
      "Epoch 00033: val_loss did not improve from 3.27227\n",
      "2164/2164 [==============================] - 13s 6ms/step - loss: 3.1144 - val_loss: 3.2774\n",
      "Epoch 34/60\n",
      "2161/2164 [============================>.] - ETA: 0s - loss: 3.1079\n",
      "Epoch 00034: val_loss improved from 3.27227 to 3.26239, saving model to best_model_4.h5\n",
      "2164/2164 [==============================] - 13s 6ms/step - loss: 3.1079 - val_loss: 3.2624\n",
      "Epoch 35/60\n",
      "2159/2164 [============================>.] - ETA: 0s - loss: 3.1039\n",
      "Epoch 00035: val_loss did not improve from 3.26239\n",
      "2164/2164 [==============================] - 13s 6ms/step - loss: 3.1043 - val_loss: 3.2649\n",
      "Epoch 36/60\n",
      "2155/2164 [============================>.] - ETA: 0s - loss: 3.0979\n",
      "Epoch 00036: val_loss improved from 3.26239 to 3.25774, saving model to best_model_4.h5\n",
      "2164/2164 [==============================] - 13s 6ms/step - loss: 3.0979 - val_loss: 3.2577\n",
      "Epoch 37/60\n",
      "2161/2164 [============================>.] - ETA: 0s - loss: 3.0913\n",
      "Epoch 00037: val_loss improved from 3.25774 to 3.25505, saving model to best_model_4.h5\n",
      "2164/2164 [==============================] - 13s 6ms/step - loss: 3.0913 - val_loss: 3.2551\n",
      "Epoch 38/60\n",
      "2160/2164 [============================>.] - ETA: 0s - loss: 3.0861\n",
      "Epoch 00038: val_loss improved from 3.25505 to 3.24367, saving model to best_model_4.h5\n",
      "2164/2164 [==============================] - 13s 6ms/step - loss: 3.0863 - val_loss: 3.2437\n",
      "Epoch 39/60\n",
      "2161/2164 [============================>.] - ETA: 0s - loss: 3.0831\n",
      "Epoch 00039: val_loss did not improve from 3.24367\n",
      "2164/2164 [==============================] - 13s 6ms/step - loss: 3.0829 - val_loss: 3.2480\n",
      "Epoch 40/60\n",
      "2157/2164 [============================>.] - ETA: 0s - loss: 3.0808\n",
      "Epoch 00040: val_loss improved from 3.24367 to 3.24294, saving model to best_model_4.h5\n",
      "2164/2164 [==============================] - 13s 6ms/step - loss: 3.0811 - val_loss: 3.2429\n",
      "Epoch 41/60\n",
      "2156/2164 [============================>.] - ETA: 0s - loss: 3.0725\n",
      "Epoch 00041: val_loss improved from 3.24294 to 3.24289, saving model to best_model_4.h5\n",
      "2164/2164 [==============================] - 13s 6ms/step - loss: 3.0724 - val_loss: 3.2429\n",
      "Epoch 42/60\n",
      "2157/2164 [============================>.] - ETA: 0s - loss: 3.0756\n",
      "Epoch 00042: val_loss improved from 3.24289 to 3.23935, saving model to best_model_4.h5\n",
      "2164/2164 [==============================] - 13s 6ms/step - loss: 3.0760 - val_loss: 3.2394\n",
      "Epoch 43/60\n",
      "2156/2164 [============================>.] - ETA: 0s - loss: 3.0709\n",
      "Epoch 00043: val_loss improved from 3.23935 to 3.23387, saving model to best_model_4.h5\n",
      "2164/2164 [==============================] - 13s 6ms/step - loss: 3.0708 - val_loss: 3.2339\n",
      "Epoch 44/60\n",
      "2161/2164 [============================>.] - ETA: 0s - loss: 3.0634\n",
      "Epoch 00044: val_loss improved from 3.23387 to 3.23029, saving model to best_model_4.h5\n",
      "2164/2164 [==============================] - 13s 6ms/step - loss: 3.0633 - val_loss: 3.2303\n",
      "Epoch 45/60\n",
      "2158/2164 [============================>.] - ETA: 0s - loss: 3.0668\n",
      "Epoch 00045: val_loss improved from 3.23029 to 3.22896, saving model to best_model_4.h5\n",
      "2164/2164 [==============================] - 13s 6ms/step - loss: 3.0670 - val_loss: 3.2290\n",
      "Epoch 46/60\n",
      "2163/2164 [============================>.] - ETA: 0s - loss: 3.0584\n",
      "Epoch 00046: val_loss did not improve from 3.22896\n",
      "2164/2164 [==============================] - 13s 6ms/step - loss: 3.0585 - val_loss: 3.2364\n",
      "Epoch 47/60\n",
      "2161/2164 [============================>.] - ETA: 0s - loss: 3.0588\n",
      "Epoch 00047: val_loss improved from 3.22896 to 3.22858, saving model to best_model_4.h5\n",
      "2164/2164 [==============================] - 13s 6ms/step - loss: 3.0587 - val_loss: 3.2286\n",
      "Epoch 48/60\n",
      "2163/2164 [============================>.] - ETA: 0s - loss: 3.0540\n",
      "Epoch 00048: val_loss did not improve from 3.22858\n",
      "2164/2164 [==============================] - 13s 6ms/step - loss: 3.0540 - val_loss: 3.2350\n",
      "Epoch 49/60\n",
      "2163/2164 [============================>.] - ETA: 0s - loss: 3.0485\n",
      "Epoch 00049: val_loss improved from 3.22858 to 3.22823, saving model to best_model_4.h5\n",
      "2164/2164 [==============================] - 13s 6ms/step - loss: 3.0485 - val_loss: 3.2282\n",
      "Epoch 50/60\n",
      "2160/2164 [============================>.] - ETA: 0s - loss: 3.0534\n",
      "Epoch 00050: val_loss did not improve from 3.22823\n",
      "2164/2164 [==============================] - 13s 6ms/step - loss: 3.0534 - val_loss: 3.2331\n",
      "Epoch 51/60\n",
      "2164/2164 [==============================] - ETA: 0s - loss: 3.0477\n",
      "Epoch 00051: val_loss improved from 3.22823 to 3.22730, saving model to best_model_4.h5\n",
      "2164/2164 [==============================] - 13s 6ms/step - loss: 3.0477 - val_loss: 3.2273\n",
      "Epoch 52/60\n",
      "2163/2164 [============================>.] - ETA: 0s - loss: 3.0457\n",
      "Epoch 00052: val_loss did not improve from 3.22730\n",
      "2164/2164 [==============================] - 13s 6ms/step - loss: 3.0458 - val_loss: 3.2277\n",
      "Epoch 53/60\n",
      "2157/2164 [============================>.] - ETA: 0s - loss: 3.0395\n",
      "Epoch 00053: val_loss improved from 3.22730 to 3.22671, saving model to best_model_4.h5\n",
      "2164/2164 [==============================] - 13s 6ms/step - loss: 3.0396 - val_loss: 3.2267\n",
      "Epoch 54/60\n",
      "2162/2164 [============================>.] - ETA: 0s - loss: 3.0367\n",
      "Epoch 00054: val_loss improved from 3.22671 to 3.21551, saving model to best_model_4.h5\n",
      "2164/2164 [==============================] - 13s 6ms/step - loss: 3.0367 - val_loss: 3.2155\n",
      "Epoch 55/60\n",
      "2163/2164 [============================>.] - ETA: 0s - loss: 3.0361\n",
      "Epoch 00055: val_loss improved from 3.21551 to 3.20983, saving model to best_model_4.h5\n",
      "2164/2164 [==============================] - 13s 6ms/step - loss: 3.0362 - val_loss: 3.2098\n",
      "Epoch 56/60\n",
      "2157/2164 [============================>.] - ETA: 0s - loss: 3.0362\n",
      "Epoch 00056: val_loss did not improve from 3.20983\n",
      "2164/2164 [==============================] - 13s 6ms/step - loss: 3.0368 - val_loss: 3.2298\n",
      "Epoch 57/60\n",
      "2161/2164 [============================>.] - ETA: 0s - loss: 3.0326\n",
      "Epoch 00057: val_loss did not improve from 3.20983\n",
      "2164/2164 [==============================] - 13s 6ms/step - loss: 3.0327 - val_loss: 3.2287\n",
      "Epoch 58/60\n",
      "2157/2164 [============================>.] - ETA: 0s - loss: 3.0305\n",
      "Epoch 00058: val_loss improved from 3.20983 to 3.20868, saving model to best_model_4.h5\n",
      "2164/2164 [==============================] - 13s 6ms/step - loss: 3.0308 - val_loss: 3.2087\n",
      "Epoch 59/60\n",
      "2157/2164 [============================>.] - ETA: 0s - loss: 3.0291\n",
      "Epoch 00059: val_loss did not improve from 3.20868\n",
      "2164/2164 [==============================] - 13s 6ms/step - loss: 3.0292 - val_loss: 3.2093\n",
      "Epoch 60/60\n",
      "2163/2164 [============================>.] - ETA: 0s - loss: 3.0316\n",
      "Epoch 00060: val_loss did not improve from 3.20868\n",
      "2164/2164 [==============================] - 13s 6ms/step - loss: 3.0318 - val_loss: 3.2090\n"
     ]
    }
   ],
   "source": [
    "history4 = model4.fit(np.array(x_tr), np.array(y_tr), batch_size=64, \n",
    "                    epochs=60, validation_data=(np.array(x_val),\n",
    "                                                np.array(y_val)),verbose =1, callbacks=[mc4])"
   ]
  },
  {
   "cell_type": "markdown",
   "id": "ZyF-cD6_-tWk",
   "metadata": {
    "id": "ZyF-cD6_-tWk"
   },
   "source": [
    "Bigger val loss decrease to 3.20868 from previous model val loss 3.60457."
   ]
  },
  {
   "cell_type": "code",
   "execution_count": 101,
   "id": "M9L7n-rtlAJI",
   "metadata": {
    "id": "M9L7n-rtlAJI"
   },
   "outputs": [],
   "source": [
    "model4 =load_model('best_model_4.h5')"
   ]
  },
  {
   "cell_type": "code",
   "execution_count": 106,
   "id": "Pw8p3yYmoO0z",
   "metadata": {
    "colab": {
     "base_uri": "https://localhost:8080/"
    },
    "id": "Pw8p3yYmoO0z",
    "outputId": "7dddf84f-8dea-4984-afe7-b5486d874d05"
   },
   "outputs": [
    {
     "name": "stdout",
     "output_type": "stream",
     "text": [
      "[137, 82, 16, 39, 81, 89, 16, 82, 81, 39, 16, 48, 137, 39, 16, 39, 81, 89, 16, 82, 0, 39, 16, 48, 137, 39, 16, 39, 0, 170]\n"
     ]
    }
   ],
   "source": [
    "ind =np.random.randint(0,len(x_val)-1)\n",
    "\n",
    "random_music = x_val[ind]\n",
    "\n",
    "predictions4 = []\n",
    "\n",
    "for i in range(30):\n",
    "  random_music = random_music.reshape(1,no_of_timesteps)\n",
    "\n",
    "  prob = model4.predict(random_music)[0]\n",
    "\n",
    "  y_pred = np.argmax(prob, axis=0)\n",
    "  predictions4.append(y_pred)\n",
    "\n",
    "  random_music=np.insert(random_music[0], len(random_music[0]),y_pred)\n",
    "  random_music = random_music[1:]\n",
    "\n",
    "print(predictions4)"
   ]
  },
  {
   "cell_type": "code",
   "execution_count": 107,
   "id": "avtYyzuBoeq3",
   "metadata": {
    "id": "avtYyzuBoeq3"
   },
   "outputs": [],
   "source": [
    "predicted_notes4 = [x_int_to_note[i] for i in predictions4]"
   ]
  },
  {
   "cell_type": "code",
   "execution_count": 108,
   "id": "bQdXwRofou6u",
   "metadata": {
    "id": "bQdXwRofou6u"
   },
   "outputs": [],
   "source": [
    "convert_to_midi(predicted_notes4)"
   ]
  },
  {
   "cell_type": "code",
   "execution_count": 109,
   "id": "KkeaDYKgpD-G",
   "metadata": {
    "colab": {
     "base_uri": "https://localhost:8080/"
    },
    "id": "KkeaDYKgpD-G",
    "outputId": "59baf4ec-e993-440a-8842-e5f9c22002a2"
   },
   "outputs": [
    {
     "data": {
      "text/plain": [
       "['G#2',\n",
       " 'B-4',\n",
       " 'E-3',\n",
       " 'C#5',\n",
       " 'G3',\n",
       " 'E-4',\n",
       " 'E-3',\n",
       " 'B-4',\n",
       " 'G3',\n",
       " 'C#5',\n",
       " 'E-3',\n",
       " 'E-5',\n",
       " 'G#2',\n",
       " 'C#5',\n",
       " 'E-3',\n",
       " 'C#5',\n",
       " 'G3',\n",
       " 'E-4',\n",
       " 'E-3',\n",
       " 'B-4',\n",
       " 'G#3',\n",
       " 'C#5',\n",
       " 'E-3',\n",
       " 'E-5',\n",
       " 'G#2',\n",
       " 'C#5',\n",
       " 'E-3',\n",
       " 'C#5',\n",
       " 'G#3',\n",
       " 'G#4']"
      ]
     },
     "execution_count": 109,
     "metadata": {},
     "output_type": "execute_result"
    }
   ],
   "source": [
    "predicted_notes4"
   ]
  },
  {
   "cell_type": "markdown",
   "id": "UIKNoNS6_Ecj",
   "metadata": {
    "id": "UIKNoNS6_Ecj"
   },
   "source": [
    "Not that it necessarily indicates better music generation, but there is a bigger variety of notes in this model."
   ]
  },
  {
   "cell_type": "code",
   "execution_count": 111,
   "id": "_HHHR9nwpFDj",
   "metadata": {
    "colab": {
     "base_uri": "https://localhost:8080/",
     "height": 498
    },
    "id": "_HHHR9nwpFDj",
    "outputId": "0cf6192f-09a5-4158-e954-d6d36b7f648b"
   },
   "outputs": [
    {
     "data": {
      "image/png": "[encoded data removed]",
      "text/plain": [
       "<Figure size 864x576 with 1 Axes>"
      ]
     },
     "metadata": {
      "image/png": {
       "height": 481,
       "width": 706
      },
      "needs_background": "light"
     },
     "output_type": "display_data"
    }
   ],
   "source": [
    "train_loss4=history4.history['loss']\n",
    "test_loss4= history4.history['val_loss']\n",
    "\n",
    "\n",
    "plt.figure(figsize=(12,8))\n",
    "plt.title('Training versus Testing loss(model_4)')\n",
    "plt.plot(train_loss4, label ='Training Loss', color = 'crimson')\n",
    "plt.plot(test_loss4, label = 'Testing loss', color = 'navy')\n",
    "plt.legend();\n",
    "plt.savefig('4thmodel_loss_plot.png')"
   ]
  },
  {
   "cell_type": "markdown",
   "id": "52541633-d13c-43e2-9372-ce135a94e7dc",
   "metadata": {},
   "source": [
    "Model 4 included a reduction of dropout to .2, and a change in how the layers are stacked by having the filter value start high and then descend. An increase in parameters seems to lead to a better value of the loss function:3.20868."
   ]
  },
  {
   "cell_type": "code",
   "execution_count": 112,
   "id": "vxZrRTcupuoq",
   "metadata": {
    "colab": {
     "base_uri": "https://localhost:8080/"
    },
    "id": "vxZrRTcupuoq",
    "outputId": "9ec5889d-56a4-41ea-a48f-5d7970d24c14"
   },
   "outputs": [
    {
     "name": "stdout",
     "output_type": "stream",
     "text": [
      "Model: \"sequential_4\"\n",
      "_________________________________________________________________\n",
      " Layer (type)                Output Shape              Param #   \n",
      "=================================================================\n",
      " embedding_4 (Embedding)     (None, 32, 100)           21000     \n",
      "                                                                 \n",
      " conv1d_16 (Conv1D)          (None, 32, 512)           154112    \n",
      "                                                                 \n",
      " dropout_16 (Dropout)        (None, 32, 512)           0         \n",
      "                                                                 \n",
      " max_pooling1d_16 (MaxPoolin  (None, 16, 512)          0         \n",
      " g1D)                                                            \n",
      "                                                                 \n",
      " conv1d_17 (Conv1D)          (None, 16, 256)           393472    \n",
      "                                                                 \n",
      " dropout_17 (Dropout)        (None, 16, 256)           0         \n",
      "                                                                 \n",
      " max_pooling1d_17 (MaxPoolin  (None, 8, 256)           0         \n",
      " g1D)                                                            \n",
      "                                                                 \n",
      " conv1d_18 (Conv1D)          (None, 8, 128)            98432     \n",
      "                                                                 \n",
      " dropout_18 (Dropout)        (None, 8, 128)            0         \n",
      "                                                                 \n",
      " max_pooling1d_18 (MaxPoolin  (None, 4, 128)           0         \n",
      " g1D)                                                            \n",
      "                                                                 \n",
      " conv1d_19 (Conv1D)          (None, 4, 64)             24640     \n",
      "                                                                 \n",
      " dropout_19 (Dropout)        (None, 4, 64)             0         \n",
      "                                                                 \n",
      " max_pooling1d_19 (MaxPoolin  (None, 2, 64)            0         \n",
      " g1D)                                                            \n",
      "                                                                 \n",
      " global_max_pooling1d_4 (Glo  (None, 64)               0         \n",
      " balMaxPooling1D)                                                \n",
      "                                                                 \n",
      " dense_8 (Dense)             (None, 256)               16640     \n",
      "                                                                 \n",
      " dense_9 (Dense)             (None, 210)               53970     \n",
      "                                                                 \n",
      "=================================================================\n",
      "Total params: 762,266\n",
      "Trainable params: 762,266\n",
      "Non-trainable params: 0\n",
      "_________________________________________________________________\n"
     ]
    }
   ],
   "source": [
    "model5 = Sequential()\n",
    "#adjusted first two dropout layers to .1 and .15\n",
    "model5.add(Embedding(len(unique_x), 100, input_length=32, trainable=True))\n",
    "#conv1d learns local patterns of dta in cnns\n",
    "model5.add(Conv1D(512,3, padding= 'causal', activation = 'relu'))\n",
    "#added layer from original model\n",
    "model5.add(Dropout(0.1))\n",
    "model5.add(MaxPool1D(2))\n",
    "model5.add(Conv1D(256,3, padding = 'causal', activation = 'relu'))\n",
    "#decrease dropouts from second model\n",
    "model5.add(Dropout(0.15))\n",
    "# reduce dimensionality of this vector and overfitting, \n",
    "# we dont want to just repeat notes\n",
    "model5.add(MaxPool1D(2))\n",
    "model5.add(Conv1D(128,3, activation= 'relu', dilation_rate=2, padding='causal'))\n",
    "#increase dropout again\n",
    "model5.add(Dropout(0.18))\n",
    "model5.add(MaxPool1D(2))\n",
    "model5.add(Conv1D(64,3, activation = 'relu', dilation_rate=4, padding= 'causal'))\n",
    "model5.add(Dropout(0.2))\n",
    "model5.add(MaxPool1D(2))\n",
    "\n",
    "model5.add(GlobalMaxPool1D())\n",
    "\n",
    "model5.add(Dense(256, activation='relu'))\n",
    "model5.add(Dense(len(unique_y), activation = 'softmax'))\n",
    "\n",
    "model5.compile(loss = 'sparse_categorical_crossentropy', optimizer=Adam(lr=0.0007))\n",
    "#changed adam learning rate to .00007 \n",
    "model5.summary()"
   ]
  },
  {
   "cell_type": "code",
   "execution_count": 113,
   "id": "OfQ1kwWTrz2d",
   "metadata": {
    "id": "OfQ1kwWTrz2d"
   },
   "outputs": [],
   "source": [
    "mc5=ModelCheckpoint('best_model_5.h5', monitor = 'val_loss', mode = 'min',\n",
    "                   save_best_only=True, verbose =1)"
   ]
  },
  {
   "cell_type": "code",
   "execution_count": 114,
   "id": "5U3pkQHZr7al",
   "metadata": {
    "colab": {
     "base_uri": "https://localhost:8080/"
    },
    "id": "5U3pkQHZr7al",
    "outputId": "ef19e583-e6c9-4f57-d50f-4c1cc9d5e6e3"
   },
   "outputs": [
    {
     "name": "stdout",
     "output_type": "stream",
     "text": [
      "Epoch 1/60\n",
      "4324/4327 [============================>.] - ETA: 0s - loss: 4.2410\n",
      "Epoch 00001: val_loss improved from inf to 4.03504, saving model to best_model_5.h5\n",
      "4327/4327 [==============================] - 26s 6ms/step - loss: 4.2409 - val_loss: 4.0350\n",
      "Epoch 2/60\n",
      "4318/4327 [============================>.] - ETA: 0s - loss: 3.8943\n",
      "Epoch 00002: val_loss improved from 4.03504 to 3.86306, saving model to best_model_5.h5\n",
      "4327/4327 [==============================] - 25s 6ms/step - loss: 3.8939 - val_loss: 3.8631\n",
      "Epoch 3/60\n",
      "4318/4327 [============================>.] - ETA: 0s - loss: 3.7368\n",
      "Epoch 00003: val_loss improved from 3.86306 to 3.74818, saving model to best_model_5.h5\n",
      "4327/4327 [==============================] - 24s 6ms/step - loss: 3.7366 - val_loss: 3.7482\n",
      "Epoch 4/60\n",
      "4323/4327 [============================>.] - ETA: 0s - loss: 3.6235\n",
      "Epoch 00004: val_loss improved from 3.74818 to 3.68422, saving model to best_model_5.h5\n",
      "4327/4327 [==============================] - 25s 6ms/step - loss: 3.6235 - val_loss: 3.6842\n",
      "Epoch 5/60\n",
      "4321/4327 [============================>.] - ETA: 0s - loss: 3.5385\n",
      "Epoch 00005: val_loss improved from 3.68422 to 3.59912, saving model to best_model_5.h5\n",
      "4327/4327 [==============================] - 24s 6ms/step - loss: 3.5384 - val_loss: 3.5991\n",
      "Epoch 6/60\n",
      "4327/4327 [==============================] - ETA: 0s - loss: 3.4684\n",
      "Epoch 00006: val_loss improved from 3.59912 to 3.53758, saving model to best_model_5.h5\n",
      "4327/4327 [==============================] - 24s 6ms/step - loss: 3.4684 - val_loss: 3.5376\n",
      "Epoch 7/60\n",
      "4320/4327 [============================>.] - ETA: 0s - loss: 3.4126\n",
      "Epoch 00007: val_loss improved from 3.53758 to 3.49376, saving model to best_model_5.h5\n",
      "4327/4327 [==============================] - 24s 6ms/step - loss: 3.4127 - val_loss: 3.4938\n",
      "Epoch 8/60\n",
      "4326/4327 [============================>.] - ETA: 0s - loss: 3.3684\n",
      "Epoch 00008: val_loss improved from 3.49376 to 3.47674, saving model to best_model_5.h5\n",
      "4327/4327 [==============================] - 24s 6ms/step - loss: 3.3683 - val_loss: 3.4767\n",
      "Epoch 9/60\n",
      "4318/4327 [============================>.] - ETA: 0s - loss: 3.3317\n",
      "Epoch 00009: val_loss improved from 3.47674 to 3.44379, saving model to best_model_5.h5\n",
      "4327/4327 [==============================] - 24s 6ms/step - loss: 3.3317 - val_loss: 3.4438\n",
      "Epoch 10/60\n",
      "4320/4327 [============================>.] - ETA: 0s - loss: 3.2973\n",
      "Epoch 00010: val_loss improved from 3.44379 to 3.41457, saving model to best_model_5.h5\n",
      "4327/4327 [==============================] - 24s 6ms/step - loss: 3.2971 - val_loss: 3.4146\n",
      "Epoch 11/60\n",
      "4317/4327 [============================>.] - ETA: 0s - loss: 3.2675\n",
      "Epoch 00011: val_loss improved from 3.41457 to 3.39352, saving model to best_model_5.h5\n",
      "4327/4327 [==============================] - 24s 6ms/step - loss: 3.2674 - val_loss: 3.3935\n",
      "Epoch 12/60\n",
      "4321/4327 [============================>.] - ETA: 0s - loss: 3.2410\n",
      "Epoch 00012: val_loss did not improve from 3.39352\n",
      "4327/4327 [==============================] - 24s 6ms/step - loss: 3.2411 - val_loss: 3.3951\n",
      "Epoch 13/60\n",
      "4325/4327 [============================>.] - ETA: 0s - loss: 3.2179\n",
      "Epoch 00013: val_loss improved from 3.39352 to 3.35399, saving model to best_model_5.h5\n",
      "4327/4327 [==============================] - 24s 6ms/step - loss: 3.2180 - val_loss: 3.3540\n",
      "Epoch 14/60\n",
      "4323/4327 [============================>.] - ETA: 0s - loss: 3.2010\n",
      "Epoch 00014: val_loss did not improve from 3.35399\n",
      "4327/4327 [==============================] - 24s 6ms/step - loss: 3.2009 - val_loss: 3.3648\n",
      "Epoch 15/60\n",
      "4323/4327 [============================>.] - ETA: 0s - loss: 3.1846\n",
      "Epoch 00015: val_loss improved from 3.35399 to 3.34902, saving model to best_model_5.h5\n",
      "4327/4327 [==============================] - 24s 6ms/step - loss: 3.1846 - val_loss: 3.3490\n",
      "Epoch 16/60\n",
      "4323/4327 [============================>.] - ETA: 0s - loss: 3.1671\n",
      "Epoch 00016: val_loss improved from 3.34902 to 3.34108, saving model to best_model_5.h5\n",
      "4327/4327 [==============================] - 24s 6ms/step - loss: 3.1669 - val_loss: 3.3411\n",
      "Epoch 17/60\n",
      "4320/4327 [============================>.] - ETA: 0s - loss: 3.1507\n",
      "Epoch 00017: val_loss improved from 3.34108 to 3.33337, saving model to best_model_5.h5\n",
      "4327/4327 [==============================] - 24s 6ms/step - loss: 3.1510 - val_loss: 3.3334\n",
      "Epoch 18/60\n",
      "4320/4327 [============================>.] - ETA: 0s - loss: 3.1404\n",
      "Epoch 00018: val_loss improved from 3.33337 to 3.30871, saving model to best_model_5.h5\n",
      "4327/4327 [==============================] - 24s 6ms/step - loss: 3.1405 - val_loss: 3.3087\n",
      "Epoch 19/60\n",
      "4320/4327 [============================>.] - ETA: 0s - loss: 3.1270\n",
      "Epoch 00019: val_loss did not improve from 3.30871\n",
      "4327/4327 [==============================] - 24s 6ms/step - loss: 3.1273 - val_loss: 3.3178\n",
      "Epoch 20/60\n",
      "4322/4327 [============================>.] - ETA: 0s - loss: 3.1137\n",
      "Epoch 00020: val_loss improved from 3.30871 to 3.29593, saving model to best_model_5.h5\n",
      "4327/4327 [==============================] - 24s 6ms/step - loss: 3.1136 - val_loss: 3.2959\n",
      "Epoch 21/60\n",
      "4318/4327 [============================>.] - ETA: 0s - loss: 3.1032\n",
      "Epoch 00021: val_loss improved from 3.29593 to 3.28872, saving model to best_model_5.h5\n",
      "4327/4327 [==============================] - 24s 6ms/step - loss: 3.1034 - val_loss: 3.2887\n",
      "Epoch 22/60\n",
      "4326/4327 [============================>.] - ETA: 0s - loss: 3.0885\n",
      "Epoch 00022: val_loss did not improve from 3.28872\n",
      "4327/4327 [==============================] - 24s 6ms/step - loss: 3.0885 - val_loss: 3.2951\n",
      "Epoch 23/60\n",
      "4319/4327 [============================>.] - ETA: 0s - loss: 3.0798\n",
      "Epoch 00023: val_loss did not improve from 3.28872\n",
      "4327/4327 [==============================] - 24s 6ms/step - loss: 3.0799 - val_loss: 3.3017\n",
      "Epoch 24/60\n",
      "4321/4327 [============================>.] - ETA: 0s - loss: 3.0747\n",
      "Epoch 00024: val_loss improved from 3.28872 to 3.25873, saving model to best_model_5.h5\n",
      "4327/4327 [==============================] - 24s 6ms/step - loss: 3.0746 - val_loss: 3.2587\n",
      "Epoch 25/60\n",
      "4327/4327 [==============================] - ETA: 0s - loss: 3.0669\n",
      "Epoch 00025: val_loss did not improve from 3.25873\n",
      "4327/4327 [==============================] - 24s 6ms/step - loss: 3.0669 - val_loss: 3.2864\n",
      "Epoch 26/60\n",
      "4324/4327 [============================>.] - ETA: 0s - loss: 3.0566\n",
      "Epoch 00026: val_loss did not improve from 3.25873\n",
      "4327/4327 [==============================] - 24s 6ms/step - loss: 3.0566 - val_loss: 3.2706\n",
      "Epoch 27/60\n",
      "4321/4327 [============================>.] - ETA: 0s - loss: 3.0510\n",
      "Epoch 00027: val_loss did not improve from 3.25873\n",
      "4327/4327 [==============================] - 24s 6ms/step - loss: 3.0509 - val_loss: 3.2683\n",
      "Epoch 28/60\n",
      "4323/4327 [============================>.] - ETA: 0s - loss: 3.0449\n",
      "Epoch 00028: val_loss did not improve from 3.25873\n",
      "4327/4327 [==============================] - 24s 6ms/step - loss: 3.0449 - val_loss: 3.2693\n",
      "Epoch 29/60\n",
      "4319/4327 [============================>.] - ETA: 0s - loss: 3.0415\n",
      "Epoch 00029: val_loss improved from 3.25873 to 3.25813, saving model to best_model_5.h5\n",
      "4327/4327 [==============================] - 24s 6ms/step - loss: 3.0415 - val_loss: 3.2581\n",
      "Epoch 30/60\n",
      "4325/4327 [============================>.] - ETA: 0s - loss: 3.0346\n",
      "Epoch 00030: val_loss did not improve from 3.25813\n",
      "4327/4327 [==============================] - 24s 6ms/step - loss: 3.0347 - val_loss: 3.2621\n",
      "Epoch 31/60\n",
      "4321/4327 [============================>.] - ETA: 0s - loss: 3.0282\n",
      "Epoch 00031: val_loss improved from 3.25813 to 3.25709, saving model to best_model_5.h5\n",
      "4327/4327 [==============================] - 24s 6ms/step - loss: 3.0285 - val_loss: 3.2571\n",
      "Epoch 32/60\n",
      "4318/4327 [============================>.] - ETA: 0s - loss: 3.0246\n",
      "Epoch 00032: val_loss improved from 3.25709 to 3.25307, saving model to best_model_5.h5\n",
      "4327/4327 [==============================] - 24s 6ms/step - loss: 3.0251 - val_loss: 3.2531\n",
      "Epoch 33/60\n",
      "4327/4327 [==============================] - ETA: 0s - loss: 3.0170\n",
      "Epoch 00033: val_loss improved from 3.25307 to 3.24603, saving model to best_model_5.h5\n",
      "4327/4327 [==============================] - 24s 6ms/step - loss: 3.0170 - val_loss: 3.2460\n",
      "Epoch 34/60\n",
      "4317/4327 [============================>.] - ETA: 0s - loss: 3.0130\n",
      "Epoch 00034: val_loss improved from 3.24603 to 3.24578, saving model to best_model_5.h5\n",
      "4327/4327 [==============================] - 24s 6ms/step - loss: 3.0129 - val_loss: 3.2458\n",
      "Epoch 35/60\n",
      "4326/4327 [============================>.] - ETA: 0s - loss: 3.0025\n",
      "Epoch 00035: val_loss improved from 3.24578 to 3.23978, saving model to best_model_5.h5\n",
      "4327/4327 [==============================] - 24s 6ms/step - loss: 3.0025 - val_loss: 3.2398\n",
      "Epoch 36/60\n",
      "4317/4327 [============================>.] - ETA: 0s - loss: 3.0045\n",
      "Epoch 00036: val_loss did not improve from 3.23978\n",
      "4327/4327 [==============================] - 24s 6ms/step - loss: 3.0047 - val_loss: 3.2444\n",
      "Epoch 37/60\n",
      "4324/4327 [============================>.] - ETA: 0s - loss: 2.9967\n",
      "Epoch 00037: val_loss improved from 3.23978 to 3.22986, saving model to best_model_5.h5\n",
      "4327/4327 [==============================] - 24s 6ms/step - loss: 2.9967 - val_loss: 3.2299\n",
      "Epoch 38/60\n",
      "4324/4327 [============================>.] - ETA: 0s - loss: 2.9978\n",
      "Epoch 00038: val_loss improved from 3.22986 to 3.22524, saving model to best_model_5.h5\n",
      "4327/4327 [==============================] - 24s 6ms/step - loss: 2.9979 - val_loss: 3.2252\n",
      "Epoch 39/60\n",
      "4327/4327 [==============================] - ETA: 0s - loss: 2.9922\n",
      "Epoch 00039: val_loss did not improve from 3.22524\n",
      "4327/4327 [==============================] - 24s 6ms/step - loss: 2.9922 - val_loss: 3.2327\n",
      "Epoch 40/60\n",
      "4318/4327 [============================>.] - ETA: 0s - loss: 2.9880\n",
      "Epoch 00040: val_loss did not improve from 3.22524\n",
      "4327/4327 [==============================] - 24s 6ms/step - loss: 2.9880 - val_loss: 3.2271\n",
      "Epoch 41/60\n",
      "4322/4327 [============================>.] - ETA: 0s - loss: 2.9887\n",
      "Epoch 00041: val_loss improved from 3.22524 to 3.22425, saving model to best_model_5.h5\n",
      "4327/4327 [==============================] - 24s 6ms/step - loss: 2.9887 - val_loss: 3.2242\n",
      "Epoch 42/60\n",
      "4320/4327 [============================>.] - ETA: 0s - loss: 2.9793\n",
      "Epoch 00042: val_loss did not improve from 3.22425\n",
      "4327/4327 [==============================] - 24s 6ms/step - loss: 2.9791 - val_loss: 3.2318\n",
      "Epoch 43/60\n",
      "4322/4327 [============================>.] - ETA: 0s - loss: 2.9750\n",
      "Epoch 00043: val_loss did not improve from 3.22425\n",
      "4327/4327 [==============================] - 24s 6ms/step - loss: 2.9752 - val_loss: 3.2265\n",
      "Epoch 44/60\n",
      "4326/4327 [============================>.] - ETA: 0s - loss: 2.9738\n",
      "Epoch 00044: val_loss did not improve from 3.22425\n",
      "4327/4327 [==============================] - 24s 6ms/step - loss: 2.9738 - val_loss: 3.2326\n",
      "Epoch 45/60\n",
      "4325/4327 [============================>.] - ETA: 0s - loss: 2.9688\n",
      "Epoch 00045: val_loss did not improve from 3.22425\n",
      "4327/4327 [==============================] - 24s 6ms/step - loss: 2.9688 - val_loss: 3.2281\n",
      "Epoch 46/60\n",
      "4319/4327 [============================>.] - ETA: 0s - loss: 2.9669\n",
      "Epoch 00046: val_loss did not improve from 3.22425\n",
      "4327/4327 [==============================] - 24s 6ms/step - loss: 2.9673 - val_loss: 3.2260\n",
      "Epoch 47/60\n",
      "4320/4327 [============================>.] - ETA: 0s - loss: 2.9604\n",
      "Epoch 00047: val_loss improved from 3.22425 to 3.21867, saving model to best_model_5.h5\n",
      "4327/4327 [==============================] - 24s 6ms/step - loss: 2.9607 - val_loss: 3.2187\n",
      "Epoch 48/60\n",
      "4325/4327 [============================>.] - ETA: 0s - loss: 2.9591\n",
      "Epoch 00048: val_loss did not improve from 3.21867\n",
      "4327/4327 [==============================] - 24s 6ms/step - loss: 2.9592 - val_loss: 3.2372\n",
      "Epoch 49/60\n",
      "4317/4327 [============================>.] - ETA: 0s - loss: 2.9564\n",
      "Epoch 00049: val_loss did not improve from 3.21867\n",
      "4327/4327 [==============================] - 24s 6ms/step - loss: 2.9565 - val_loss: 3.2290\n",
      "Epoch 50/60\n",
      "4325/4327 [============================>.] - ETA: 0s - loss: 2.9538\n",
      "Epoch 00050: val_loss did not improve from 3.21867\n",
      "4327/4327 [==============================] - 24s 6ms/step - loss: 2.9539 - val_loss: 3.2276\n",
      "Epoch 51/60\n",
      "4323/4327 [============================>.] - ETA: 0s - loss: 2.9551\n",
      "Epoch 00051: val_loss did not improve from 3.21867\n",
      "4327/4327 [==============================] - 24s 6ms/step - loss: 2.9552 - val_loss: 3.2193\n",
      "Epoch 52/60\n",
      "4323/4327 [============================>.] - ETA: 0s - loss: 2.9448\n",
      "Epoch 00052: val_loss did not improve from 3.21867\n",
      "4327/4327 [==============================] - 24s 6ms/step - loss: 2.9450 - val_loss: 3.2220\n",
      "Epoch 53/60\n",
      "4319/4327 [============================>.] - ETA: 0s - loss: 2.9471\n",
      "Epoch 00053: val_loss improved from 3.21867 to 3.21762, saving model to best_model_5.h5\n",
      "4327/4327 [==============================] - 25s 6ms/step - loss: 2.9474 - val_loss: 3.2176\n",
      "Epoch 54/60\n",
      "4324/4327 [============================>.] - ETA: 0s - loss: 2.9449\n",
      "Epoch 00054: val_loss did not improve from 3.21762\n",
      "4327/4327 [==============================] - 24s 6ms/step - loss: 2.9450 - val_loss: 3.2236\n",
      "Epoch 55/60\n",
      "4327/4327 [==============================] - ETA: 0s - loss: 2.9400\n",
      "Epoch 00055: val_loss improved from 3.21762 to 3.21744, saving model to best_model_5.h5\n",
      "4327/4327 [==============================] - 24s 6ms/step - loss: 2.9400 - val_loss: 3.2174\n",
      "Epoch 56/60\n",
      "4327/4327 [==============================] - ETA: 0s - loss: 2.9399\n",
      "Epoch 00056: val_loss did not improve from 3.21744\n",
      "4327/4327 [==============================] - 24s 6ms/step - loss: 2.9399 - val_loss: 3.2198\n",
      "Epoch 57/60\n",
      "4325/4327 [============================>.] - ETA: 0s - loss: 2.9397\n",
      "Epoch 00057: val_loss improved from 3.21744 to 3.21406, saving model to best_model_5.h5\n",
      "4327/4327 [==============================] - 24s 6ms/step - loss: 2.9398 - val_loss: 3.2141\n",
      "Epoch 58/60\n",
      "4318/4327 [============================>.] - ETA: 0s - loss: 2.9393\n",
      "Epoch 00058: val_loss did not improve from 3.21406\n",
      "4327/4327 [==============================] - 24s 6ms/step - loss: 2.9393 - val_loss: 3.2221\n",
      "Epoch 59/60\n",
      "4318/4327 [============================>.] - ETA: 0s - loss: 2.9390\n",
      "Epoch 00059: val_loss did not improve from 3.21406\n",
      "4327/4327 [==============================] - 24s 6ms/step - loss: 2.9390 - val_loss: 3.2230\n",
      "Epoch 60/60\n",
      "4323/4327 [============================>.] - ETA: 0s - loss: 2.9281\n",
      "Epoch 00060: val_loss did not improve from 3.21406\n",
      "4327/4327 [==============================] - 24s 6ms/step - loss: 2.9281 - val_loss: 3.2167\n"
     ]
    }
   ],
   "source": [
    "history5 = model5.fit(np.array(x_tr), np.array(y_tr), batch_size=32, #decreased batch size from 64\n",
    "                    epochs=60, validation_data=(np.array(x_val),\n",
    "                                                np.array(y_val)),verbose =1, callbacks=[mc5])"
   ]
  },
  {
   "cell_type": "markdown",
   "id": "wW-Gv4rlAA0A",
   "metadata": {
    "id": "wW-Gv4rlAA0A"
   },
   "source": [
    "Model 5 has a val_loss of 3.21406 which is a slight increase from model 4s val_loss of 3.20868."
   ]
  },
  {
   "cell_type": "code",
   "execution_count": 115,
   "id": "Fw05VT_IsFGD",
   "metadata": {
    "id": "Fw05VT_IsFGD"
   },
   "outputs": [],
   "source": [
    "model5 =load_model('best_model_5.h5')"
   ]
  },
  {
   "cell_type": "code",
   "execution_count": 126,
   "id": "RU_tuozpxx2g",
   "metadata": {
    "colab": {
     "base_uri": "https://localhost:8080/"
    },
    "id": "RU_tuozpxx2g",
    "outputId": "bc5c320e-eee2-4f59-a3d5-669142371697"
   },
   "outputs": [
    {
     "name": "stdout",
     "output_type": "stream",
     "text": [
      "[1, 20, 209, 209, 1, 82, 209, 6, 209, 82, 82, 82, 209, 82, 209, 209, 209, 49, 209, 59, 209, 49, 59, 59, 59, 59, 209, 49, 209, 209, 209, 209, 82, 209, 209, 49, 209, 209, 49, 49, 49, 209, 49, 82, 61]\n"
     ]
    }
   ],
   "source": [
    "ind =np.random.randint(0,len(x_val)-1)\n",
    "\n",
    "random_music = x_val[ind]\n",
    "\n",
    "predictions5 = []\n",
    "\n",
    "for i in range(45):\n",
    "  random_music = random_music.reshape(1,no_of_timesteps)\n",
    "\n",
    "  prob = model5.predict(random_music)[0]\n",
    "\n",
    "  y_pred = np.argmax(prob, axis=0)\n",
    "  predictions5.append(y_pred)\n",
    "\n",
    "  random_music=np.insert(random_music[0], len(random_music[0]),y_pred)\n",
    "  random_music = random_music[1:]\n",
    "\n",
    "print(predictions5)"
   ]
  },
  {
   "cell_type": "code",
   "execution_count": 127,
   "id": "NkSAANTGyAST",
   "metadata": {
    "id": "NkSAANTGyAST"
   },
   "outputs": [],
   "source": [
    "predicted_notes5 = [x_int_to_note[i] for i in predictions5]"
   ]
  },
  {
   "cell_type": "code",
   "execution_count": 130,
   "id": "Bcy6AXspzByW",
   "metadata": {
    "id": "Bcy6AXspzByW"
   },
   "outputs": [],
   "source": [
    "convert_to_midi(predicted_notes5)"
   ]
  },
  {
   "cell_type": "code",
   "execution_count": 128,
   "id": "2suE1zHryfBJ",
   "metadata": {
    "colab": {
     "base_uri": "https://localhost:8080/"
    },
    "id": "2suE1zHryfBJ",
    "outputId": "31542ca2-91b2-4a8b-fe87-a9bd8bc81157"
   },
   "outputs": [
    {
     "data": {
      "text/plain": [
       "['10.2',\n",
       " 'B-5',\n",
       " 'D5',\n",
       " 'D5',\n",
       " '10.2',\n",
       " 'B-4',\n",
       " 'D5',\n",
       " '10.2.5',\n",
       " 'D5',\n",
       " 'B-4',\n",
       " 'B-4',\n",
       " 'B-4',\n",
       " 'D5',\n",
       " 'B-4',\n",
       " 'D5',\n",
       " 'D5',\n",
       " 'D5',\n",
       " 'F5',\n",
       " 'D5',\n",
       " 'G5',\n",
       " 'D5',\n",
       " 'F5',\n",
       " 'G5',\n",
       " 'G5',\n",
       " 'G5',\n",
       " 'G5',\n",
       " 'D5',\n",
       " 'F5',\n",
       " 'D5',\n",
       " 'D5',\n",
       " 'D5',\n",
       " 'D5',\n",
       " 'B-4',\n",
       " 'D5',\n",
       " 'D5',\n",
       " 'F5',\n",
       " 'D5',\n",
       " 'D5',\n",
       " 'F5',\n",
       " 'F5',\n",
       " 'F5',\n",
       " 'D5',\n",
       " 'F5',\n",
       " 'B-4',\n",
       " 'C5']"
      ]
     },
     "execution_count": 128,
     "metadata": {},
     "output_type": "execute_result"
    }
   ],
   "source": [
    "predicted_notes5"
   ]
  },
  {
   "cell_type": "code",
   "execution_count": 129,
   "id": "od0DXvzqyhbX",
   "metadata": {
    "colab": {
     "base_uri": "https://localhost:8080/",
     "height": 498
    },
    "id": "od0DXvzqyhbX",
    "outputId": "66d9d969-918c-4a28-c8a2-96df98884d7a"
   },
   "outputs": [
    {
     "data": {
      "image/png": "[encoded data removed]",
      "text/plain": [
       "<Figure size 864x576 with 1 Axes>"
      ]
     },
     "metadata": {
      "image/png": {
       "height": 481,
       "width": 706
      },
      "needs_background": "light"
     },
     "output_type": "display_data"
    }
   ],
   "source": [
    "train_loss5=history5.history['loss']\n",
    "test_loss5= history5.history['val_loss']\n",
    "\n",
    "\n",
    "plt.figure(figsize=(12,8))\n",
    "plt.title('Training versus Testing loss(model_4)')\n",
    "plt.plot(train_loss5, label ='Training Loss', color = 'crimson')\n",
    "plt.plot(test_loss5, label = 'Testing loss', color = 'navy')\n",
    "plt.legend();\n",
    "plt.savefig('5thmodel_loss_plot.png')"
   ]
  },
  {
   "cell_type": "markdown",
   "id": "dd6f5cd1-d701-4b20-bddd-0bcd05a8f7ef",
   "metadata": {
    "id": "NArNhOgMyyAy"
   },
   "source": [
    "This version decreases dropouts to varying degrees for the first 2 layers.  Learning rate is decreased to .0007, the results are not too different from the previous model at 3.21."
   ]
  },
  {
   "cell_type": "code",
   "execution_count": null,
   "id": "c2fd3105-009e-40b4-9570-ebce7d3cb312",
   "metadata": {},
   "outputs": [],
   "source": []
  }
 ],
 "metadata": {
  "accelerator": "GPU",
  "colab": {
   "machine_shape": "hm",
   "name": "attempt_3.ipynb",
   "provenance": []
  },
  "kernelspec": {
   "display_name": "Python 3 (ipykernel)",
   "language": "python",
   "name": "python3"
  },
  "language_info": {
   "codemirror_mode": {
    "name": "ipython",
    "version": 3
   },
   "file_extension": ".py",
   "mimetype": "text/x-python",
   "name": "python",
   "nbconvert_exporter": "python",
   "pygments_lexer": "ipython3",
   "version": "3.8.8"
  }
 },
 "nbformat": 4,
 "nbformat_minor": 5
}
