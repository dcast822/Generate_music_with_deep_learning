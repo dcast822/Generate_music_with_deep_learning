{
 "cells": [
  {
   "cell_type": "code",
   "execution_count": 33,
   "id": "f64f14d7-8932-48e7-b102-a646e4ab42b1",
   "metadata": {
    "id": "f64f14d7-8932-48e7-b102-a646e4ab42b1"
   },
   "outputs": [],
   "source": [
    "import numpy as np\n",
    "import pandas as pd\n",
    "import os\n",
    "import matplotlib.pyplot as plt\n",
    "from collections import Counter\n",
    "import io\n",
    "\n",
    "from sklearn.model_selection import train_test_split\n",
    "from music21 import *\n",
    "import warnings\n",
    "warnings.filterwarnings(\"ignore\")\n",
    "warnings.simplefilter(\"ignore\")\n",
    "from keras.layers import *\n",
    "from keras.models import *\n",
    "from keras.callbacks import *\n",
    "import keras.backend as K"
   ]
  },
  {
   "cell_type": "code",
   "execution_count": 2,
   "id": "1cdcb752-ef44-407b-a7a1-8a425128c0d8",
   "metadata": {
    "id": "1cdcb752-ef44-407b-a7a1-8a425128c0d8"
   },
   "outputs": [],
   "source": [
    "#https://www.analyticsvidhya.com/blog/2020/01/how-to-perform-automatic-music-generation/\n",
    "def read_midi(file):\n",
    "    \n",
    "    print(\"Loading Music File:\",file)\n",
    "    \n",
    "    notes=[]\n",
    "    notes_to_parse = None\n",
    "    \n",
    "    #parsing a midi file\n",
    "    midi = converter.parse(file)\n",
    "  \n",
    "    #grouping based on different instruments\n",
    "    s2 = instrument.partitionByInstrument(midi)\n",
    "\n",
    "    #Looping over instruments\n",
    "    for part in s2.parts:\n",
    "    \n",
    "        #select elements of only piano\n",
    "        if 'Piano' in str(part): \n",
    "        \n",
    "            notes_to_parse = part.recurse() \n",
    "      \n",
    "            #if note or a chord\n",
    "            for element in notes_to_parse:\n",
    "                \n",
    "                if isinstance(element, note.Note):\n",
    "                    notes.append(str(element.pitch))\n",
    "                \n",
    "                elif isinstance(element, chord.Chord):\n",
    "                    notes.append('.'.join(str(n) for n in element.normalOrder))\n",
    "\n",
    "    return np.array(notes)"
   ]
  },
  {
   "cell_type": "code",
   "execution_count": 3,
   "id": "f61728ba-5c2b-40c4-a749-7a2fa6233ea5",
   "metadata": {
    "colab": {
     "base_uri": "https://localhost:8080/"
    },
    "id": "f61728ba-5c2b-40c4-a749-7a2fa6233ea5",
    "outputId": "d300cd55-2441-4e0e-a586-947b6a09bbe9"
   },
   "outputs": [
    {
     "name": "stdout",
     "output_type": "stream",
     "text": [
      "Loading Music File: /content/beethoven_opus22_3.mid\n",
      "Loading Music File: /content/mond_1.mid\n",
      "Loading Music File: /content/alb_se2.mid\n",
      "Loading Music File: /content/beethoven_opus22_2.mid\n",
      "Loading Music File: /content/bach_846.mid\n",
      "Loading Music File: /content/alb_se4.mid\n",
      "Loading Music File: /content/beethoven_opus10_1.mid\n",
      "Loading Music File: /content/beethoven_hammerklavier_4.mid\n",
      "Loading Music File: /content/beethoven_les_adieux_3.mid\n",
      "Loading Music File: /content/alb_se3.mid\n",
      "Loading Music File: /content/pathetique_2.mid\n",
      "Loading Music File: /content/bach_847.mid\n",
      "Loading Music File: /content/beethoven_opus90_1.mid\n",
      "Loading Music File: /content/alb_esp4.mid\n",
      "Loading Music File: /content/alb_se8.mid\n",
      "Loading Music File: /content/appass_3.mid\n",
      "Loading Music File: /content/waldstein_1.mid\n",
      "Loading Music File: /content/alb_esp1.mid\n",
      "Loading Music File: /content/beethoven_opus22_1.mid\n",
      "Loading Music File: /content/beethoven_opus90_2.mid\n",
      "Loading Music File: /content/alb_se6.mid\n",
      "Loading Music File: /content/mond_2.mid\n",
      "Loading Music File: /content/waldstein_2.mid\n",
      "Loading Music File: /content/mond_3.mid\n",
      "Loading Music File: /content/bach_850.mid\n",
      "Loading Music File: /content/beethoven_hammerklavier_2.mid\n",
      "Loading Music File: /content/alb_esp6.mid\n",
      "Loading Music File: /content/alb_se7.mid\n",
      "Loading Music File: /content/beethoven_les_adieux_1.mid\n",
      "Loading Music File: /content/appass_1.mid\n",
      "Loading Music File: /content/beethoven_les_adieux_2.mid\n",
      "Loading Music File: /content/alb_esp3.mid\n",
      "Loading Music File: /content/beethoven_hammerklavier_1.mid\n",
      "Loading Music File: /content/pathetique_3.mid\n",
      "Loading Music File: /content/alb_se1.mid\n",
      "Loading Music File: /content/beethoven_hammerklavier_3.mid\n",
      "Loading Music File: /content/elise.mid\n",
      "Loading Music File: /content/alb_esp5.mid\n",
      "Loading Music File: /content/pathetique_1.mid\n",
      "Loading Music File: /content/alb_se5.mid\n",
      "Loading Music File: /content/alb_esp2.mid\n",
      "Loading Music File: /content/islamei.mid\n",
      "Loading Music File: /content/appass_2.mid\n",
      "Loading Music File: /content/beethoven_opus10_3.mid\n",
      "Loading Music File: /content/beethoven_opus10_2.mid\n",
      "Loading Music File: /content/waldstein_3.mid\n",
      "Loading Music File: /content/beethoven_opus22_4.mid\n"
     ]
    }
   ],
   "source": [
    "path='/content/'\n",
    "\n",
    "#read all the filenames\n",
    "files=[i for i in os.listdir(path) if i.endswith(\".mid\")]\n",
    "\n",
    "#reading each midi file\n",
    "notes_array = np.array([read_midi(path+i) for i in files])"
   ]
  },
  {
   "cell_type": "markdown",
   "id": "4fae81a8-c7b2-469d-84e3-aadef215eb58",
   "metadata": {},
   "source": [
    "This first model contains 47 classical music songs."
   ]
  },
  {
   "cell_type": "code",
   "execution_count": 37,
   "id": "liRY3UyS-Mud",
   "metadata": {
    "colab": {
     "base_uri": "https://localhost:8080/"
    },
    "id": "liRY3UyS-Mud",
    "outputId": "a328f295-3a90-45e2-88f6-e6884f8f7830"
   },
   "outputs": [
    {
     "name": "stdout",
     "output_type": "stream",
     "text": [
      "92697\n"
     ]
    }
   ],
   "source": [
    "print(len(notes_))"
   ]
  },
  {
   "cell_type": "code",
   "execution_count": 39,
   "id": "G6XAL4vZ_Rgd",
   "metadata": {
    "colab": {
     "base_uri": "https://localhost:8080/"
    },
    "id": "G6XAL4vZ_Rgd",
    "outputId": "3acd971a-be5e-4f9f-8e40-99eb999e0b83"
   },
   "outputs": [
    {
     "name": "stdout",
     "output_type": "stream",
     "text": [
      "First fifty notes: ['D4', 'E-4', 'F4', 'B-2', 'B-3', 'D4', 'B-3', 'A4', 'G4', 'E-4', 'F4', 'G4', 'C4', 'A4', 'B-4', 'D4', 'C#4', 'F4', 'D4', 'B-3', 'A4', 'G4', 'E-4', 'F4', 'G4', 'C4', 'A4', 'B-4', 'D4', 'C#4', 'A4', 'B-4', 'D4', 'A3', 'C5', 'D5', 'B-3', 'G3', 'E5', '4.10', 'F3', '5.9', 'F4', 'F5', 'E-5', 'D5', 'E-5', 'F5', 'G5', 'F3']\n"
     ]
    }
   ],
   "source": [
    "print(\"First fifty notes:\",notes_[:50])"
   ]
  },
  {
   "cell_type": "markdown",
   "id": "b76lv47m-aai",
   "metadata": {
    "id": "b76lv47m-aai"
   },
   "source": [
    "Total note of 92,697 for the 47 files used in this particular iteration of the model."
   ]
  },
  {
   "cell_type": "code",
   "execution_count": 4,
   "id": "e21575b3-b411-4dcb-831e-2d46a1f60302",
   "metadata": {
    "colab": {
     "base_uri": "https://localhost:8080/"
    },
    "id": "e21575b3-b411-4dcb-831e-2d46a1f60302",
    "outputId": "9da66f1f-0722-4055-c086-c07331cda06d"
   },
   "outputs": [
    {
     "name": "stdout",
     "output_type": "stream",
     "text": [
      "308\n"
     ]
    }
   ],
   "source": [
    "#flatten array\n",
    "notes_ = [element for note_ in notes_array for element in note_]\n",
    "\n",
    "#No. of unique notes\n",
    "unique_notes = list(set(notes_))\n",
    "print(len(unique_notes))"
   ]
  },
  {
   "cell_type": "markdown",
   "id": "mhgg84lb-tgO",
   "metadata": {
    "id": "mhgg84lb-tgO"
   },
   "source": [
    "308 unique notes found in this midi set."
   ]
  },
  {
   "cell_type": "code",
   "execution_count": 41,
   "id": "3fc2025b-d9c6-4b9a-a6ed-4e94b04654a2",
   "metadata": {
    "colab": {
     "base_uri": "https://localhost:8080/",
     "height": 517
    },
    "id": "3fc2025b-d9c6-4b9a-a6ed-4e94b04654a2",
    "outputId": "66e28216-d714-4308-e07e-4fc327543312"
   },
   "outputs": [
    {
     "data": {
      "image/png": "[encoded data removed]",
      "text/plain": [
       "<Figure size 720x576 with 1 Axes>"
      ]
     },
     "metadata": {
      "image/png": {
       "height": 500,
       "width": 615
      },
      "needs_background": "light"
     },
     "output_type": "display_data"
    }
   ],
   "source": [
    "#computing frequency of each note\n",
    "freq = dict(Counter(notes_))\n",
    "\n",
    "#consider only the frequencies\n",
    "only_freq=[count for _,count in freq.items()]\n",
    "\n",
    "plt.figure(figsize=(10,8))\n",
    "\n",
    "plt.title(\"Frequency distribution of the notes\", fontsize=15)\n",
    "plt.ylabel('Count', fontsize= 13)\n",
    "plt.xlabel('Frequencies', fontsize= 13)\n",
    "plt.hist(only_freq, color = 'mediumvioletred')\n",
    "plt.savefig('1stdistplot.png');"
   ]
  },
  {
   "cell_type": "markdown",
   "id": "-xfODt0LAnoH",
   "metadata": {
    "id": "-xfODt0LAnoH"
   },
   "source": [
    "Appears that most common frequencies are lower than 250 as their count exceeds the 200 mark while everything else appears 50 times or less. "
   ]
  },
  {
   "cell_type": "code",
   "execution_count": 6,
   "id": "1b692766-21c3-4bdd-b57c-8b1b48fb74fc",
   "metadata": {
    "colab": {
     "base_uri": "https://localhost:8080/"
    },
    "id": "1b692766-21c3-4bdd-b57c-8b1b48fb74fc",
    "outputId": "2dabd748-eed8-4c19-8f50-7b45c2fc6c05"
   },
   "outputs": [
    {
     "name": "stdout",
     "output_type": "stream",
     "text": [
      "158\n"
     ]
    }
   ],
   "source": [
    "frequent_notes = [note_ for note_, count in freq.items() if count>=50]\n",
    "print(len(frequent_notes))"
   ]
  },
  {
   "cell_type": "markdown",
   "id": "kGObc0qk_EkE",
   "metadata": {
    "id": "kGObc0qk_EkE"
   },
   "source": [
    "158 notes make more than 50 appearances."
   ]
  },
  {
   "cell_type": "code",
   "execution_count": 7,
   "id": "65690e30-2b3b-40d9-9e47-20209920daf6",
   "metadata": {
    "id": "65690e30-2b3b-40d9-9e47-20209920daf6"
   },
   "outputs": [],
   "source": [
    "#files will only contain frequent notes\n",
    "new_music=[]\n",
    "\n",
    "for notes in notes_array:\n",
    "    temp=[]\n",
    "    for note_ in notes:\n",
    "        if note_ in frequent_notes:\n",
    "            temp.append(note_)            \n",
    "    new_music.append(temp)\n",
    "    \n",
    "new_music = np.array(new_music)"
   ]
  },
  {
   "cell_type": "code",
   "execution_count": 8,
   "id": "3f90f5cd-cced-429a-a4d0-c6023e64e57d",
   "metadata": {
    "id": "3f90f5cd-cced-429a-a4d0-c6023e64e57d"
   },
   "outputs": [],
   "source": [
    "#preparing input and output sequences where input is sequence of amplitude values and the output is the subsequent value\n",
    "no_of_timesteps = 32\n",
    "x = []\n",
    "y = []\n",
    "\n",
    "for note_ in new_music:\n",
    "    for i in range(0, len(note_) - no_of_timesteps, 1):\n",
    "        \n",
    "        #preparing input and output sequences\n",
    "        input_ = note_[i:i + no_of_timesteps]\n",
    "        output = note_[i + no_of_timesteps]\n",
    "        \n",
    "        x.append(input_)\n",
    "        y.append(output)\n",
    "        \n",
    "x=np.array(x)\n",
    "y=np.array(y)"
   ]
  },
  {
   "cell_type": "code",
   "execution_count": 9,
   "id": "35421387-94ec-4526-815c-34692f89b20b",
   "metadata": {
    "id": "35421387-94ec-4526-815c-34692f89b20b"
   },
   "outputs": [],
   "source": [
    "#Each note gets a unique integer\n",
    "unique_x = list(set(x.ravel()))\n",
    "x_note_to_int = dict((note_, number) for number, note_ in enumerate(unique_x))"
   ]
  },
  {
   "cell_type": "code",
   "execution_count": 10,
   "id": "79f0c875-390c-412f-b1bf-9b11449646cb",
   "metadata": {
    "id": "79f0c875-390c-412f-b1bf-9b11449646cb"
   },
   "outputs": [],
   "source": [
    "#preparing input sequences\n",
    "x_seq=[]\n",
    "for i in x:\n",
    "    temp=[]\n",
    "    for j in i:\n",
    "        #assigning unique integer to every note\n",
    "        temp.append(x_note_to_int[j])\n",
    "    x_seq.append(temp)\n",
    "    \n",
    "x_seq = np.array(x_seq)"
   ]
  },
  {
   "cell_type": "code",
   "execution_count": 11,
   "id": "2f68f227-3bc7-4e21-8a9a-64ce15a9af66",
   "metadata": {
    "id": "2f68f227-3bc7-4e21-8a9a-64ce15a9af66"
   },
   "outputs": [],
   "source": [
    "#preparing integer sequences for output data.\n",
    "unique_y = list(set(y))\n",
    "y_note_to_int = dict((note_, number) for number, note_ in enumerate(unique_y)) \n",
    "y_seq=np.array([y_note_to_int[i] for i in y])"
   ]
  },
  {
   "cell_type": "code",
   "execution_count": 12,
   "id": "5c459b73-f789-4b9b-99ab-a16b1bbc6ccb",
   "metadata": {
    "id": "5c459b73-f789-4b9b-99ab-a16b1bbc6ccb"
   },
   "outputs": [],
   "source": [
    "x_tr, x_val, y_tr, y_val = train_test_split(x_seq,y_seq,test_size=0.2,random_state=0)"
   ]
  },
  {
   "cell_type": "markdown",
   "id": "OUsL-Jl_HKuC",
   "metadata": {
    "id": "OUsL-Jl_HKuC"
   },
   "source": [
    "### Wavenet model"
   ]
  },
  {
   "cell_type": "code",
   "execution_count": 15,
   "id": "M0dLdnPAxc-c",
   "metadata": {
    "colab": {
     "base_uri": "https://localhost:8080/"
    },
    "id": "M0dLdnPAxc-c",
    "outputId": "423a5cf5-6a52-4d81-9058-08e7a14a91c1"
   },
   "outputs": [
    {
     "name": "stdout",
     "output_type": "stream",
     "text": [
      "Model: \"sequential\"\n",
      "_________________________________________________________________\n",
      " Layer (type)                Output Shape              Param #   \n",
      "=================================================================\n",
      " embedding (Embedding)       (None, 32, 100)           15800     \n",
      "                                                                 \n",
      " conv1d (Conv1D)             (None, 32, 64)            19264     \n",
      "                                                                 \n",
      " dropout (Dropout)           (None, 32, 64)            0         \n",
      "                                                                 \n",
      " max_pooling1d (MaxPooling1D  (None, 16, 64)           0         \n",
      " )                                                               \n",
      "                                                                 \n",
      " conv1d_1 (Conv1D)           (None, 16, 128)           24704     \n",
      "                                                                 \n",
      " dropout_1 (Dropout)         (None, 16, 128)           0         \n",
      "                                                                 \n",
      " max_pooling1d_1 (MaxPooling  (None, 8, 128)           0         \n",
      " 1D)                                                             \n",
      "                                                                 \n",
      " conv1d_2 (Conv1D)           (None, 8, 256)            98560     \n",
      "                                                                 \n",
      " dropout_2 (Dropout)         (None, 8, 256)            0         \n",
      "                                                                 \n",
      " max_pooling1d_2 (MaxPooling  (None, 4, 256)           0         \n",
      " 1D)                                                             \n",
      "                                                                 \n",
      " global_max_pooling1d (Globa  (None, 256)              0         \n",
      " lMaxPooling1D)                                                  \n",
      "                                                                 \n",
      " dense (Dense)               (None, 256)               65792     \n",
      "                                                                 \n",
      " dense_1 (Dense)             (None, 158)               40606     \n",
      "                                                                 \n",
      "=================================================================\n",
      "Total params: 264,726\n",
      "Trainable params: 264,726\n",
      "Non-trainable params: 0\n",
      "_________________________________________________________________\n"
     ]
    }
   ],
   "source": [
    "\n",
    "model = Sequential()\n",
    "\n",
    "model.add(Embedding(len(unique_x), 100, input_length=32, trainable=True))\n",
    "#conv1d learns local patterns of dta in cnns\n",
    "model.add(Conv1D(64,3, padding = 'causal', activation = 'relu'))\n",
    "model.add(Dropout(0.2))\n",
    "# reduce dimensionality of this vector and overfitting, \n",
    "# we dont want to just repeat notes\n",
    "model.add(MaxPool1D(2))\n",
    "\n",
    "model.add(Conv1D(128,3, activation= 'relu', dilation_rate=2, padding='causal'))\n",
    "model.add(Dropout(0.2))\n",
    "model.add(MaxPool1D(2))\n",
    "\n",
    "model.add(Conv1D(256,3, activation = 'relu', dilation_rate=4, padding= 'causal'))\n",
    "model.add(Dropout(0.2))\n",
    "model.add(MaxPool1D(2))\n",
    "\n",
    "model.add(GlobalMaxPool1D())\n",
    "\n",
    "model.add(Dense(256, activation='relu'))\n",
    "model.add(Dense(len(unique_y), activation = 'softmax'))\n",
    "\n",
    "model.compile(loss = 'sparse_categorical_crossentropy', optimizer='adam')\n",
    "\n",
    "model.summary()"
   ]
  },
  {
   "cell_type": "code",
   "execution_count": 16,
   "id": "duJc5l5EzC9C",
   "metadata": {
    "id": "duJc5l5EzC9C"
   },
   "outputs": [],
   "source": [
    "mc=ModelCheckpoint('best_model.h5', monitor = 'val_loss', mode = 'min',\n",
    "                   save_best_only=True, verbose =1)\n",
    "#min is the objective of chosen metric in order to decrease it."
   ]
  },
  {
   "cell_type": "code",
   "execution_count": 17,
   "id": "uRZhOU-7zRxU",
   "metadata": {
    "colab": {
     "base_uri": "https://localhost:8080/"
    },
    "id": "uRZhOU-7zRxU",
    "outputId": "309591ad-3374-4673-89e8-7d00a965d4d3"
   },
   "outputs": [
    {
     "name": "stdout",
     "output_type": "stream",
     "text": [
      "Epoch 1/50\n",
      "560/560 [==============================] - ETA: 0s - loss: 4.1654\n",
      "Epoch 00001: val_loss improved from inf to 3.97059, saving model to best_model.h5\n",
      "560/560 [==============================] - 13s 7ms/step - loss: 4.1654 - val_loss: 3.9706\n",
      "Epoch 2/50\n",
      "558/560 [============================>.] - ETA: 0s - loss: 3.7306\n",
      "Epoch 00002: val_loss improved from 3.97059 to 3.76555, saving model to best_model.h5\n",
      "560/560 [==============================] - 4s 7ms/step - loss: 3.7304 - val_loss: 3.7655\n",
      "Epoch 3/50\n",
      "558/560 [============================>.] - ETA: 0s - loss: 3.5845\n",
      "Epoch 00003: val_loss improved from 3.76555 to 3.68948, saving model to best_model.h5\n",
      "560/560 [==============================] - 4s 7ms/step - loss: 3.5846 - val_loss: 3.6895\n",
      "Epoch 4/50\n",
      "558/560 [============================>.] - ETA: 0s - loss: 3.4894\n",
      "Epoch 00004: val_loss improved from 3.68948 to 3.55543, saving model to best_model.h5\n",
      "560/560 [==============================] - 4s 7ms/step - loss: 3.4893 - val_loss: 3.5554\n",
      "Epoch 5/50\n",
      "552/560 [============================>.] - ETA: 0s - loss: 3.4097\n",
      "Epoch 00005: val_loss improved from 3.55543 to 3.50634, saving model to best_model.h5\n",
      "560/560 [==============================] - 4s 7ms/step - loss: 3.4089 - val_loss: 3.5063\n",
      "Epoch 6/50\n",
      "559/560 [============================>.] - ETA: 0s - loss: 3.3459\n",
      "Epoch 00006: val_loss improved from 3.50634 to 3.48277, saving model to best_model.h5\n",
      "560/560 [==============================] - 4s 7ms/step - loss: 3.3460 - val_loss: 3.4828\n",
      "Epoch 7/50\n",
      "555/560 [============================>.] - ETA: 0s - loss: 3.2864\n",
      "Epoch 00007: val_loss improved from 3.48277 to 3.40005, saving model to best_model.h5\n",
      "560/560 [==============================] - 4s 7ms/step - loss: 3.2861 - val_loss: 3.4001\n",
      "Epoch 8/50\n",
      "556/560 [============================>.] - ETA: 0s - loss: 3.2367\n",
      "Epoch 00008: val_loss improved from 3.40005 to 3.39883, saving model to best_model.h5\n",
      "560/560 [==============================] - 4s 7ms/step - loss: 3.2369 - val_loss: 3.3988\n",
      "Epoch 9/50\n",
      "554/560 [============================>.] - ETA: 0s - loss: 3.1930\n",
      "Epoch 00009: val_loss improved from 3.39883 to 3.36084, saving model to best_model.h5\n",
      "560/560 [==============================] - 4s 7ms/step - loss: 3.1938 - val_loss: 3.3608\n",
      "Epoch 10/50\n",
      "555/560 [============================>.] - ETA: 0s - loss: 3.1571\n",
      "Epoch 00010: val_loss improved from 3.36084 to 3.35174, saving model to best_model.h5\n",
      "560/560 [==============================] - 4s 7ms/step - loss: 3.1565 - val_loss: 3.3517\n",
      "Epoch 11/50\n",
      "556/560 [============================>.] - ETA: 0s - loss: 3.1188\n",
      "Epoch 00011: val_loss improved from 3.35174 to 3.33512, saving model to best_model.h5\n",
      "560/560 [==============================] - 4s 7ms/step - loss: 3.1190 - val_loss: 3.3351\n",
      "Epoch 12/50\n",
      "559/560 [============================>.] - ETA: 0s - loss: 3.0848\n",
      "Epoch 00012: val_loss improved from 3.33512 to 3.29943, saving model to best_model.h5\n",
      "560/560 [==============================] - 4s 7ms/step - loss: 3.0848 - val_loss: 3.2994\n",
      "Epoch 13/50\n",
      "553/560 [============================>.] - ETA: 0s - loss: 3.0546\n",
      "Epoch 00013: val_loss improved from 3.29943 to 3.27709, saving model to best_model.h5\n",
      "560/560 [==============================] - 4s 7ms/step - loss: 3.0541 - val_loss: 3.2771\n",
      "Epoch 14/50\n",
      "560/560 [==============================] - ETA: 0s - loss: 3.0273\n",
      "Epoch 00014: val_loss improved from 3.27709 to 3.25633, saving model to best_model.h5\n",
      "560/560 [==============================] - 4s 7ms/step - loss: 3.0273 - val_loss: 3.2563\n",
      "Epoch 15/50\n",
      "558/560 [============================>.] - ETA: 0s - loss: 3.0029\n",
      "Epoch 00015: val_loss did not improve from 3.25633\n",
      "560/560 [==============================] - 4s 7ms/step - loss: 3.0032 - val_loss: 3.2583\n",
      "Epoch 16/50\n",
      "558/560 [============================>.] - ETA: 0s - loss: 2.9745\n",
      "Epoch 00016: val_loss improved from 3.25633 to 3.23853, saving model to best_model.h5\n",
      "560/560 [==============================] - 4s 7ms/step - loss: 2.9746 - val_loss: 3.2385\n",
      "Epoch 17/50\n",
      "560/560 [==============================] - ETA: 0s - loss: 2.9552\n",
      "Epoch 00017: val_loss improved from 3.23853 to 3.20694, saving model to best_model.h5\n",
      "560/560 [==============================] - 4s 7ms/step - loss: 2.9552 - val_loss: 3.2069\n",
      "Epoch 18/50\n",
      "556/560 [============================>.] - ETA: 0s - loss: 2.9339\n",
      "Epoch 00018: val_loss did not improve from 3.20694\n",
      "560/560 [==============================] - 4s 7ms/step - loss: 2.9345 - val_loss: 3.2125\n",
      "Epoch 19/50\n",
      "555/560 [============================>.] - ETA: 0s - loss: 2.9171\n",
      "Epoch 00019: val_loss improved from 3.20694 to 3.18403, saving model to best_model.h5\n",
      "560/560 [==============================] - 4s 7ms/step - loss: 2.9179 - val_loss: 3.1840\n",
      "Epoch 20/50\n",
      "552/560 [============================>.] - ETA: 0s - loss: 2.8998\n",
      "Epoch 00020: val_loss improved from 3.18403 to 3.17229, saving model to best_model.h5\n",
      "560/560 [==============================] - 4s 7ms/step - loss: 2.9008 - val_loss: 3.1723\n",
      "Epoch 21/50\n",
      "558/560 [============================>.] - ETA: 0s - loss: 2.8868\n",
      "Epoch 00021: val_loss did not improve from 3.17229\n",
      "560/560 [==============================] - 4s 7ms/step - loss: 2.8870 - val_loss: 3.1737\n",
      "Epoch 22/50\n",
      "557/560 [============================>.] - ETA: 0s - loss: 2.8705\n",
      "Epoch 00022: val_loss improved from 3.17229 to 3.16343, saving model to best_model.h5\n",
      "560/560 [==============================] - 4s 7ms/step - loss: 2.8715 - val_loss: 3.1634\n",
      "Epoch 23/50\n",
      "560/560 [==============================] - ETA: 0s - loss: 2.8562\n",
      "Epoch 00023: val_loss improved from 3.16343 to 3.15743, saving model to best_model.h5\n",
      "560/560 [==============================] - 4s 7ms/step - loss: 2.8562 - val_loss: 3.1574\n",
      "Epoch 24/50\n",
      "553/560 [============================>.] - ETA: 0s - loss: 2.8439\n",
      "Epoch 00024: val_loss improved from 3.15743 to 3.14059, saving model to best_model.h5\n",
      "560/560 [==============================] - 4s 7ms/step - loss: 2.8441 - val_loss: 3.1406\n",
      "Epoch 25/50\n",
      "559/560 [============================>.] - ETA: 0s - loss: 2.8289\n",
      "Epoch 00025: val_loss did not improve from 3.14059\n",
      "560/560 [==============================] - 4s 7ms/step - loss: 2.8289 - val_loss: 3.1573\n",
      "Epoch 26/50\n",
      "557/560 [============================>.] - ETA: 0s - loss: 2.8154\n",
      "Epoch 00026: val_loss did not improve from 3.14059\n",
      "560/560 [==============================] - 4s 7ms/step - loss: 2.8155 - val_loss: 3.1429\n",
      "Epoch 27/50\n",
      "559/560 [============================>.] - ETA: 0s - loss: 2.8059\n",
      "Epoch 00027: val_loss improved from 3.14059 to 3.11928, saving model to best_model.h5\n",
      "560/560 [==============================] - 4s 7ms/step - loss: 2.8059 - val_loss: 3.1193\n",
      "Epoch 28/50\n",
      "556/560 [============================>.] - ETA: 0s - loss: 2.7975\n",
      "Epoch 00028: val_loss did not improve from 3.11928\n",
      "560/560 [==============================] - 4s 7ms/step - loss: 2.7974 - val_loss: 3.1354\n",
      "Epoch 29/50\n",
      "554/560 [============================>.] - ETA: 0s - loss: 2.7808\n",
      "Epoch 00029: val_loss improved from 3.11928 to 3.11813, saving model to best_model.h5\n",
      "560/560 [==============================] - 4s 7ms/step - loss: 2.7823 - val_loss: 3.1181\n",
      "Epoch 30/50\n",
      "555/560 [============================>.] - ETA: 0s - loss: 2.7719\n",
      "Epoch 00030: val_loss improved from 3.11813 to 3.11722, saving model to best_model.h5\n",
      "560/560 [==============================] - 4s 7ms/step - loss: 2.7727 - val_loss: 3.1172\n",
      "Epoch 31/50\n",
      "556/560 [============================>.] - ETA: 0s - loss: 2.7622\n",
      "Epoch 00031: val_loss improved from 3.11722 to 3.10881, saving model to best_model.h5\n",
      "560/560 [==============================] - 4s 7ms/step - loss: 2.7621 - val_loss: 3.1088\n",
      "Epoch 32/50\n",
      "554/560 [============================>.] - ETA: 0s - loss: 2.7533\n",
      "Epoch 00032: val_loss improved from 3.10881 to 3.10790, saving model to best_model.h5\n",
      "560/560 [==============================] - 4s 7ms/step - loss: 2.7531 - val_loss: 3.1079\n",
      "Epoch 33/50\n",
      "553/560 [============================>.] - ETA: 0s - loss: 2.7502\n",
      "Epoch 00033: val_loss improved from 3.10790 to 3.09340, saving model to best_model.h5\n",
      "560/560 [==============================] - 4s 7ms/step - loss: 2.7511 - val_loss: 3.0934\n",
      "Epoch 34/50\n",
      "556/560 [============================>.] - ETA: 0s - loss: 2.7346\n",
      "Epoch 00034: val_loss improved from 3.09340 to 3.08352, saving model to best_model.h5\n",
      "560/560 [==============================] - 4s 7ms/step - loss: 2.7357 - val_loss: 3.0835\n",
      "Epoch 35/50\n",
      "559/560 [============================>.] - ETA: 0s - loss: 2.7308\n",
      "Epoch 00035: val_loss did not improve from 3.08352\n",
      "560/560 [==============================] - 4s 7ms/step - loss: 2.7308 - val_loss: 3.0906\n",
      "Epoch 36/50\n",
      "557/560 [============================>.] - ETA: 0s - loss: 2.7244\n",
      "Epoch 00036: val_loss did not improve from 3.08352\n",
      "560/560 [==============================] - 4s 7ms/step - loss: 2.7248 - val_loss: 3.0856\n",
      "Epoch 37/50\n",
      "552/560 [============================>.] - ETA: 0s - loss: 2.7230\n",
      "Epoch 00037: val_loss improved from 3.08352 to 3.07775, saving model to best_model.h5\n",
      "560/560 [==============================] - 4s 7ms/step - loss: 2.7227 - val_loss: 3.0777\n",
      "Epoch 38/50\n",
      "557/560 [============================>.] - ETA: 0s - loss: 2.7091\n",
      "Epoch 00038: val_loss did not improve from 3.07775\n",
      "560/560 [==============================] - 4s 7ms/step - loss: 2.7088 - val_loss: 3.0820\n",
      "Epoch 39/50\n",
      "556/560 [============================>.] - ETA: 0s - loss: 2.7043\n",
      "Epoch 00039: val_loss did not improve from 3.07775\n",
      "560/560 [==============================] - 4s 7ms/step - loss: 2.7043 - val_loss: 3.0785\n",
      "Epoch 40/50\n",
      "558/560 [============================>.] - ETA: 0s - loss: 2.6926\n",
      "Epoch 00040: val_loss improved from 3.07775 to 3.07044, saving model to best_model.h5\n",
      "560/560 [==============================] - 4s 7ms/step - loss: 2.6928 - val_loss: 3.0704\n",
      "Epoch 41/50\n",
      "555/560 [============================>.] - ETA: 0s - loss: 2.6868\n",
      "Epoch 00041: val_loss improved from 3.07044 to 3.06563, saving model to best_model.h5\n",
      "560/560 [==============================] - 4s 7ms/step - loss: 2.6872 - val_loss: 3.0656\n",
      "Epoch 42/50\n",
      "552/560 [============================>.] - ETA: 0s - loss: 2.6917\n",
      "Epoch 00042: val_loss did not improve from 3.06563\n",
      "560/560 [==============================] - 4s 7ms/step - loss: 2.6925 - val_loss: 3.0692\n",
      "Epoch 43/50\n",
      "560/560 [==============================] - ETA: 0s - loss: 2.6787\n",
      "Epoch 00043: val_loss did not improve from 3.06563\n",
      "560/560 [==============================] - 4s 7ms/step - loss: 2.6787 - val_loss: 3.0693\n",
      "Epoch 44/50\n",
      "555/560 [============================>.] - ETA: 0s - loss: 2.6769\n",
      "Epoch 00044: val_loss did not improve from 3.06563\n",
      "560/560 [==============================] - 4s 7ms/step - loss: 2.6768 - val_loss: 3.0674\n",
      "Epoch 45/50\n",
      "558/560 [============================>.] - ETA: 0s - loss: 2.6709\n",
      "Epoch 00045: val_loss improved from 3.06563 to 3.06211, saving model to best_model.h5\n",
      "560/560 [==============================] - 4s 7ms/step - loss: 2.6708 - val_loss: 3.0621\n",
      "Epoch 46/50\n",
      "557/560 [============================>.] - ETA: 0s - loss: 2.6672\n",
      "Epoch 00046: val_loss improved from 3.06211 to 3.05866, saving model to best_model.h5\n",
      "560/560 [==============================] - 4s 7ms/step - loss: 2.6675 - val_loss: 3.0587\n",
      "Epoch 47/50\n",
      "559/560 [============================>.] - ETA: 0s - loss: 2.6614\n",
      "Epoch 00047: val_loss did not improve from 3.05866\n",
      "560/560 [==============================] - 4s 7ms/step - loss: 2.6614 - val_loss: 3.0594\n",
      "Epoch 48/50\n",
      "555/560 [============================>.] - ETA: 0s - loss: 2.6547\n",
      "Epoch 00048: val_loss improved from 3.05866 to 3.05291, saving model to best_model.h5\n",
      "560/560 [==============================] - 4s 7ms/step - loss: 2.6551 - val_loss: 3.0529\n",
      "Epoch 49/50\n",
      "560/560 [==============================] - ETA: 0s - loss: 2.6443\n",
      "Epoch 00049: val_loss improved from 3.05291 to 3.04678, saving model to best_model.h5\n",
      "560/560 [==============================] - 4s 7ms/step - loss: 2.6443 - val_loss: 3.0468\n",
      "Epoch 50/50\n",
      "557/560 [============================>.] - ETA: 0s - loss: 2.6387\n",
      "Epoch 00050: val_loss improved from 3.04678 to 3.04633, saving model to best_model.h5\n",
      "560/560 [==============================] - 4s 7ms/step - loss: 2.6397 - val_loss: 3.0463\n"
     ]
    }
   ],
   "source": [
    "history = model.fit(np.array(x_tr), np.array(y_tr), batch_size=128, \n",
    "                    epochs=50, validation_data=(np.array(x_val),\n",
    "                                                np.array(y_val)),verbose =1, callbacks=[mc])"
   ]
  },
  {
   "cell_type": "code",
   "execution_count": 18,
   "id": "SLsTcju6zui7",
   "metadata": {
    "id": "SLsTcju6zui7"
   },
   "outputs": [],
   "source": [
    "from keras.models import load_model\n",
    "model =load_model('best_model.h5')"
   ]
  },
  {
   "cell_type": "markdown",
   "id": "vb-gUSQqHXf3",
   "metadata": {
    "id": "vb-gUSQqHXf3"
   },
   "source": [
    "### Generate music"
   ]
  },
  {
   "cell_type": "code",
   "execution_count": 20,
   "id": "tnOuLRhY0nBL",
   "metadata": {
    "colab": {
     "base_uri": "https://localhost:8080/"
    },
    "id": "tnOuLRhY0nBL",
    "outputId": "93f874bf-531b-4417-9aea-6891e4feb4ed"
   },
   "outputs": [
    {
     "name": "stdout",
     "output_type": "stream",
     "text": [
      "[4, 4, 12, 79, 4, 4, 79, 4, 4, 4]\n"
     ]
    }
   ],
   "source": [
    "import random\n",
    "ind =np.random.randint(0,len(x_val)-1)\n",
    "\n",
    "random_music = x_val[ind]\n",
    "\n",
    "predictions = []\n",
    "\n",
    "for i in range(10):\n",
    "  random_music = random_music.reshape(1,no_of_timesteps)\n",
    "\n",
    "  prob = model.predict(random_music)[0]\n",
    "\n",
    "  y_pred = np.argmax(prob, axis=0)\n",
    "  predictions.append(y_pred)\n",
    "\n",
    "  random_music=np.insert(random_music[0], len(random_music[0]),y_pred)\n",
    "  random_music = random_music[1:]\n",
    "\n",
    "print(predictions)"
   ]
  },
  {
   "cell_type": "code",
   "execution_count": 21,
   "id": "aseLROr41TDB",
   "metadata": {
    "id": "aseLROr41TDB"
   },
   "outputs": [],
   "source": [
    "#integers to notes\n",
    "x_int_to_note = dict((number, note_) for number, note_ in enumerate(unique_x))\n",
    "\n",
    "predicted_notes = [x_int_to_note[i] for i in predictions]"
   ]
  },
  {
   "cell_type": "code",
   "execution_count": 24,
   "id": "7RsbOEu91lvN",
   "metadata": {
    "id": "7RsbOEu91lvN"
   },
   "outputs": [],
   "source": [
    "# convert preds to midi files\n",
    "def convert_to_midi(prediction_output):\n",
    "\n",
    "  offset = 0\n",
    "  output_notes = []\n",
    "\n",
    "  for pattern in prediction_output:\n",
    "\n",
    "    if ('.' in pattern) or pattern.isdigit():\n",
    "            notes_in_chord = pattern.split('.')\n",
    "            notes = []\n",
    "            for current_note in notes_in_chord:\n",
    "                \n",
    "                cn=int(current_note)\n",
    "                new_note = note.Note(cn)\n",
    "                new_note.storedInstrument = instrument.Piano()\n",
    "                notes.append(new_note)\n",
    "                \n",
    "            new_chord = chord.Chord(notes)\n",
    "            new_chord.offset = offset\n",
    "            output_notes.append(new_chord)\n",
    "            \n",
    "        # pattern is a note\n",
    "    else:    \n",
    "      new_note = note.Note(pattern)\n",
    "      new_note.offset = offset\n",
    "      new_note.storedInstrument = instrument.Piano()\n",
    "      output_notes.append(new_note)\n",
    "\n",
    "        # increase offset each iteration so that notes do not stack\n",
    "    offset += 1\n",
    "  midi_stream = stream.Stream(output_notes)\n",
    "  midi_stream.write('midi', fp='music.mid')"
   ]
  },
  {
   "cell_type": "code",
   "execution_count": 25,
   "id": "QAf6IbgC12zO",
   "metadata": {
    "id": "QAf6IbgC12zO"
   },
   "outputs": [],
   "source": [
    "convert_to_midi(predicted_notes)"
   ]
  },
  {
   "cell_type": "code",
   "execution_count": 26,
   "id": "alYw1HoC2mLK",
   "metadata": {
    "colab": {
     "base_uri": "https://localhost:8080/"
    },
    "id": "alYw1HoC2mLK",
    "outputId": "172d08d4-2853-45ed-90c4-a456a1f2bd16"
   },
   "outputs": [
    {
     "data": {
      "text/plain": [
       "['C#5', 'C#5', 'B4', 'E-5', 'C#5', 'C#5', 'E-5', 'C#5', 'C#5', 'C#5']"
      ]
     },
     "execution_count": 26,
     "metadata": {},
     "output_type": "execute_result"
    }
   ],
   "source": [
    "predicted_notes"
   ]
  },
  {
   "cell_type": "code",
   "execution_count": 30,
   "id": "0I1Vf9FU2w9M",
   "metadata": {
    "colab": {
     "base_uri": "https://localhost:8080/",
     "height": 498
    },
    "id": "0I1Vf9FU2w9M",
    "outputId": "39629f3f-fa2c-41de-cd50-59a3fac6fd2a"
   },
   "outputs": [
    {
     "data": {
      "image/png": "[encoded data removed]",
      "text/plain": [
       "<Figure size 864x576 with 1 Axes>"
      ]
     },
     "metadata": {
      "image/png": {
       "height": 481,
       "width": 706
      },
      "needs_background": "light"
     },
     "output_type": "display_data"
    }
   ],
   "source": [
    "train_loss=history.history['loss']\n",
    "test_loss= history.history['val_loss']\n",
    "\n",
    "\n",
    "plt.figure(figsize=(12,8))\n",
    "plt.title('Training versus Testing loss')\n",
    "plt.plot(train_loss, label ='Training Loss', color = 'navy')\n",
    "plt.plot(test_loss, label = 'Testing loss', color = 'skyblue')\n",
    "plt.legend();\n",
    "plt.savefig('1stmodel_loss_plot.png')"
   ]
  },
  {
   "cell_type": "markdown",
   "id": "VyphePF4HuiD",
   "metadata": {
    "id": "VyphePF4HuiD"
   },
   "source": [
    "This is an instance where you do want to be underfit, since you dont want to create a replica of an original work, but you want the model to have just enough variance to create a new work.  However, fitting it more data should lead to a increased performance in the model. "
   ]
  },
  {
   "cell_type": "code",
   "execution_count": 36,
   "id": "IFVKW8TD6eXa",
   "metadata": {
    "colab": {
     "base_uri": "https://localhost:8080/",
     "height": 511
    },
    "id": "IFVKW8TD6eXa",
    "outputId": "0ca21ba8-b043-4143-d1c4-2efb2365339f"
   },
   "outputs": [
    {
     "data": {
      "image/png": "[encoded data removed]",
      "text/plain": [
       "<Figure size 720x576 with 1 Axes>"
      ]
     },
     "metadata": {
      "image/png": {
       "height": 494,
       "width": 608
      },
      "needs_background": "light"
     },
     "output_type": "display_data"
    }
   ],
   "source": [
    "history_df = pd.DataFrame(history.history)\n",
    "\n",
    "plt.figure(figsize=(10,8))\n",
    "plt.title('Learning plot for model loss')\n",
    "plt.plot(history_df['loss'])\n",
    "plt.xlabel('Epochs')\n",
    "plt.ylabel('Training loss');\n",
    "plt.savefig('1st_learning_plot.png')"
   ]
  },
  {
   "cell_type": "code",
   "execution_count": null,
   "id": "z_PclBuX7fv2",
   "metadata": {
    "id": "z_PclBuX7fv2"
   },
   "outputs": [],
   "source": []
  }
 ],
 "metadata": {
  "accelerator": "GPU",
  "colab": {
   "collapsed_sections": [],
   "machine_shape": "hm",
   "name": "modeling_attemp2.ipynb",
   "provenance": []
  },
  "kernelspec": {
   "display_name": "Python 3 (ipykernel)",
   "language": "python",
   "name": "python3"
  },
  "language_info": {
   "codemirror_mode": {
    "name": "ipython",
    "version": 3
   },
   "file_extension": ".py",
   "mimetype": "text/x-python",
   "name": "python",
   "nbconvert_exporter": "python",
   "pygments_lexer": "ipython3",
   "version": "3.8.8"
  }
 },
 "nbformat": 4,
 "nbformat_minor": 5
}
