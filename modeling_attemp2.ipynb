{
 "cells": [
  {
   "cell_type": "code",
   "execution_count": 1,
   "id": "f64f14d7-8932-48e7-b102-a646e4ab42b1",
   "metadata": {},
   "outputs": [],
   "source": [
    "import numpy as np\n",
    "import os\n",
    "import matplotlib.pyplot as plt\n",
    "from collections import Counter\n",
    "\n",
    "\n",
    "from sklearn.model_selection import train_test_split\n",
    "from music21 import *\n",
    "import warnings\n",
    "warnings.filterwarnings(\"ignore\")\n",
    "warnings.simplefilter(\"ignore\")\n"
   ]
  },
  {
   "cell_type": "code",
   "execution_count": 2,
   "id": "1cdcb752-ef44-407b-a7a1-8a425128c0d8",
   "metadata": {},
   "outputs": [],
   "source": [
    "def read_midi(file):\n",
    "    \n",
    "    print(\"Loading Music File:\",file)\n",
    "    \n",
    "    notes=[]\n",
    "    notes_to_parse = None\n",
    "    \n",
    "    #parsing a midi file\n",
    "    midi = converter.parse(file)\n",
    "  \n",
    "    #grouping based on different instruments\n",
    "    s2 = instrument.partitionByInstrument(midi)\n",
    "\n",
    "    #Looping over all the instruments\n",
    "    for part in s2.parts:\n",
    "    \n",
    "        #select elements of only piano\n",
    "        if 'Piano' in str(part): \n",
    "        \n",
    "            notes_to_parse = part.recurse() \n",
    "      \n",
    "            #finding whether a particular element is note or a chord\n",
    "            for element in notes_to_parse:\n",
    "                \n",
    "                #note\n",
    "                if isinstance(element, note.Note):\n",
    "                    notes.append(str(element.pitch))\n",
    "                \n",
    "                #chord\n",
    "                elif isinstance(element, chord.Chord):\n",
    "                    notes.append('.'.join(str(n) for n in element.normalOrder))\n",
    "\n",
    "    return np.array(notes)"
   ]
  },
  {
   "cell_type": "code",
   "execution_count": 3,
   "id": "f61728ba-5c2b-40c4-a749-7a2fa6233ea5",
   "metadata": {},
   "outputs": [
    {
     "name": "stdout",
     "output_type": "stream",
     "text": [
      "Loading Music File: ./archive (1)/waldstein_1.mid\n",
      "Loading Music File: ./archive (1)/beethoven_opus90_2.mid\n",
      "Loading Music File: ./archive (1)/waldstein_2.mid\n",
      "Loading Music File: ./archive (1)/islamei.mid\n",
      "Loading Music File: ./archive (1)/beethoven_opus90_1.mid\n",
      "Loading Music File: ./archive (1)/waldstein_3.mid\n",
      "Loading Music File: ./archive (1)/bach_847.mid\n",
      "Loading Music File: ./archive (1)/bach_846.mid\n",
      "Loading Music File: ./archive (1)/bach_850.mid\n",
      "Loading Music File: ./archive (1)/alb_se8.mid\n",
      "Loading Music File: ./archive (1)/beethoven_opus10_2.mid\n",
      "Loading Music File: ./archive (1)/beethoven_opus10_3.mid\n",
      "Loading Music File: ./archive (1)/elise.mid\n",
      "Loading Music File: ./archive (1)/beethoven_opus10_1.mid\n",
      "Loading Music File: ./archive (1)/appass_2.mid\n",
      "Loading Music File: ./archive (1)/appass_3.mid\n",
      "Loading Music File: ./archive (1)/appass_1.mid\n",
      "Loading Music File: ./archive (1)/beethoven_les_adieux_3.mid\n",
      "Loading Music File: ./archive (1)/pathetique_1.mid\n",
      "Loading Music File: ./archive (1)/mond_1.mid\n",
      "Loading Music File: ./archive (1)/beethoven_les_adieux_2.mid\n",
      "Loading Music File: ./archive (1)/mond_3.mid\n",
      "Loading Music File: ./archive (1)/pathetique_2.mid\n",
      "Loading Music File: ./archive (1)/pathetique_3.mid\n",
      "Loading Music File: ./archive (1)/mond_2.mid\n",
      "Loading Music File: ./archive (1)/beethoven_les_adieux_1.mid\n",
      "Loading Music File: ./archive (1)/beethoven_opus22_1.mid\n",
      "Loading Music File: ./archive (1)/alb_esp3.mid\n",
      "Loading Music File: ./archive (1)/alb_se4.mid\n",
      "Loading Music File: ./archive (1)/alb_se5.mid\n",
      "Loading Music File: ./archive (1)/alb_esp2.mid\n",
      "Loading Music File: ./archive (1)/beethoven_opus22_2.mid\n",
      "Loading Music File: ./archive (1)/alb_se7.mid\n",
      "Loading Music File: ./archive (1)/beethoven_hammerklavier_4.mid\n",
      "Loading Music File: ./archive (1)/alb_se6.mid\n",
      "Loading Music File: ./archive (1)/alb_esp1.mid\n",
      "Loading Music File: ./archive (1)/beethoven_opus22_3.mid\n",
      "Loading Music File: ./archive (1)/alb_esp5.mid\n",
      "Loading Music File: ./archive (1)/alb_se2.mid\n",
      "Loading Music File: ./archive (1)/beethoven_hammerklavier_1.mid\n",
      "Loading Music File: ./archive (1)/alb_se3.mid\n",
      "Loading Music File: ./archive (1)/alb_esp4.mid\n",
      "Loading Music File: ./archive (1)/alb_esp6.mid\n",
      "Loading Music File: ./archive (1)/beethoven_opus22_4.mid\n",
      "Loading Music File: ./archive (1)/alb_se1.mid\n",
      "Loading Music File: ./archive (1)/beethoven_hammerklavier_3.mid\n",
      "Loading Music File: ./archive (1)/beethoven_hammerklavier_2.mid\n"
     ]
    }
   ],
   "source": [
    "path='./archive (1)/'\n",
    "\n",
    "#read all the filenames\n",
    "files=[i for i in os.listdir(path) if i.endswith(\".mid\")]\n",
    "\n",
    "#reading each midi file\n",
    "notes_array = np.array([read_midi(path+i) for i in files])"
   ]
  },
  {
   "cell_type": "code",
   "execution_count": 4,
   "id": "e21575b3-b411-4dcb-831e-2d46a1f60302",
   "metadata": {},
   "outputs": [
    {
     "name": "stdout",
     "output_type": "stream",
     "text": [
      "399\n"
     ]
    }
   ],
   "source": [
    "#converting 2D array into 1D array\n",
    "notes_ = [element for note_ in notes_array for element in note_]\n",
    "\n",
    "#No. of unique notes\n",
    "unique_notes = list(set(notes_))\n",
    "print(len(unique_notes))"
   ]
  },
  {
   "cell_type": "code",
   "execution_count": 9,
   "id": "3fc2025b-d9c6-4b9a-a6ed-4e94b04654a2",
   "metadata": {},
   "outputs": [
    {
     "data": {
      "image/png": "[encoded data removed]",
      "text/plain": [
       "<Figure size 648x504 with 1 Axes>"
      ]
     },
     "metadata": {
      "image/png": {
       "height": 445,
       "width": 559
      },
      "needs_background": "light"
     },
     "output_type": "display_data"
    }
   ],
   "source": [
    "#computing frequency of each note\n",
    "freq = dict(Counter(notes_))\n",
    "\n",
    "#consider only the frequencies\n",
    "no=[count for _,count in freq.items()]\n",
    "\n",
    "#set the figure size\n",
    "plt.figure(figsize=(9,7))\n",
    "\n",
    "#plot\n",
    "plt.title(\"Frequency distribution of the notes\", fontsize=15)\n",
    "plt.ylabel('Count', fontsize= 13)\n",
    "plt.xlabel('Frequencies', fontsize= 13)\n",
    "plt.hist(no, color = 'mediumvioletred');"
   ]
  },
  {
   "cell_type": "code",
   "execution_count": 10,
   "id": "1b692766-21c3-4bdd-b57c-8b1b48fb74fc",
   "metadata": {},
   "outputs": [
    {
     "name": "stdout",
     "output_type": "stream",
     "text": [
      "182\n"
     ]
    }
   ],
   "source": [
    "frequent_notes = [note_ for note_, count in freq.items() if count>=35]\n",
    "print(len(frequent_notes))"
   ]
  },
  {
   "cell_type": "code",
   "execution_count": 11,
   "id": "65690e30-2b3b-40d9-9e47-20209920daf6",
   "metadata": {},
   "outputs": [],
   "source": [
    "new_music=[]\n",
    "\n",
    "for notes in notes_array:\n",
    "    temp=[]\n",
    "    for note_ in notes:\n",
    "        if note_ in frequent_notes:\n",
    "            temp.append(note_)            \n",
    "    new_music.append(temp)\n",
    "    \n",
    "new_music = np.array(new_music)"
   ]
  },
  {
   "cell_type": "code",
   "execution_count": 12,
   "id": "3f90f5cd-cced-429a-a4d0-c6023e64e57d",
   "metadata": {},
   "outputs": [],
   "source": [
    "no_of_timesteps = 32\n",
    "x = []\n",
    "y = []\n",
    "\n",
    "for note_ in new_music:\n",
    "    for i in range(0, len(note_) - no_of_timesteps, 1):\n",
    "        \n",
    "        #preparing input and output sequences\n",
    "        input_ = note_[i:i + no_of_timesteps]\n",
    "        output = note_[i + no_of_timesteps]\n",
    "        \n",
    "        x.append(input_)\n",
    "        y.append(output)\n",
    "        \n",
    "x=np.array(x)\n",
    "y=np.array(y)"
   ]
  },
  {
   "cell_type": "code",
   "execution_count": 13,
   "id": "35421387-94ec-4526-815c-34692f89b20b",
   "metadata": {},
   "outputs": [],
   "source": [
    "unique_x = list(set(x.ravel()))\n",
    "x_note_to_int = dict((note_, number) for number, note_ in enumerate(unique_x))"
   ]
  },
  {
   "cell_type": "code",
   "execution_count": 14,
   "id": "79f0c875-390c-412f-b1bf-9b11449646cb",
   "metadata": {},
   "outputs": [],
   "source": [
    "#preparing input sequences\n",
    "x_seq=[]\n",
    "for i in x:\n",
    "    temp=[]\n",
    "    for j in i:\n",
    "        #assigning unique integer to every note\n",
    "        temp.append(x_note_to_int[j])\n",
    "    x_seq.append(temp)\n",
    "    \n",
    "x_seq = np.array(x_seq)"
   ]
  },
  {
   "cell_type": "code",
   "execution_count": 15,
   "id": "2f68f227-3bc7-4e21-8a9a-64ce15a9af66",
   "metadata": {},
   "outputs": [],
   "source": [
    "unique_y = list(set(y))\n",
    "y_note_to_int = dict((note_, number) for number, note_ in enumerate(unique_y)) \n",
    "y_seq=np.array([y_note_to_int[i] for i in y])"
   ]
  },
  {
   "cell_type": "code",
   "execution_count": 16,
   "id": "5c459b73-f789-4b9b-99ab-a16b1bbc6ccb",
   "metadata": {},
   "outputs": [],
   "source": [
    "x_tr, x_val, y_tr, y_val = train_test_split(x_seq,y_seq,test_size=0.2,random_state=0)"
   ]
  },
  {
   "cell_type": "code",
   "execution_count": null,
   "id": "17d77c66-53bd-45be-92cb-d7aba7e179f6",
   "metadata": {},
   "outputs": [],
   "source": [
    "def lstm():\n",
    "    model = Sequential()\n",
    "    model.add(LSTM(128,return_sequences=True))\n",
    "    model.add(LSTM(128))\n",
    "    model.add(Dense(256))\n",
    "    model.add(Activation('relu'))\n",
    "    model.add(Dense(n_vocab))\n",
    "    model.add(Activation('softmax'))\n",
    "    model.compile(loss='sparse_categorical_crossentropy', optimizer='adam')\n",
    "    return model"
   ]
  }
 ],
 "metadata": {
  "kernelspec": {
   "display_name": "Python 3 (ipykernel)",
   "language": "python",
   "name": "python3"
  },
  "language_info": {
   "codemirror_mode": {
    "name": "ipython",
    "version": 3
   },
   "file_extension": ".py",
   "mimetype": "text/x-python",
   "name": "python",
   "nbconvert_exporter": "python",
   "pygments_lexer": "ipython3",
   "version": "3.8.8"
  }
 },
 "nbformat": 4,
 "nbformat_minor": 5
}
