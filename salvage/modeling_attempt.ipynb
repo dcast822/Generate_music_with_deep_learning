{
 "cells": [
  {
   "cell_type": "code",
   "execution_count": 53,
   "id": "da238a3c-1c4e-4ea6-87f7-6da2e15bf688",
   "metadata": {},
   "outputs": [],
   "source": [
    "import numpy as np\n",
    "import os\n",
    "import matplotlib.pyplot as plt\n",
    "from collections import Counter\n",
    "\n",
    "\n",
    "from sklearn.model_selection import train_test_split\n",
    "from music21 import *\n",
    "import warnings\n",
    "warnings.filterwarnings(\"ignore\")\n",
    "warnings.simplefilter(\"ignore\")\n"
   ]
  },
  {
   "cell_type": "code",
   "execution_count": 40,
   "id": "d835ff69-c7c8-4a5f-a968-c8486c1ae9bb",
   "metadata": {
    "scrolled": true,
    "tags": []
   },
   "outputs": [],
   "source": [
    "#load files\n",
    "\n",
    "path = './archive (1)/'\n",
    "midi_list=[]\n",
    "\n",
    "for i in os.listdir(path):\n",
    "    if i.endswith('.mid'):\n",
    "        full_path=path + i \n",
    "        midi=converter.parse(full_path)\n",
    "        midi_list.append(midi)\n",
    "\n",
    "\n",
    "#https://www.kaggle.com/karnikakapoor/music-generation-lstm/notebook"
   ]
  },
  {
   "cell_type": "code",
   "execution_count": 96,
   "id": "752f3dce-02a8-425c-8944-cd3688141ca8",
   "metadata": {},
   "outputs": [
    {
     "name": "stdout",
     "output_type": "stream",
     "text": [
      "Amount of notes from midis is: 107464\n"
     ]
    }
   ],
   "source": [
    "#https://www.analyticsvidhya.com/blog/2020/01/how-to-perform-automatic-music-generation/\n",
    "#function read midi files\n",
    "def extract_notes(file):\n",
    "    notes = []\n",
    "    notes_to_parse = None\n",
    "    \n",
    "    for f in file:\n",
    "        s2 = instrument.partitionByInstrument(f)\n",
    "        for part in s2.parts:\n",
    "            notes_to_parse = part.recurse()\n",
    "            for element in notes_to_parse:\n",
    "                if isinstance(element, note.Note):\n",
    "                    notes.append(str(element.pitch))\n",
    "                elif isinstance(element, chord.Chord):\n",
    "                    notes.append(\".\".join(str(n) for n in element.normalOrder))\n",
    "\n",
    "    return notes\n",
    "\n",
    "note_corpus=extract_notes(midi_list)\n",
    "\n",
    "print(f'Amount of notes from midis is: {len(note_corpus)}')\n",
    "\n",
    "\n",
    "      "
   ]
  },
  {
   "cell_type": "code",
   "execution_count": 97,
   "id": "1e4691d0-2237-4f33-813b-d28d9f3f45b7",
   "metadata": {},
   "outputs": [
    {
     "name": "stdout",
     "output_type": "stream",
     "text": [
      "20\n"
     ]
    }
   ],
   "source": [
    "#flattening array from 2d to 1d\n",
    "notes_=[element for note_ in note_corpus for element in note_]\n",
    "\n",
    "#amount of unique notes\n",
    "unique_notes=list(set(notes_))\n",
    "\n",
    "print(len(unique_notes))"
   ]
  },
  {
   "cell_type": "code",
   "execution_count": 98,
   "id": "a1df1ecf-8592-46ca-b42e-5eace3b425e2",
   "metadata": {},
   "outputs": [
    {
     "data": {
      "image/png": "[encoded data removed]",
      "text/plain": [
       "<Figure size 720x504 with 1 Axes>"
      ]
     },
     "metadata": {
      "image/png": {
       "height": 445,
       "width": 609
      },
      "needs_background": "light"
     },
     "output_type": "display_data"
    }
   ],
   "source": [
    "#computing frequency of each note\n",
    "freq=dict(Counter(notes_))\n",
    "\n",
    "#only the frequency info\n",
    "only_freq=[count for _,count in freq.items()]\n",
    "\n",
    "plt.figure(figsize=(10,7))\n",
    "plt.title(\"Frequency distribution of the notes\", fontsize=15)\n",
    "plt.ylabel('Count', fontsize= 13)\n",
    "plt.xlabel('Frequencies', fontsize= 13)\n",
    "plt.hist(only_freq, color = 'mediumvioletred');"
   ]
  },
  {
   "cell_type": "code",
   "execution_count": 99,
   "id": "0d69c668-c659-4554-b6c7-d78c7c01a9d7",
   "metadata": {},
   "outputs": [
    {
     "name": "stdout",
     "output_type": "stream",
     "text": [
      "20\n"
     ]
    }
   ],
   "source": [
    "frequent_notes=[note_ for note_, count in freq.items() if count >=50]\n",
    "print(len(frequent_notes))"
   ]
  },
  {
   "cell_type": "code",
   "execution_count": 100,
   "id": "9050f66e-b799-493e-91b0-364b6aab3b8e",
   "metadata": {},
   "outputs": [
    {
     "name": "stdout",
     "output_type": "stream",
     "text": [
      "First 40 notes: ['C2', '0.4', '7.0', '0.4', '7.0', '0.4', '7.0', '0.4', '7.0', '0.4', '7.0', '0.4', '7.0', '0.4', '7.0', '0.4', '7.0', '0.4', '7.0', '0.4', '7.0', '0.4', '7.0', '0.4', '7.0', '0.4', '7.0', '2.6', '9.0', '2.6', '9.0', '2.7', '7.11', '7.11', '7.11', 'B3', '7.11', 'A3', 'G3', '7.11']\n"
     ]
    }
   ],
   "source": [
    "print(f'First 40 notes: {note_corpus[:40]}')"
   ]
  },
  {
   "cell_type": "code",
   "execution_count": 101,
   "id": "4add9fa9-f6ce-474e-ad34-aeb1b5a5d011",
   "metadata": {},
   "outputs": [
    {
     "ename": "TypeError",
     "evalue": "iteration over a 0-d array",
     "output_type": "error",
     "traceback": [
      "\u001b[0;31m---------------------------------------------------------------------------\u001b[0m",
      "\u001b[0;31mTypeError\u001b[0m                                 Traceback (most recent call last)",
      "\u001b[0;32m/var/folders/h9/gwl1hr8n5_x6kwzstxs78nx40000gn/T/ipykernel_53879/4183560547.py\u001b[0m in \u001b[0;36m<module>\u001b[0;34m\u001b[0m\n\u001b[1;32m      1\u001b[0m \u001b[0mnew_m\u001b[0m\u001b[0;34m=\u001b[0m\u001b[0;34m[\u001b[0m\u001b[0;34m]\u001b[0m\u001b[0;34m\u001b[0m\u001b[0;34m\u001b[0m\u001b[0m\n\u001b[1;32m      2\u001b[0m \u001b[0;34m\u001b[0m\u001b[0m\n\u001b[0;32m----> 3\u001b[0;31m \u001b[0;32mfor\u001b[0m \u001b[0mnotes\u001b[0m \u001b[0;32min\u001b[0m \u001b[0mnotes_array\u001b[0m\u001b[0;34m:\u001b[0m\u001b[0;34m\u001b[0m\u001b[0;34m\u001b[0m\u001b[0m\n\u001b[0m\u001b[1;32m      4\u001b[0m     \u001b[0mtemp\u001b[0m\u001b[0;34m=\u001b[0m\u001b[0;34m[\u001b[0m\u001b[0;34m]\u001b[0m\u001b[0;34m\u001b[0m\u001b[0;34m\u001b[0m\u001b[0m\n\u001b[1;32m      5\u001b[0m     \u001b[0;32mfor\u001b[0m \u001b[0mnote_\u001b[0m \u001b[0;32min\u001b[0m \u001b[0mnotes\u001b[0m\u001b[0;34m:\u001b[0m\u001b[0;34m\u001b[0m\u001b[0;34m\u001b[0m\u001b[0m\n",
      "\u001b[0;31mTypeError\u001b[0m: iteration over a 0-d array"
     ]
    }
   ],
   "source": [
    "new_m=[]\n",
    "\n",
    "for notes in notes_array:\n",
    "    temp=[]\n",
    "    for note_ in notes:\n",
    "        if note_ in frequent_notes:\n",
    "            temp.append(note_)\n",
    "    new_m.append(temp)\n",
    "\n",
    "new_m = np.array(new_m)"
   ]
  },
  {
   "cell_type": "code",
   "execution_count": 102,
   "id": "0991ab0c-2830-4d29-904e-947588f96cf4",
   "metadata": {},
   "outputs": [],
   "source": [
    "no_of_timesteps=32\n",
    "\n",
    "x= []\n",
    "y= []\n",
    "\n",
    "for note_ in new_m:\n",
    "    for i in range(0, len(note_) - no_of_timesteps, 1):\n",
    "        \n",
    "        input_=note_[i:i +no_of_timesteps]\n",
    "        output=note_[i + no_of_timesteps]\n",
    "        \n",
    "        x.append(input_)\n",
    "        y.append(output)\n",
    "        \n",
    "x=np.array(x)\n",
    "y=np.array(y)"
   ]
  },
  {
   "cell_type": "code",
   "execution_count": 103,
   "id": "60106809-1138-49a3-a5a7-371df066adb9",
   "metadata": {},
   "outputs": [],
   "source": [
    "unique_int=list(set(x.ravel()))\n",
    "x_note_int=dict((note_, number) for number, note_ in enumerate(unique_int))"
   ]
  },
  {
   "cell_type": "code",
   "execution_count": 104,
   "id": "cd801b4d-4da4-4c4a-8aa1-69a07a96be0e",
   "metadata": {},
   "outputs": [],
   "source": [
    "x_seq=[]\n",
    "for i in x:\n",
    "    temp = []\n",
    "    \n",
    "    for j in i:\n",
    "        \n",
    "        temp.append(x_note_int[j])\n",
    "    x_seq.append(temp)\n",
    "x_seq = np.array(x_seq)"
   ]
  },
  {
   "cell_type": "code",
   "execution_count": 105,
   "id": "ba2235dc-cdea-4bde-9d82-ac542c249107",
   "metadata": {},
   "outputs": [],
   "source": [
    "unique_y=list(set(y))\n",
    "y_note_int= dict((note_, number) for number, note_ in enumerate(unique_y))\n",
    "y_seq = np.array([y_note_int[i]for i in y])\n"
   ]
  },
  {
   "cell_type": "code",
   "execution_count": 94,
   "id": "294c449a-7bcf-4fd1-8c95-616368fea860",
   "metadata": {},
   "outputs": [
    {
     "ename": "ValueError",
     "evalue": "With n_samples=0, test_size=0.25 and train_size=None, the resulting train set will be empty. Adjust any of the aforementioned parameters.",
     "output_type": "error",
     "traceback": [
      "\u001b[0;31m---------------------------------------------------------------------------\u001b[0m",
      "\u001b[0;31mValueError\u001b[0m                                Traceback (most recent call last)",
      "\u001b[0;32m/var/folders/h9/gwl1hr8n5_x6kwzstxs78nx40000gn/T/ipykernel_53879/3481180670.py\u001b[0m in \u001b[0;36m<module>\u001b[0;34m\u001b[0m\n\u001b[0;32m----> 1\u001b[0;31m \u001b[0mX_train\u001b[0m\u001b[0;34m,\u001b[0m \u001b[0mX_test\u001b[0m\u001b[0;34m,\u001b[0m \u001b[0my_train\u001b[0m\u001b[0;34m,\u001b[0m \u001b[0my_test\u001b[0m \u001b[0;34m=\u001b[0m \u001b[0mtrain_test_split\u001b[0m\u001b[0;34m(\u001b[0m\u001b[0mx_seq\u001b[0m\u001b[0;34m,\u001b[0m \u001b[0my_seq\u001b[0m\u001b[0;34m,\u001b[0m \u001b[0mrandom_state\u001b[0m\u001b[0;34m=\u001b[0m\u001b[0;36m42\u001b[0m\u001b[0;34m)\u001b[0m\u001b[0;34m\u001b[0m\u001b[0;34m\u001b[0m\u001b[0m\n\u001b[0m",
      "\u001b[0;32m/opt/anaconda3/envs/dsi-111/lib/python3.8/site-packages/sklearn/model_selection/_split.py\u001b[0m in \u001b[0;36mtrain_test_split\u001b[0;34m(test_size, train_size, random_state, shuffle, stratify, *arrays)\u001b[0m\n\u001b[1;32m   2418\u001b[0m \u001b[0;34m\u001b[0m\u001b[0m\n\u001b[1;32m   2419\u001b[0m     \u001b[0mn_samples\u001b[0m \u001b[0;34m=\u001b[0m \u001b[0m_num_samples\u001b[0m\u001b[0;34m(\u001b[0m\u001b[0marrays\u001b[0m\u001b[0;34m[\u001b[0m\u001b[0;36m0\u001b[0m\u001b[0;34m]\u001b[0m\u001b[0;34m)\u001b[0m\u001b[0;34m\u001b[0m\u001b[0;34m\u001b[0m\u001b[0m\n\u001b[0;32m-> 2420\u001b[0;31m     n_train, n_test = _validate_shuffle_split(\n\u001b[0m\u001b[1;32m   2421\u001b[0m         \u001b[0mn_samples\u001b[0m\u001b[0;34m,\u001b[0m \u001b[0mtest_size\u001b[0m\u001b[0;34m,\u001b[0m \u001b[0mtrain_size\u001b[0m\u001b[0;34m,\u001b[0m \u001b[0mdefault_test_size\u001b[0m\u001b[0;34m=\u001b[0m\u001b[0;36m0.25\u001b[0m\u001b[0;34m\u001b[0m\u001b[0;34m\u001b[0m\u001b[0m\n\u001b[1;32m   2422\u001b[0m     )\n",
      "\u001b[0;32m/opt/anaconda3/envs/dsi-111/lib/python3.8/site-packages/sklearn/model_selection/_split.py\u001b[0m in \u001b[0;36m_validate_shuffle_split\u001b[0;34m(n_samples, test_size, train_size, default_test_size)\u001b[0m\n\u001b[1;32m   2096\u001b[0m \u001b[0;34m\u001b[0m\u001b[0m\n\u001b[1;32m   2097\u001b[0m     \u001b[0;32mif\u001b[0m \u001b[0mn_train\u001b[0m \u001b[0;34m==\u001b[0m \u001b[0;36m0\u001b[0m\u001b[0;34m:\u001b[0m\u001b[0;34m\u001b[0m\u001b[0;34m\u001b[0m\u001b[0m\n\u001b[0;32m-> 2098\u001b[0;31m         raise ValueError(\n\u001b[0m\u001b[1;32m   2099\u001b[0m             \u001b[0;34m\"With n_samples={}, test_size={} and train_size={}, the \"\u001b[0m\u001b[0;34m\u001b[0m\u001b[0;34m\u001b[0m\u001b[0m\n\u001b[1;32m   2100\u001b[0m             \u001b[0;34m\"resulting train set will be empty. Adjust any of the \"\u001b[0m\u001b[0;34m\u001b[0m\u001b[0;34m\u001b[0m\u001b[0m\n",
      "\u001b[0;31mValueError\u001b[0m: With n_samples=0, test_size=0.25 and train_size=None, the resulting train set will be empty. Adjust any of the aforementioned parameters."
     ]
    }
   ],
   "source": [
    "X_train, X_test, y_train, y_test = train_test_split(x_seq, y_seq, random_state=42)"
   ]
  },
  {
   "cell_type": "code",
   "execution_count": null,
   "id": "2c1e18c9-cc7a-4a1a-ba2f-8896a1e223af",
   "metadata": {},
   "outputs": [],
   "source": []
  }
 ],
 "metadata": {
  "kernelspec": {
   "display_name": "Python 3 (ipykernel)",
   "language": "python",
   "name": "python3"
  },
  "language_info": {
   "codemirror_mode": {
    "name": "ipython",
    "version": 3
   },
   "file_extension": ".py",
   "mimetype": "text/x-python",
   "name": "python",
   "nbconvert_exporter": "python",
   "pygments_lexer": "ipython3",
   "version": "3.8.8"
  }
 },
 "nbformat": 4,
 "nbformat_minor": 5
}
