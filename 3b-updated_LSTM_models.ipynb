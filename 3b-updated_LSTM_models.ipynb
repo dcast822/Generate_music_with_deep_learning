{
  "cells": [
    {
      "cell_type": "markdown",
      "id": "1195ab2e-92ff-43f8-adc9-ebc84e1944e4",
      "metadata": {
        "id": "1195ab2e-92ff-43f8-adc9-ebc84e1944e4"
      },
      "source": [
        "<img src=\"http://imgur.com/1ZcRyrc.png\" style=\"float: left; margin: 20px; height: 55px\">\n",
        "\n",
        "\n"
      ]
    },
    {
      "cell_type": "code",
      "execution_count": 3,
      "id": "9aef3dc6-20cf-4a52-af3a-cfda841fba34",
      "metadata": {
        "id": "9aef3dc6-20cf-4a52-af3a-cfda841fba34"
      },
      "outputs": [],
      "source": [
        "import numpy as np\n",
        "import os\n",
        "import matplotlib.pyplot as plt\n",
        "from collections import Counter\n",
        "\n",
        "\n",
        "from sklearn.model_selection import train_test_split\n",
        "from music21 import *\n",
        "import warnings\n",
        "warnings.filterwarnings(\"ignore\")\n",
        "warnings.simplefilter(\"ignore\")\n",
        "\n",
        "from keras.layers import *\n",
        "from keras.models import *\n",
        "from keras.callbacks import *\n",
        "import keras.backend as K\n",
        "from tensorflow.keras.optimizers import Adam"
      ]
    },
    {
      "cell_type": "markdown",
      "id": "622f1fd5-0d9b-4727-b445-e4dc70baa3aa",
      "metadata": {
        "id": "622f1fd5-0d9b-4727-b445-e4dc70baa3aa"
      },
      "source": [
        "## EDA on individual jazz compositions"
      ]
    },
    {
      "cell_type": "code",
      "execution_count": 4,
      "id": "21b0a4c1-1061-40a6-9864-2a0e4e2384d2",
      "metadata": {
        "id": "21b0a4c1-1061-40a6-9864-2a0e4e2384d2"
      },
      "outputs": [],
      "source": [
        "def read_midi(file):\n",
        "    \n",
        "    print(\"Loading Music File:\",file)\n",
        "    \n",
        "    notes=[]\n",
        "    notes_to_parse = None\n",
        "    \n",
        "    #parsing a midi file\n",
        "    midi = converter.parse(file)\n",
        "  \n",
        "  \n",
        "    #grouping based on different instruments\n",
        "    s2 = instrument.partitionByInstrument(midi)\n",
        "\n",
        "    #Looping over all the instruments\n",
        "    for part in s2.parts:\n",
        "    \n",
        "        #select elements of only piano\n",
        "        if 'Piano' in str(part): \n",
        "        \n",
        "            notes_to_parse = part.recurse() \n",
        "      \n",
        "            #finding whether a particular element is note or a chord\n",
        "            for element in notes_to_parse:\n",
        "                \n",
        "                #note\n",
        "                if isinstance(element, note.Note):\n",
        "                    notes.append(str(element.pitch))\n",
        "                \n",
        "                #chord\n",
        "                elif isinstance(element, chord.Chord):\n",
        "                    notes.append('.'.join(str(n) for n in element.normalOrder))\n",
        "\n",
        "    return np.array(notes)"
      ]
    },
    {
      "cell_type": "code",
      "execution_count": 5,
      "id": "cb8db34e-d002-4004-af8a-1b6bb75503e9",
      "metadata": {
        "colab": {
          "base_uri": "https://localhost:8080/"
        },
        "id": "cb8db34e-d002-4004-af8a-1b6bb75503e9",
        "outputId": "b1d149f3-13e1-4ddf-a3ee-6ddf0a6df0f9"
      },
      "outputs": [
        {
          "output_type": "stream",
          "name": "stdout",
          "text": [
            "Loading Music File: /content/alb_se1.mid\n",
            "Loading Music File: /content/grieg_voeglein.mid\n",
            "Loading Music File: /content/haydn_9_1.mid\n",
            "Loading Music File: /content/grieg_wanderer.mid\n",
            "Loading Music File: /content/chpn-p10.mid\n",
            "Loading Music File: /content/mendel_op30_2.mid\n",
            "Loading Music File: /content/deb_prel.mid\n",
            "Loading Music File: /content/chpn-p11.mid\n",
            "Loading Music File: /content/liz_et_trans8.mid\n",
            "Loading Music File: /content/alb_se6.mid\n",
            "Loading Music File: /content/br_rhap.mid\n",
            "Loading Music File: /content/burg_spinnerlied.mid\n",
            "Loading Music File: /content/appass_3.mid\n",
            "Loading Music File: /content/grieg_walzer.mid\n",
            "Loading Music File: /content/gra_esp_3.mid\n",
            "Loading Music File: /content/deb_menu.mid\n",
            "Loading Music File: /content/scn15_5.mid\n",
            "Loading Music File: /content/schumm-4.mid\n",
            "Loading Music File: /content/schubert_D850_2.mid\n",
            "Loading Music File: /content/burg_perlen.mid\n",
            "Loading Music File: /content/scn15_10.mid\n",
            "Loading Music File: /content/mendel_op19_3.mid\n",
            "Loading Music File: /content/alb_esp6.mid\n",
            "Loading Music File: /content/scn15_9.mid\n",
            "Loading Music File: /content/haydn_35_2.mid\n",
            "Loading Music File: /content/br_im2.mid\n",
            "Loading Music File: /content/mendel_op19_1.mid\n",
            "Loading Music File: /content/mond_3.mid\n",
            "Loading Music File: /content/mz_311_3.mid\n",
            "Loading Music File: /content/debussy_cc_2.mid\n",
            "Loading Music File: /content/haydn_35_1.mid\n",
            "Loading Music File: /content/beethoven_opus10_1.mid\n",
            "Loading Music File: /content/pathetique_3.mid\n",
            "Loading Music File: /content/mz_311_2.mid\n",
            "Loading Music File: /content/mendel_op19_4.mid\n",
            "Loading Music File: /content/mz_330_1.mid\n",
            "Loading Music File: /content/chpn_op35_1.mid\n",
            "Loading Music File: /content/haydn_43_1.mid\n",
            "Loading Music File: /content/schub_d760_4.mid\n",
            "Loading Music File: /content/mendel_op19_2.mid\n",
            "Loading Music File: /content/mz_330_3.mid\n",
            "Loading Music File: /content/scn16_8.mid\n",
            "Loading Music File: /content/schub_d960_2.mid\n",
            "Loading Music File: /content/scn15_8.mid\n",
            "Loading Music File: /content/beethoven_opus10_3.mid\n",
            "Loading Music File: /content/burg_quelle.mid\n",
            "Loading Music File: /content/islamei.mid\n",
            "Loading Music File: /content/mz_545_2.mid\n",
            "Loading Music File: /content/ty_februar.mid\n",
            "Loading Music File: /content/ty_juli.mid\n",
            "Loading Music File: /content/liz_et_trans5.mid\n",
            "Loading Music File: /content/schuim-2.mid\n",
            "Loading Music File: /content/chpn_op66.mid\n",
            "Loading Music File: /content/haydn_9_2.mid\n",
            "Loading Music File: /content/grieg_butterfly.mid\n",
            "Loading Music File: /content/mz_545_3.mid\n",
            "Loading Music File: /content/liz_rhap02.mid\n",
            "Loading Music File: /content/grieg_zwerge.mid\n",
            "Loading Music File: /content/chpn-p3.mid\n",
            "Loading Music File: /content/chpn_op25_e11.mid\n",
            "Loading Music File: /content/chpn-p2.mid\n",
            "Loading Music File: /content/grieg_halling.mid\n",
            "Loading Music File: /content/beethoven_opus22_2.mid\n",
            "Loading Music File: /content/beethoven_hammerklavier_3.mid\n",
            "Loading Music File: /content/mz_331_1.mid\n",
            "Loading Music File: /content/beethoven_hammerklavier_4.mid\n",
            "Loading Music File: /content/scn15_4.mid\n",
            "Loading Music File: /content/mond_1.mid\n",
            "Loading Music File: /content/muss_6.mid\n",
            "Loading Music File: /content/haydn_43_3.mid\n",
            "Loading Music File: /content/ty_maerz.mid\n",
            "Loading Music File: /content/chp_op31.mid\n",
            "Loading Music File: /content/mz_333_3.mid\n",
            "Loading Music File: /content/appass_1.mid\n",
            "Loading Music File: /content/schub_d960_4.mid\n",
            "Loading Music File: /content/alb_esp1.mid\n",
            "Loading Music File: /content/liz_liebestraum.mid\n",
            "Loading Music File: /content/liz_et4.mid\n",
            "Loading Music File: /content/muss_2.mid\n",
            "Loading Music File: /content/brahms_opus117_1.mid\n",
            "Loading Music File: /content/bor_ps7.mid\n",
            "Loading Music File: /content/liz_rhap10.mid\n",
            "Loading Music File: /content/schubert_D935_3.mid\n",
            "Loading Music File: /content/alb_se4.mid\n",
            "Loading Music File: /content/schubert_D850_1.mid\n",
            "Loading Music File: /content/grieg_berceuse.mid\n",
            "Loading Music File: /content/liz_rhap09.mid\n",
            "Loading Music File: /content/grieg_kobold.mid\n",
            "Loading Music File: /content/scn15_1.mid\n",
            "Loading Music File: /content/liz_et6.mid\n",
            "Loading Music File: /content/alb_se2.mid\n",
            "Loading Music File: /content/chpn-p7.mid\n",
            "Loading Music File: /content/scn15_12.mid\n",
            "Loading Music File: /content/mz_570_2.mid\n",
            "Loading Music File: /content/scn16_3.mid\n",
            "Loading Music File: /content/beethoven_les_adieux_1.mid\n",
            "Loading Music File: /content/hay_40_1.mid\n",
            "Loading Music File: /content/gra_esp_2.mid\n",
            "Loading Music File: /content/ty_januar.mid\n",
            "Loading Music File: /content/chpn_op53.mid\n",
            "Loading Music File: /content/ty_dezember.mid\n",
            "Loading Music File: /content/haydn_8_3.mid\n",
            "Loading Music File: /content/mz_331_3.mid\n",
            "Loading Music File: /content/chpn-p13.mid\n",
            "Loading Music File: /content/bach_850.mid\n",
            "Loading Music File: /content/debussy_cc_3.mid\n",
            "Loading Music File: /content/haydn_8_1.mid\n",
            "Loading Music File: /content/mz_332_2.mid\n",
            "Loading Music File: /content/grieg_album.mid\n",
            "Loading Music File: /content/muss_3.mid\n",
            "Loading Music File: /content/scn16_1.mid\n",
            "Loading Music File: /content/waldstein_3.mid\n",
            "Loading Music File: /content/alb_se5.mid\n",
            "Loading Music File: /content/alb_se7.mid\n",
            "Loading Music File: /content/hay_40_2.mid\n",
            "Loading Music File: /content/mz_570_1.mid\n",
            "Loading Music File: /content/beethoven_opus90_2.mid\n",
            "Loading Music File: /content/chpn_op25_e12.mid\n",
            "Loading Music File: /content/schu_143_3.mid\n",
            "Loading Music File: /content/beethoven_les_adieux_3.mid\n",
            "Loading Music File: /content/schumm-2.mid\n",
            "Loading Music File: /content/chpn_op35_2.mid\n",
            "Loading Music File: /content/chpn-p20.mid\n",
            "Loading Music File: /content/muss_1.mid\n",
            "Loading Music File: /content/appass_2.mid\n",
            "Loading Music File: /content/burg_trennung.mid\n",
            "Loading Music File: /content/haydn_7_1.mid\n",
            "Loading Music File: /content/brahms_opus1_1.mid\n",
            "Loading Music File: /content/chpn_op7_2.mid\n",
            "Loading Music File: /content/waldstein_1.mid\n",
            "Loading Music File: /content/ty_september.mid\n",
            "Loading Music File: /content/grieg_elfentanz.mid\n",
            "Loading Music File: /content/mz_311_1.mid\n",
            "Loading Music File: /content/scn16_4.mid\n",
            "Loading Music File: /content/mond_2.mid\n",
            "Loading Music File: /content/grieg_brooklet.mid\n",
            "Loading Music File: /content/mendel_op30_3.mid\n",
            "Loading Music File: /content/waldstein_2.mid\n",
            "Loading Music File: /content/scn15_6.mid\n",
            "Loading Music File: /content/muss_5.mid\n",
            "Loading Music File: /content/mendel_op19_6.mid\n",
            "Loading Music File: /content/burg_gewitter.mid\n",
            "Loading Music File: /content/liz_et1.mid\n",
            "Loading Music File: /content/haydn_9_3.mid\n",
            "Loading Music File: /content/bor_ps6.mid\n",
            "Loading Music File: /content/chpn-p9.mid\n",
            "Loading Music File: /content/liz_et5.mid\n",
            "Loading Music File: /content/pathetique_2.mid\n",
            "Loading Music File: /content/haydn_8_2.mid\n",
            "Loading Music File: /content/chpn-p6.mid\n",
            "Loading Music File: /content/haydn_7_2.mid\n",
            "Loading Music File: /content/haydn_8_4.mid\n",
            "Loading Music File: /content/bor_ps1.mid\n",
            "Loading Music File: /content/schuim-4.mid\n",
            "Loading Music File: /content/haydn_43_2.mid\n",
            "Loading Music File: /content/burg_geschwindigkeit.mid\n",
            "Loading Music File: /content/brahms_opus1_4.mid\n",
            "Loading Music File: /content/schu_143_1.mid\n",
            "Loading Music File: /content/liz_rhap12.mid\n",
            "Loading Music File: /content/ty_juni.mid\n",
            "Loading Music File: /content/bor_ps4.mid\n",
            "Loading Music File: /content/chpn-p5.mid\n",
            "Loading Music File: /content/chpn-p24.mid\n",
            "Loading Music File: /content/chpn_op10_e12.mid\n",
            "Loading Music File: /content/schubert_D850_4.mid\n",
            "Loading Music File: /content/mz_332_3.mid\n",
            "Loading Music File: /content/muss_7.mid\n",
            "Loading Music File: /content/alb_esp4.mid\n",
            "Loading Music File: /content/schubert_D935_4.mid\n",
            "Loading Music File: /content/scn15_7.mid\n",
            "Loading Music File: /content/schub_d960_3.mid\n",
            "Loading Music File: /content/gra_esp_4.mid\n",
            "Loading Music File: /content/schub_d760_1.mid\n",
            "Loading Music File: /content/scn16_6.mid\n",
            "Loading Music File: /content/schub_d760_3.mid\n",
            "Loading Music File: /content/muss_8.mid\n",
            "Loading Music File: /content/muss_4.mid\n",
            "Loading Music File: /content/mz_570_3.mid\n",
            "Loading Music File: /content/alb_se8.mid\n",
            "Loading Music File: /content/burg_sylphen.mid\n",
            "Loading Music File: /content/chpn-p4.mid\n",
            "Loading Music File: /content/beethoven_hammerklavier_1.mid\n",
            "Loading Music File: /content/chpn_op25_e3.mid\n",
            "Loading Music File: /content/scn16_7.mid\n",
            "Loading Music File: /content/grieg_waechter.mid\n",
            "Loading Music File: /content/chpn-p17.mid\n",
            "Loading Music File: /content/mendel_op62_3.mid\n",
            "Loading Music File: /content/schuim-3.mid\n",
            "Loading Music File: /content/ty_mai.mid\n",
            "Loading Music File: /content/haydn_35_3.mid\n",
            "Loading Music File: /content/scn68_12.mid\n",
            "Loading Music File: /content/bach_847.mid\n",
            "Loading Music File: /content/scn15_3.mid\n",
            "Loading Music File: /content/chpn_op10_e01.mid\n",
            "Loading Music File: /content/liz_et3.mid\n",
            "Loading Music File: /content/br_im5.mid\n",
            "Loading Music File: /content/alb_se3.mid\n",
            "Loading Music File: /content/chpn_op35_4.mid\n",
            "Loading Music File: /content/beethoven_opus22_4.mid\n",
            "Loading Music File: /content/chpn-p19.mid\n",
            "Loading Music File: /content/pathetique_1.mid\n",
            "Loading Music File: /content/chpn-p12.mid\n",
            "Loading Music File: /content/schumm-1.mid\n",
            "Loading Music File: /content/chpn_op10_e05.mid\n",
            "Loading Music File: /content/schubert_D850_3.mid\n",
            "Loading Music File: /content/burg_erwachen.mid\n",
            "Loading Music File: /content/schumm-3.mid\n",
            "Loading Music File: /content/brahms_opus117_2.mid\n",
            "Loading Music File: /content/bach_846.mid\n",
            "Loading Music File: /content/chpn_op7_1.mid\n",
            "Loading Music File: /content/grieg_once_upon_a_time.mid\n",
            "Loading Music File: /content/burg_agitato.mid\n",
            "Loading Music File: /content/schubert_D935_1.mid\n",
            "Loading Music File: /content/mendel_op62_5.mid\n",
            "Loading Music File: /content/scn68_10.mid\n",
            "Loading Music File: /content/haydn_7_3.mid\n",
            "Loading Music File: /content/bor_ps3.mid\n",
            "Loading Music File: /content/mendel_op53_5.mid\n",
            "Loading Music File: /content/beethoven_opus22_3.mid\n",
            "Loading Music File: /content/chpn_op23.mid\n",
            "Loading Music File: /content/chpn_op35_3.mid\n",
            "Loading Music File: /content/beethoven_hammerklavier_2.mid\n",
            "Loading Music File: /content/schuim-1.mid\n",
            "Loading Music File: /content/grieg_wedding.mid\n",
            "Loading Music File: /content/chpn-p22.mid\n",
            "Loading Music File: /content/schubert_D935_2.mid\n",
            "Loading Music File: /content/mendel_op30_4.mid\n",
            "Loading Music File: /content/elise.mid\n",
            "Loading Music File: /content/mz_545_1.mid\n",
            "Loading Music File: /content/schub_d760_2.mid\n",
            "Loading Music File: /content/grieg_march.mid\n",
            "Loading Music File: /content/chpn-p21.mid\n",
            "Loading Music File: /content/brahms_opus1_2.mid\n",
            "Loading Music File: /content/liz_rhap15.mid\n",
            "Loading Music File: /content/schumm-5.mid\n",
            "Loading Music File: /content/liz_et2.mid\n",
            "Loading Music File: /content/chpn-p14.mid\n",
            "Loading Music File: /content/ty_november.mid\n",
            "Loading Music File: /content/mz_333_1.mid\n",
            "Loading Music File: /content/alb_esp2.mid\n",
            "Loading Music File: /content/haydn_33_3.mid\n",
            "Loading Music File: /content/ty_oktober.mid\n",
            "Loading Music File: /content/mendel_op19_5.mid\n",
            "Loading Music File: /content/alb_esp5.mid\n",
            "Loading Music File: /content/liz_et_trans4.mid\n",
            "Loading Music File: /content/haydn_33_2.mid\n",
            "Loading Music File: /content/chpn-p8.mid\n",
            "Loading Music File: /content/bor_ps5.mid\n",
            "Loading Music File: /content/schumm-6.mid\n",
            "Loading Music File: /content/chpn_op25_e1.mid\n",
            "Loading Music File: /content/beethoven_opus10_2.mid\n",
            "Loading Music File: /content/grieg_spring.mid\n",
            "Loading Music File: /content/mz_331_2.mid\n",
            "Loading Music File: /content/mendel_op62_4.mid\n",
            "Loading Music File: /content/alb_esp3.mid\n",
            "Loading Music File: /content/mendel_op30_5.mid\n",
            "Loading Music File: /content/liz_donjuan.mid\n",
            "Loading Music File: /content/ty_april.mid\n",
            "Loading Music File: /content/chpn-p16.mid\n",
            "Loading Music File: /content/beethoven_opus90_1.mid\n",
            "Loading Music File: /content/chpn_op27_2.mid\n",
            "Loading Music File: /content/beethoven_opus22_1.mid\n",
            "Loading Music File: /content/haydn_33_1.mid\n",
            "Loading Music File: /content/debussy_cc_1.mid\n",
            "Loading Music File: /content/chpn_op33_4.mid\n",
            "Loading Music File: /content/schub_d960_1.mid\n",
            "Loading Music File: /content/mendel_op30_1.mid\n",
            "Loading Music File: /content/chpn_op33_2.mid\n",
            "Loading Music File: /content/brahms_opus1_3.mid\n",
            "Loading Music File: /content/chpn-p23.mid\n",
            "Loading Music File: /content/debussy_cc_6.mid\n",
            "Loading Music File: /content/chp_op18.mid\n",
            "Loading Music File: /content/scn15_13.mid\n",
            "Loading Music File: /content/chpn_op27_1.mid\n",
            "Loading Music File: /content/scn16_5.mid\n",
            "Loading Music File: /content/chpn_op25_e4.mid\n",
            "Loading Music File: /content/schum_abegg.mid\n",
            "Loading Music File: /content/bor_ps2.mid\n",
            "Loading Music File: /content/scn15_11.mid\n",
            "Loading Music File: /content/mz_332_1.mid\n",
            "Loading Music File: /content/mz_333_2.mid\n",
            "Loading Music File: /content/debussy_cc_4.mid\n",
            "Loading Music File: /content/chpn-p18.mid\n",
            "Loading Music File: /content/mz_330_2.mid\n",
            "Loading Music File: /content/ty_august.mid\n",
            "Loading Music File: /content/schu_143_2.mid\n",
            "Loading Music File: /content/chpn-p1.mid\n",
            "Loading Music File: /content/scn16_2.mid\n",
            "Loading Music File: /content/chpn_op25_e2.mid\n",
            "Loading Music File: /content/beethoven_les_adieux_2.mid\n",
            "Loading Music File: /content/scn15_2.mid\n",
            "Loading Music File: /content/chpn-p15.mid\n"
          ]
        }
      ],
      "source": [
        "path='/content/'\n",
        "\n",
        "\n",
        "#read all the filenames\n",
        "files=[i for i in os.listdir(path) if i.endswith(\".mid\")]\n",
        "\n",
        "#reading each midi file\n",
        "notes_array = np.array([read_midi(path+i) for i in files])"
      ]
    },
    {
      "cell_type": "code",
      "execution_count": 6,
      "id": "dcfc87a7-9a15-4afd-80b2-f8e3dd566186",
      "metadata": {
        "colab": {
          "base_uri": "https://localhost:8080/"
        },
        "id": "dcfc87a7-9a15-4afd-80b2-f8e3dd566186",
        "outputId": "651126fa-9899-4c23-a5c3-3240cc6603fb"
      },
      "outputs": [
        {
          "output_type": "stream",
          "name": "stdout",
          "text": [
            "477\n"
          ]
        }
      ],
      "source": [
        "#flatten array\n",
        "notes_ = [element for note_ in notes_array for element in note_]\n",
        "\n",
        "#No. of unique notes\n",
        "unique_notes = list(set(notes_))\n",
        "print(len(unique_notes))"
      ]
    },
    {
      "cell_type": "code",
      "execution_count": 7,
      "id": "255347a7-39f6-4347-ae72-1c5858540766",
      "metadata": {
        "colab": {
          "base_uri": "https://localhost:8080/"
        },
        "id": "255347a7-39f6-4347-ae72-1c5858540766",
        "outputId": "e10b2c50-3ec3-431c-f5bb-2208bbbbb05f"
      },
      "outputs": [
        {
          "output_type": "stream",
          "name": "stdout",
          "text": [
            "472561\n"
          ]
        }
      ],
      "source": [
        "print(len(notes_))"
      ]
    },
    {
      "cell_type": "code",
      "execution_count": 8,
      "id": "d5ff9847-c787-4f90-8ca0-56ab60f60653",
      "metadata": {
        "colab": {
          "base_uri": "https://localhost:8080/"
        },
        "id": "d5ff9847-c787-4f90-8ca0-56ab60f60653",
        "outputId": "34a621bd-883d-4b86-c90b-edc05ca07e2b"
      },
      "outputs": [
        {
          "output_type": "stream",
          "name": "stdout",
          "text": [
            "First fifty notes: ['0.5', '0.5', '9.0', '5.9', '5.9.0', '5.9.0', '0.5', '9.0', 'E4', '5.9.0', 'D4', 'C4', '5.9.0', 'D4', 'E4', '0.5', '9.0', 'F3', 'D4', 'E4', 'D4', '5.9.0', 'C4', '5.9.0', '0.5', '9.0', '5.9.0', '5.9.0', '0.5', '0.5', '9.0', '5.9', '5.9.0', '5.9.0', '0.5', '9.0', 'E4', '5.9.0', 'D4', 'C4', '5.9.0', 'D4', 'E4', '0.5', '9.0', 'D4', 'F3', 'E4', 'D4', '5.9.0']\n"
          ]
        }
      ],
      "source": [
        "print(\"First fifty notes:\",notes_[:50])"
      ]
    },
    {
      "cell_type": "code",
      "execution_count": 9,
      "id": "80ea6f4f-c8b5-497a-80b4-6face3f11fcb",
      "metadata": {
        "colab": {
          "base_uri": "https://localhost:8080/",
          "height": 462
        },
        "id": "80ea6f4f-c8b5-497a-80b4-6face3f11fcb",
        "outputId": "e1cfbaae-47c3-47f0-99e1-6e61b2e8abdc"
      },
      "outputs": [
        {
          "output_type": "display_data",
          "data": {
            "image/png": "[encoded data removed]",
            "text/plain": [
              "<Figure size 648x504 with 1 Axes>"
            ]
          },
          "metadata": {
            "image/png": {
              "width": 559,
              "height": 445
            },
            "needs_background": "light"
          }
        }
      ],
      "source": [
        "#computing frequency of each note\n",
        "freq = dict(Counter(notes_))\n",
        "\n",
        "#consider only the frequencies\n",
        "no=[count for _,count in freq.items()]\n",
        "\n",
        "#set the figure size\n",
        "plt.figure(figsize=(9,7))\n",
        "\n",
        "#plot\n",
        "plt.title(\"Frequency distribution of the notes\", fontsize=15)\n",
        "plt.ylabel('Count', fontsize= 13)\n",
        "plt.xlabel('Frequencies', fontsize= 13)\n",
        "plt.hist(no, color = 'slateblue');"
      ]
    },
    {
      "cell_type": "code",
      "execution_count": 10,
      "id": "281c4082-6cac-48b1-8b6c-af8c47d4308b",
      "metadata": {
        "colab": {
          "base_uri": "https://localhost:8080/"
        },
        "id": "281c4082-6cac-48b1-8b6c-af8c47d4308b",
        "outputId": "34d772d8-17c3-4760-9d79-af03891520c0"
      },
      "outputs": [
        {
          "output_type": "stream",
          "name": "stdout",
          "text": [
            "251\n"
          ]
        }
      ],
      "source": [
        "frequent_notes = [note_ for note_, count in freq.items() if count>=40]\n",
        "#for this modeling frequent notes has been redefined to >40.  \n",
        "#We had it initially defined as >50 in the first version of the model\n",
        "print(len(frequent_notes))"
      ]
    },
    {
      "cell_type": "code",
      "execution_count": 11,
      "id": "39156cb5-31a1-4990-9091-d8b8ce3a856d",
      "metadata": {
        "id": "39156cb5-31a1-4990-9091-d8b8ce3a856d"
      },
      "outputs": [],
      "source": [
        "#files will only contain frequent notes\n",
        "new_music=[]\n",
        "\n",
        "for notes in notes_array:\n",
        "    temp=[]\n",
        "    for note_ in notes:\n",
        "        if note_ in frequent_notes:\n",
        "            temp.append(note_)            \n",
        "    new_music.append(temp)\n",
        "    \n",
        "new_music = np.array(new_music)"
      ]
    },
    {
      "cell_type": "code",
      "source": [
        "no_of_timesteps = 32\n",
        "x = []\n",
        "y = []\n",
        "\n",
        "for note_ in new_music:\n",
        "    for i in range(0, len(note_) - no_of_timesteps, 1):\n",
        "        \n",
        "        #preparing input and output sequences\n",
        "        input_ = note_[i:i + no_of_timesteps]\n",
        "        output = note_[i + no_of_timesteps]\n",
        "        \n",
        "        x.append(input_)\n",
        "        y.append(output)\n",
        "        \n",
        "x=np.array(x)\n",
        "y=np.array(y)"
      ],
      "metadata": {
        "id": "dqhwQJVA55GD"
      },
      "id": "dqhwQJVA55GD",
      "execution_count": 12,
      "outputs": []
    },
    {
      "cell_type": "code",
      "source": [
        "#Each note gets a unique integer\n",
        "unique_x = list(set(x.ravel()))\n",
        "x_note_to_int = dict((note_, number) for number, note_ in enumerate(unique_x))"
      ],
      "metadata": {
        "id": "s7gGsOx4558m"
      },
      "id": "s7gGsOx4558m",
      "execution_count": 13,
      "outputs": []
    },
    {
      "cell_type": "code",
      "source": [
        "#preparing input sequences\n",
        "x_seq=[]\n",
        "for i in x:\n",
        "    temp=[]\n",
        "    for j in i:\n",
        "        #assigning unique integer to every note\n",
        "        temp.append(x_note_to_int[j])\n",
        "    x_seq.append(temp)\n",
        "    \n",
        "x_seq = np.array(x_seq)"
      ],
      "metadata": {
        "id": "fHvVO1Yg59E1"
      },
      "id": "fHvVO1Yg59E1",
      "execution_count": 14,
      "outputs": []
    },
    {
      "cell_type": "code",
      "source": [
        "#preparing integer sequences for output data.\n",
        "unique_y = list(set(y))\n",
        "y_note_to_int = dict((note_, number) for number, note_ in enumerate(unique_y)) \n",
        "y_seq=np.array([y_note_to_int[i] for i in y])"
      ],
      "metadata": {
        "id": "kejTgczw5_mZ"
      },
      "id": "kejTgczw5_mZ",
      "execution_count": 15,
      "outputs": []
    },
    {
      "cell_type": "code",
      "source": [
        "x_tr, x_val, y_tr, y_val = train_test_split(x_seq,y_seq,test_size=0.2,random_state=0)"
      ],
      "metadata": {
        "id": "WBtwCVVk6Cqa"
      },
      "id": "WBtwCVVk6Cqa",
      "execution_count": 16,
      "outputs": []
    },
    {
      "cell_type": "markdown",
      "source": [
        "## Make it compatible with lstm by normalizing input and one hot encodint the output"
      ],
      "metadata": {
        "id": "KoUIgb17V4_a"
      },
      "id": "KoUIgb17V4_a"
    },
    {
      "cell_type": "code",
      "source": [
        "n_vocab = len(set(notes))"
      ],
      "metadata": {
        "id": "0tqJrlAnGgqR"
      },
      "id": "0tqJrlAnGgqR",
      "execution_count": 17,
      "outputs": []
    },
    {
      "cell_type": "code",
      "source": [
        "len_unique=len(unique_notes)\n",
        "len_unique"
      ],
      "metadata": {
        "colab": {
          "base_uri": "https://localhost:8080/"
        },
        "id": "jfFjmwDKUWBx",
        "outputId": "4f8d5035-56b6-41dc-fcf6-fce54ae488d8"
      },
      "id": "jfFjmwDKUWBx",
      "execution_count": 18,
      "outputs": [
        {
          "output_type": "execute_result",
          "data": {
            "text/plain": [
              "477"
            ]
          },
          "metadata": {},
          "execution_count": 18
        }
      ]
    },
    {
      "cell_type": "code",
      "source": [
        "len(y)"
      ],
      "metadata": {
        "colab": {
          "base_uri": "https://localhost:8080/"
        },
        "id": "Zo9149b5U1-M",
        "outputId": "b2b1f929-0116-4a46-b51c-9a9ead0162e8"
      },
      "id": "Zo9149b5U1-M",
      "execution_count": 20,
      "outputs": [
        {
          "output_type": "execute_result",
          "data": {
            "text/plain": [
              "461961"
            ]
          },
          "metadata": {},
          "execution_count": 20
        }
      ]
    },
    {
      "cell_type": "code",
      "source": [
        "x_seq"
      ],
      "metadata": {
        "colab": {
          "base_uri": "https://localhost:8080/"
        },
        "id": "sNQjp5MVU6nl",
        "outputId": "36c11008-4370-43eb-a746-f26c2fdb5469"
      },
      "id": "sNQjp5MVU6nl",
      "execution_count": 21,
      "outputs": [
        {
          "output_type": "execute_result",
          "data": {
            "text/plain": [
              "array([[214, 214,  95, ..., 214,  95, 186],\n",
              "       [214,  95, 186, ...,  95, 186,  66],\n",
              "       [ 95, 186,  66, ..., 186,  66,  66],\n",
              "       ...,\n",
              "       [133, 114, 133, ..., 114, 133, 133],\n",
              "       [114, 133,  44, ..., 133, 133, 133],\n",
              "       [133,  44, 133, ..., 133, 133, 231]])"
            ]
          },
          "metadata": {},
          "execution_count": 21
        }
      ]
    },
    {
      "cell_type": "code",
      "source": [
        "x_patterns=len(x)\n",
        "x_input=(np.reshape(x_seq,(len(y),no_of_timesteps,1)))/len_unique\n",
        "#https://towardsdatascience.com/how-to-generate-music-using-a-lstm-neural-network-in-keras-68786834d4c5"
      ],
      "metadata": {
        "id": "KC8BHPxyHtKE"
      },
      "id": "KC8BHPxyHtKE",
      "execution_count": 22,
      "outputs": []
    },
    {
      "cell_type": "code",
      "source": [
        "y=tf.keras.utils.to_categorical(y_seq)\n",
        "#https://www.geeksforgeeks.org/python-keras-keras-utils-to_categorical/"
      ],
      "metadata": {
        "id": "-NmHSQ0PUT3r"
      },
      "id": "-NmHSQ0PUT3r",
      "execution_count": 23,
      "outputs": []
    },
    {
      "cell_type": "markdown",
      "source": [
        "## LSTM Model"
      ],
      "metadata": {
        "id": "Rp3QeKgJ7OMC"
      },
      "id": "Rp3QeKgJ7OMC"
    },
    {
      "cell_type": "code",
      "source": [
        "model = Sequential()\n",
        "model.add(LSTM(128, input_shape =(x_input.shape[1],x_input.shape[2]), return_sequences=True))\n",
        "model.add(LSTM(64, return_sequences = False))\n",
        "model.add(Dense(256, activation='relu'))\n",
        "model.add(Dense(len(unique_y), activation = 'softmax'))\n",
        "model.compile(loss='sparse_categorical_crossentropy', optimizer = 'adam')\n",
        "\n",
        "model.summary()"
      ],
      "metadata": {
        "colab": {
          "base_uri": "https://localhost:8080/"
        },
        "id": "yxQiKYDd7O_9",
        "outputId": "dd08d92c-01f5-4c32-db4d-fd281bf4dcad"
      },
      "id": "yxQiKYDd7O_9",
      "execution_count": 24,
      "outputs": [
        {
          "output_type": "stream",
          "name": "stdout",
          "text": [
            "Model: \"sequential\"\n",
            "_________________________________________________________________\n",
            " Layer (type)                Output Shape              Param #   \n",
            "=================================================================\n",
            " lstm (LSTM)                 (None, 32, 128)           66560     \n",
            "                                                                 \n",
            " lstm_1 (LSTM)               (None, 64)                49408     \n",
            "                                                                 \n",
            " dense (Dense)               (None, 256)               16640     \n",
            "                                                                 \n",
            " dense_1 (Dense)             (None, 251)               64507     \n",
            "                                                                 \n",
            "=================================================================\n",
            "Total params: 197,115\n",
            "Trainable params: 197,115\n",
            "Non-trainable params: 0\n",
            "_________________________________________________________________\n"
          ]
        }
      ]
    },
    {
      "cell_type": "code",
      "source": [
        "mc6=ModelCheckpoint('best_model_6.h5', monitor = 'val_loss', mode = 'min',\n",
        "                   save_best_only=True, verbose =1)"
      ],
      "metadata": {
        "id": "jJQzOa1PXt08"
      },
      "id": "jJQzOa1PXt08",
      "execution_count": 25,
      "outputs": []
    },
    {
      "cell_type": "code",
      "source": [
        "history6 = model.fit(np.array(x_tr), np.array(y_tr), batch_size=64, \n",
        "                    epochs=65, validation_data=(np.array(x_val),\n",
        "                                                np.array(y_val)),verbose =1, callbacks=[mc6])\n"
      ],
      "metadata": {
        "colab": {
          "base_uri": "https://localhost:8080/"
        },
        "id": "SPOApdmM9sza",
        "outputId": "fe01ab87-e937-465a-8c40-5d8a0c932195"
      },
      "id": "SPOApdmM9sza",
      "execution_count": 26,
      "outputs": [
        {
          "output_type": "stream",
          "name": "stdout",
          "text": [
            "Epoch 1/65\n",
            "5772/5775 [============================>.] - ETA: 0s - loss: 4.4568\n",
            "Epoch 00001: val_loss improved from inf to 4.26410, saving model to best_model_6.h5\n",
            "5775/5775 [==============================] - 53s 8ms/step - loss: 4.4567 - val_loss: 4.2641\n",
            "Epoch 2/65\n",
            "5769/5775 [============================>.] - ETA: 0s - loss: 4.1703\n",
            "Epoch 00002: val_loss improved from 4.26410 to 4.09209, saving model to best_model_6.h5\n",
            "5775/5775 [==============================] - 46s 8ms/step - loss: 4.1701 - val_loss: 4.0921\n",
            "Epoch 3/65\n",
            "5772/5775 [============================>.] - ETA: 0s - loss: 4.0041\n",
            "Epoch 00003: val_loss improved from 4.09209 to 3.98718, saving model to best_model_6.h5\n",
            "5775/5775 [==============================] - 46s 8ms/step - loss: 4.0040 - val_loss: 3.9872\n",
            "Epoch 4/65\n",
            "5774/5775 [============================>.] - ETA: 0s - loss: 3.8930\n",
            "Epoch 00004: val_loss improved from 3.98718 to 3.92060, saving model to best_model_6.h5\n",
            "5775/5775 [==============================] - 46s 8ms/step - loss: 3.8930 - val_loss: 3.9206\n",
            "Epoch 5/65\n",
            "5769/5775 [============================>.] - ETA: 0s - loss: 3.8125\n",
            "Epoch 00005: val_loss improved from 3.92060 to 3.85901, saving model to best_model_6.h5\n",
            "5775/5775 [==============================] - 46s 8ms/step - loss: 3.8126 - val_loss: 3.8590\n",
            "Epoch 6/65\n",
            "5775/5775 [==============================] - ETA: 0s - loss: 3.7498\n",
            "Epoch 00006: val_loss improved from 3.85901 to 3.83747, saving model to best_model_6.h5\n",
            "5775/5775 [==============================] - 46s 8ms/step - loss: 3.7498 - val_loss: 3.8375\n",
            "Epoch 7/65\n",
            "5775/5775 [==============================] - ETA: 0s - loss: 3.6984\n",
            "Epoch 00007: val_loss improved from 3.83747 to 3.80589, saving model to best_model_6.h5\n",
            "5775/5775 [==============================] - 46s 8ms/step - loss: 3.6984 - val_loss: 3.8059\n",
            "Epoch 8/65\n",
            "5774/5775 [============================>.] - ETA: 0s - loss: 3.6553\n",
            "Epoch 00008: val_loss improved from 3.80589 to 3.77744, saving model to best_model_6.h5\n",
            "5775/5775 [==============================] - 46s 8ms/step - loss: 3.6552 - val_loss: 3.7774\n",
            "Epoch 9/65\n",
            "5769/5775 [============================>.] - ETA: 0s - loss: 3.6187\n",
            "Epoch 00009: val_loss improved from 3.77744 to 3.76031, saving model to best_model_6.h5\n",
            "5775/5775 [==============================] - 46s 8ms/step - loss: 3.6187 - val_loss: 3.7603\n",
            "Epoch 10/65\n",
            "5772/5775 [============================>.] - ETA: 0s - loss: 3.5871\n",
            "Epoch 00010: val_loss did not improve from 3.76031\n",
            "5775/5775 [==============================] - 47s 8ms/step - loss: 3.5871 - val_loss: 3.7682\n",
            "Epoch 11/65\n",
            "5768/5775 [============================>.] - ETA: 0s - loss: 3.5596\n",
            "Epoch 00011: val_loss improved from 3.76031 to 3.74258, saving model to best_model_6.h5\n",
            "5775/5775 [==============================] - 46s 8ms/step - loss: 3.5596 - val_loss: 3.7426\n",
            "Epoch 12/65\n",
            "5771/5775 [============================>.] - ETA: 0s - loss: 3.5339\n",
            "Epoch 00012: val_loss improved from 3.74258 to 3.73995, saving model to best_model_6.h5\n",
            "5775/5775 [==============================] - 46s 8ms/step - loss: 3.5339 - val_loss: 3.7399\n",
            "Epoch 13/65\n",
            "5774/5775 [============================>.] - ETA: 0s - loss: 3.5132\n",
            "Epoch 00013: val_loss improved from 3.73995 to 3.73392, saving model to best_model_6.h5\n",
            "5775/5775 [==============================] - 46s 8ms/step - loss: 3.5133 - val_loss: 3.7339\n",
            "Epoch 14/65\n",
            "5772/5775 [============================>.] - ETA: 0s - loss: 3.4922\n",
            "Epoch 00014: val_loss improved from 3.73392 to 3.72048, saving model to best_model_6.h5\n",
            "5775/5775 [==============================] - 46s 8ms/step - loss: 3.4923 - val_loss: 3.7205\n",
            "Epoch 15/65\n",
            "5772/5775 [============================>.] - ETA: 0s - loss: 3.4745\n",
            "Epoch 00015: val_loss improved from 3.72048 to 3.70791, saving model to best_model_6.h5\n",
            "5775/5775 [==============================] - 46s 8ms/step - loss: 3.4745 - val_loss: 3.7079\n",
            "Epoch 16/65\n",
            "5773/5775 [============================>.] - ETA: 0s - loss: 3.4555\n",
            "Epoch 00016: val_loss did not improve from 3.70791\n",
            "5775/5775 [==============================] - 46s 8ms/step - loss: 3.4555 - val_loss: 3.7127\n",
            "Epoch 17/65\n",
            "5770/5775 [============================>.] - ETA: 0s - loss: 3.4419\n",
            "Epoch 00017: val_loss improved from 3.70791 to 3.70302, saving model to best_model_6.h5\n",
            "5775/5775 [==============================] - 46s 8ms/step - loss: 3.4418 - val_loss: 3.7030\n",
            "Epoch 18/65\n",
            "5772/5775 [============================>.] - ETA: 0s - loss: 3.4271\n",
            "Epoch 00018: val_loss did not improve from 3.70302\n",
            "5775/5775 [==============================] - 46s 8ms/step - loss: 3.4272 - val_loss: 3.7065\n",
            "Epoch 19/65\n",
            "5769/5775 [============================>.] - ETA: 0s - loss: 3.4128\n",
            "Epoch 00019: val_loss did not improve from 3.70302\n",
            "5775/5775 [==============================] - 46s 8ms/step - loss: 3.4127 - val_loss: 3.7108\n",
            "Epoch 20/65\n",
            "5769/5775 [============================>.] - ETA: 0s - loss: 3.4007\n",
            "Epoch 00020: val_loss did not improve from 3.70302\n",
            "5775/5775 [==============================] - 46s 8ms/step - loss: 3.4005 - val_loss: 3.7221\n",
            "Epoch 21/65\n",
            "5770/5775 [============================>.] - ETA: 0s - loss: 3.3873\n",
            "Epoch 00021: val_loss did not improve from 3.70302\n",
            "5775/5775 [==============================] - 46s 8ms/step - loss: 3.3873 - val_loss: 3.7040\n",
            "Epoch 22/65\n",
            "5770/5775 [============================>.] - ETA: 0s - loss: 3.3768\n",
            "Epoch 00022: val_loss improved from 3.70302 to 3.69854, saving model to best_model_6.h5\n",
            "5775/5775 [==============================] - 46s 8ms/step - loss: 3.3769 - val_loss: 3.6985\n",
            "Epoch 23/65\n",
            "5768/5775 [============================>.] - ETA: 0s - loss: 3.3665\n",
            "Epoch 00023: val_loss did not improve from 3.69854\n",
            "5775/5775 [==============================] - 46s 8ms/step - loss: 3.3667 - val_loss: 3.7050\n",
            "Epoch 24/65\n",
            "5770/5775 [============================>.] - ETA: 0s - loss: 3.3566\n",
            "Epoch 00024: val_loss did not improve from 3.69854\n",
            "5775/5775 [==============================] - 46s 8ms/step - loss: 3.3567 - val_loss: 3.7034\n",
            "Epoch 25/65\n",
            "5770/5775 [============================>.] - ETA: 0s - loss: 3.3462\n",
            "Epoch 00025: val_loss improved from 3.69854 to 3.69823, saving model to best_model_6.h5\n",
            "5775/5775 [==============================] - 46s 8ms/step - loss: 3.3462 - val_loss: 3.6982\n",
            "Epoch 26/65\n",
            "5772/5775 [============================>.] - ETA: 0s - loss: 3.3378\n",
            "Epoch 00026: val_loss did not improve from 3.69823\n",
            "5775/5775 [==============================] - 46s 8ms/step - loss: 3.3378 - val_loss: 3.7023\n",
            "Epoch 27/65\n",
            "5769/5775 [============================>.] - ETA: 0s - loss: 3.3292\n",
            "Epoch 00027: val_loss did not improve from 3.69823\n",
            "5775/5775 [==============================] - 46s 8ms/step - loss: 3.3292 - val_loss: 3.7072\n",
            "Epoch 28/65\n",
            "5772/5775 [============================>.] - ETA: 0s - loss: 3.3212\n",
            "Epoch 00028: val_loss did not improve from 3.69823\n",
            "5775/5775 [==============================] - 46s 8ms/step - loss: 3.3212 - val_loss: 3.7040\n",
            "Epoch 29/65\n",
            "5771/5775 [============================>.] - ETA: 0s - loss: 3.3130\n",
            "Epoch 00029: val_loss did not improve from 3.69823\n",
            "5775/5775 [==============================] - 46s 8ms/step - loss: 3.3131 - val_loss: 3.7135\n",
            "Epoch 30/65\n",
            "5774/5775 [============================>.] - ETA: 0s - loss: 3.3058\n",
            "Epoch 00030: val_loss did not improve from 3.69823\n",
            "5775/5775 [==============================] - 46s 8ms/step - loss: 3.3058 - val_loss: 3.6991\n",
            "Epoch 31/65\n",
            "5772/5775 [============================>.] - ETA: 0s - loss: 3.2986\n",
            "Epoch 00031: val_loss did not improve from 3.69823\n",
            "5775/5775 [==============================] - 46s 8ms/step - loss: 3.2985 - val_loss: 3.6986\n",
            "Epoch 32/65\n",
            "5770/5775 [============================>.] - ETA: 0s - loss: 3.2919\n",
            "Epoch 00032: val_loss did not improve from 3.69823\n",
            "5775/5775 [==============================] - 46s 8ms/step - loss: 3.2919 - val_loss: 3.7061\n",
            "Epoch 33/65\n",
            "5775/5775 [==============================] - ETA: 0s - loss: 3.2860\n",
            "Epoch 00033: val_loss did not improve from 3.69823\n",
            "5775/5775 [==============================] - 46s 8ms/step - loss: 3.2860 - val_loss: 3.7065\n",
            "Epoch 34/65\n",
            "5769/5775 [============================>.] - ETA: 0s - loss: 3.2784\n",
            "Epoch 00034: val_loss did not improve from 3.69823\n",
            "5775/5775 [==============================] - 46s 8ms/step - loss: 3.2783 - val_loss: 3.6994\n",
            "Epoch 35/65\n",
            "5774/5775 [============================>.] - ETA: 0s - loss: 3.2720\n",
            "Epoch 00035: val_loss did not improve from 3.69823\n",
            "5775/5775 [==============================] - 46s 8ms/step - loss: 3.2720 - val_loss: 3.7116\n",
            "Epoch 36/65\n",
            "5771/5775 [============================>.] - ETA: 0s - loss: 3.2674\n",
            "Epoch 00036: val_loss improved from 3.69823 to 3.69814, saving model to best_model_6.h5\n",
            "5775/5775 [==============================] - 46s 8ms/step - loss: 3.2675 - val_loss: 3.6981\n",
            "Epoch 37/65\n",
            "5768/5775 [============================>.] - ETA: 0s - loss: 3.2606\n",
            "Epoch 00037: val_loss did not improve from 3.69814\n",
            "5775/5775 [==============================] - 46s 8ms/step - loss: 3.2606 - val_loss: 3.7108\n",
            "Epoch 38/65\n",
            "5770/5775 [============================>.] - ETA: 0s - loss: 3.2560\n",
            "Epoch 00038: val_loss improved from 3.69814 to 3.69540, saving model to best_model_6.h5\n",
            "5775/5775 [==============================] - 46s 8ms/step - loss: 3.2560 - val_loss: 3.6954\n",
            "Epoch 39/65\n",
            "5774/5775 [============================>.] - ETA: 0s - loss: 3.2509\n",
            "Epoch 00039: val_loss did not improve from 3.69540\n",
            "5775/5775 [==============================] - 46s 8ms/step - loss: 3.2509 - val_loss: 3.6990\n",
            "Epoch 40/65\n",
            "5772/5775 [============================>.] - ETA: 0s - loss: 3.2460\n",
            "Epoch 00040: val_loss did not improve from 3.69540\n",
            "5775/5775 [==============================] - 48s 8ms/step - loss: 3.2460 - val_loss: 3.6998\n",
            "Epoch 41/65\n",
            "5775/5775 [==============================] - ETA: 0s - loss: 3.2409\n",
            "Epoch 00041: val_loss did not improve from 3.69540\n",
            "5775/5775 [==============================] - 46s 8ms/step - loss: 3.2409 - val_loss: 3.7157\n",
            "Epoch 42/65\n",
            "5769/5775 [============================>.] - ETA: 0s - loss: 3.2363\n",
            "Epoch 00042: val_loss did not improve from 3.69540\n",
            "5775/5775 [==============================] - 46s 8ms/step - loss: 3.2363 - val_loss: 3.7088\n",
            "Epoch 43/65\n",
            "5775/5775 [==============================] - ETA: 0s - loss: 3.2303\n",
            "Epoch 00043: val_loss did not improve from 3.69540\n",
            "5775/5775 [==============================] - 46s 8ms/step - loss: 3.2303 - val_loss: 3.7046\n",
            "Epoch 44/65\n",
            "5774/5775 [============================>.] - ETA: 0s - loss: 3.2266\n",
            "Epoch 00044: val_loss did not improve from 3.69540\n",
            "5775/5775 [==============================] - 46s 8ms/step - loss: 3.2266 - val_loss: 3.7139\n",
            "Epoch 45/65\n",
            "5770/5775 [============================>.] - ETA: 0s - loss: 3.2233\n",
            "Epoch 00045: val_loss did not improve from 3.69540\n",
            "5775/5775 [==============================] - 46s 8ms/step - loss: 3.2233 - val_loss: 3.7196\n",
            "Epoch 46/65\n",
            "5768/5775 [============================>.] - ETA: 0s - loss: 3.2184\n",
            "Epoch 00046: val_loss did not improve from 3.69540\n",
            "5775/5775 [==============================] - 46s 8ms/step - loss: 3.2183 - val_loss: 3.7100\n",
            "Epoch 47/65\n",
            "5771/5775 [============================>.] - ETA: 0s - loss: 3.2134\n",
            "Epoch 00047: val_loss did not improve from 3.69540\n",
            "5775/5775 [==============================] - 46s 8ms/step - loss: 3.2136 - val_loss: 3.7088\n",
            "Epoch 48/65\n",
            "5770/5775 [============================>.] - ETA: 0s - loss: 3.2102\n",
            "Epoch 00048: val_loss did not improve from 3.69540\n",
            "5775/5775 [==============================] - 46s 8ms/step - loss: 3.2103 - val_loss: 3.7084\n",
            "Epoch 49/65\n",
            "5773/5775 [============================>.] - ETA: 0s - loss: 3.2050\n",
            "Epoch 00049: val_loss did not improve from 3.69540\n",
            "5775/5775 [==============================] - 46s 8ms/step - loss: 3.2050 - val_loss: 3.7175\n",
            "Epoch 50/65\n",
            "5770/5775 [============================>.] - ETA: 0s - loss: 3.2018\n",
            "Epoch 00050: val_loss did not improve from 3.69540\n",
            "5775/5775 [==============================] - 46s 8ms/step - loss: 3.2017 - val_loss: 3.7366\n",
            "Epoch 51/65\n",
            "5771/5775 [============================>.] - ETA: 0s - loss: 3.1992\n",
            "Epoch 00051: val_loss did not improve from 3.69540\n",
            "5775/5775 [==============================] - 46s 8ms/step - loss: 3.1992 - val_loss: 3.7022\n",
            "Epoch 52/65\n",
            "5774/5775 [============================>.] - ETA: 0s - loss: 3.1971\n",
            "Epoch 00052: val_loss did not improve from 3.69540\n",
            "5775/5775 [==============================] - 46s 8ms/step - loss: 3.1971 - val_loss: 3.7345\n",
            "Epoch 53/65\n",
            "5772/5775 [============================>.] - ETA: 0s - loss: 3.1931\n",
            "Epoch 00053: val_loss did not improve from 3.69540\n",
            "5775/5775 [==============================] - 46s 8ms/step - loss: 3.1930 - val_loss: 3.7268\n",
            "Epoch 54/65\n",
            "5773/5775 [============================>.] - ETA: 0s - loss: 3.1901\n",
            "Epoch 00054: val_loss did not improve from 3.69540\n",
            "5775/5775 [==============================] - 46s 8ms/step - loss: 3.1901 - val_loss: 3.7075\n",
            "Epoch 55/65\n",
            "5775/5775 [==============================] - ETA: 0s - loss: 3.1860\n",
            "Epoch 00055: val_loss did not improve from 3.69540\n",
            "5775/5775 [==============================] - 46s 8ms/step - loss: 3.1860 - val_loss: 3.7315\n",
            "Epoch 56/65\n",
            "5770/5775 [============================>.] - ETA: 0s - loss: 3.1830\n",
            "Epoch 00056: val_loss did not improve from 3.69540\n",
            "5775/5775 [==============================] - 46s 8ms/step - loss: 3.1829 - val_loss: 3.7293\n",
            "Epoch 57/65\n",
            "5772/5775 [============================>.] - ETA: 0s - loss: 3.1783\n",
            "Epoch 00057: val_loss did not improve from 3.69540\n",
            "5775/5775 [==============================] - 46s 8ms/step - loss: 3.1784 - val_loss: 3.7234\n",
            "Epoch 58/65\n",
            "5769/5775 [============================>.] - ETA: 0s - loss: 3.1775\n",
            "Epoch 00058: val_loss did not improve from 3.69540\n",
            "5775/5775 [==============================] - 46s 8ms/step - loss: 3.1776 - val_loss: 3.7281\n",
            "Epoch 59/65\n",
            "5775/5775 [==============================] - ETA: 0s - loss: 3.1728\n",
            "Epoch 00059: val_loss did not improve from 3.69540\n",
            "5775/5775 [==============================] - 46s 8ms/step - loss: 3.1728 - val_loss: 3.7365\n",
            "Epoch 60/65\n",
            "5775/5775 [==============================] - ETA: 0s - loss: 3.1705\n",
            "Epoch 00060: val_loss did not improve from 3.69540\n",
            "5775/5775 [==============================] - 46s 8ms/step - loss: 3.1705 - val_loss: 3.7323\n",
            "Epoch 61/65\n",
            "5770/5775 [============================>.] - ETA: 0s - loss: 3.1688\n",
            "Epoch 00061: val_loss did not improve from 3.69540\n",
            "5775/5775 [==============================] - 46s 8ms/step - loss: 3.1690 - val_loss: 3.7426\n",
            "Epoch 62/65\n",
            "5770/5775 [============================>.] - ETA: 0s - loss: 3.1661\n",
            "Epoch 00062: val_loss did not improve from 3.69540\n",
            "5775/5775 [==============================] - 46s 8ms/step - loss: 3.1661 - val_loss: 3.7280\n",
            "Epoch 63/65\n",
            "5771/5775 [============================>.] - ETA: 0s - loss: 3.1639\n",
            "Epoch 00063: val_loss did not improve from 3.69540\n",
            "5775/5775 [==============================] - 46s 8ms/step - loss: 3.1640 - val_loss: 3.7508\n",
            "Epoch 64/65\n",
            "5771/5775 [============================>.] - ETA: 0s - loss: 3.1616\n",
            "Epoch 00064: val_loss did not improve from 3.69540\n",
            "5775/5775 [==============================] - 46s 8ms/step - loss: 3.1615 - val_loss: 3.7417\n",
            "Epoch 65/65\n",
            "5773/5775 [============================>.] - ETA: 0s - loss: 3.1581\n",
            "Epoch 00065: val_loss did not improve from 3.69540\n",
            "5775/5775 [==============================] - 46s 8ms/step - loss: 3.1580 - val_loss: 3.7431\n"
          ]
        }
      ]
    },
    {
      "cell_type": "code",
      "source": [
        "from keras.models import load_model\n",
        "model =load_model('best_model_6.h5')"
      ],
      "metadata": {
        "id": "YnGfWQHUX2uX"
      },
      "id": "YnGfWQHUX2uX",
      "execution_count": 27,
      "outputs": []
    },
    {
      "cell_type": "code",
      "source": [
        "import random\n",
        "ind =np.random.randint(0,len(x_val)-1)\n",
        "\n",
        "random_music = x_val[ind]\n",
        "\n",
        "predictions = []\n",
        "\n",
        "for i in range(50):\n",
        "  random_music = random_music.reshape(1,no_of_timesteps)\n",
        "\n",
        "  prob = model.predict(random_music)[0]\n",
        "\n",
        "  y_pred = np.argmax(prob, axis=0)\n",
        "  predictions.append(y_pred)\n",
        "\n",
        "  random_music=np.insert(random_music[0], len(random_music[0]),y_pred)\n",
        "  random_music = random_music[1:]\n",
        "\n",
        "print(predictions)"
      ],
      "metadata": {
        "colab": {
          "base_uri": "https://localhost:8080/"
        },
        "id": "tm_QLx6ZkygM",
        "outputId": "a6b7a2c5-1c63-4c0d-f208-c4157dd15bc8"
      },
      "id": "tm_QLx6ZkygM",
      "execution_count": 29,
      "outputs": [
        {
          "output_type": "stream",
          "name": "stdout",
          "text": [
            "[203, 203, 208, 208, 208, 208, 208, 208, 208, 208, 208, 191, 208, 191, 208, 191, 208, 191, 208, 191, 208, 191, 208, 191, 208, 191, 208, 191, 208, 191, 247, 191, 247, 191, 247, 191, 247, 191, 247, 191, 247, 191, 247, 191, 247, 191, 247, 191, 247, 191]\n"
          ]
        }
      ]
    },
    {
      "cell_type": "code",
      "source": [
        "x_int_to_note = dict((number, note_) for number, note_ in enumerate(unique_x))\n",
        "\n",
        "predicted_notes = [x_int_to_note[i] for i in predictions]"
      ],
      "metadata": {
        "id": "gMnSLgP6k1CG"
      },
      "id": "gMnSLgP6k1CG",
      "execution_count": 30,
      "outputs": []
    },
    {
      "cell_type": "code",
      "source": [
        "# convert preds to midi files\n",
        "def convert_to_midi(prediction_output):\n",
        "\n",
        "  offset = 0\n",
        "  output_notes = []\n",
        "\n",
        "  for pattern in prediction_output:\n",
        "\n",
        "    if ('.' in pattern) or pattern.isdigit():\n",
        "            notes_in_chord = pattern.split('.')\n",
        "            notes = []\n",
        "            for current_note in notes_in_chord:\n",
        "                \n",
        "                cn=int(current_note)\n",
        "                new_note = note.Note(cn)\n",
        "                new_note.storedInstrument = instrument.Piano()\n",
        "                notes.append(new_note)\n",
        "                \n",
        "            new_chord = chord.Chord(notes)\n",
        "            new_chord.offset = offset\n",
        "            output_notes.append(new_chord)\n",
        "            \n",
        "        # pattern is a note\n",
        "    else:    \n",
        "      new_note = note.Note(pattern)\n",
        "      new_note.offset = offset\n",
        "      new_note.storedInstrument = instrument.Piano()\n",
        "      output_notes.append(new_note)\n",
        "\n",
        "        # increase offset each iteration so that notes do not stack\n",
        "    offset += 1\n",
        "  midi_stream = stream.Stream(output_notes)\n",
        "  midi_stream.write('midi', fp='music.mid')"
      ],
      "metadata": {
        "id": "-NAZtm3lk833"
      },
      "id": "-NAZtm3lk833",
      "execution_count": 31,
      "outputs": []
    },
    {
      "cell_type": "code",
      "source": [
        "convert_to_midi(predicted_notes)"
      ],
      "metadata": {
        "id": "wbXNrfsvlHrC"
      },
      "id": "wbXNrfsvlHrC",
      "execution_count": 32,
      "outputs": []
    },
    {
      "cell_type": "code",
      "source": [
        "predicted_notes"
      ],
      "metadata": {
        "colab": {
          "base_uri": "https://localhost:8080/"
        },
        "id": "dIuHHoWzlLV8",
        "outputId": "92633f2b-ee7d-4bb0-88c3-d2178b954d35"
      },
      "id": "dIuHHoWzlLV8",
      "execution_count": 33,
      "outputs": [
        {
          "output_type": "execute_result",
          "data": {
            "text/plain": [
              "['10.3',\n",
              " '10.3',\n",
              " 'C#7',\n",
              " 'C#7',\n",
              " 'C#7',\n",
              " 'C#7',\n",
              " 'C#7',\n",
              " 'C#7',\n",
              " 'C#7',\n",
              " 'C#7',\n",
              " 'C#7',\n",
              " 'E-7',\n",
              " 'C#7',\n",
              " 'E-7',\n",
              " 'C#7',\n",
              " 'E-7',\n",
              " 'C#7',\n",
              " 'E-7',\n",
              " 'C#7',\n",
              " 'E-7',\n",
              " 'C#7',\n",
              " 'E-7',\n",
              " 'C#7',\n",
              " 'E-7',\n",
              " 'C#7',\n",
              " 'E-7',\n",
              " 'C#7',\n",
              " 'E-7',\n",
              " 'C#7',\n",
              " 'E-7',\n",
              " 'E7',\n",
              " 'E-7',\n",
              " 'E7',\n",
              " 'E-7',\n",
              " 'E7',\n",
              " 'E-7',\n",
              " 'E7',\n",
              " 'E-7',\n",
              " 'E7',\n",
              " 'E-7',\n",
              " 'E7',\n",
              " 'E-7',\n",
              " 'E7',\n",
              " 'E-7',\n",
              " 'E7',\n",
              " 'E-7',\n",
              " 'E7',\n",
              " 'E-7',\n",
              " 'E7',\n",
              " 'E-7']"
            ]
          },
          "metadata": {},
          "execution_count": 33
        }
      ]
    },
    {
      "cell_type": "code",
      "source": [
        "train_loss6=history6.history['loss']\n",
        "test_loss6= history6.history['val_loss']\n",
        "\n",
        "\n",
        "plt.figure(figsize=(12,8))\n",
        "plt.title('Training versus Testing loss(model_6)')\n",
        "plt.plot(train_loss6, label ='Training Loss', color = 'navy')\n",
        "plt.plot(test_loss6, label = 'Testing loss', color = 'goldenrod')\n",
        "plt.legend();\n",
        "plt.savefig('lstm_model_loss_plot(6).png')"
      ],
      "metadata": {
        "colab": {
          "base_uri": "https://localhost:8080/",
          "height": 498
        },
        "id": "5AjHJTtSlNLc",
        "outputId": "b3059bc4-14f1-4ef0-fe5a-e70f562414ca"
      },
      "id": "5AjHJTtSlNLc",
      "execution_count": 34,
      "outputs": [
        {
          "output_type": "display_data",
          "data": {
            "image/png": "[encoded data removed]",
            "text/plain": [
              "<Figure size 864x576 with 1 Axes>"
            ]
          },
          "metadata": {
            "image/png": {
              "width": 706,
              "height": 481
            },
            "needs_background": "light"
          }
        }
      ]
    },
    {
      "cell_type": "markdown",
      "source": [
        "Extremely underfit model, and the val_loss is the worst of all models at 3.73552."
      ],
      "metadata": {
        "id": "tN4HhZpZmP18"
      },
      "id": "tN4HhZpZmP18"
    },
    {
      "cell_type": "code",
      "source": [
        "model7 = Sequential()\n",
        "model7.add(LSTM(256, input_shape =(x_input.shape[1],x_input.shape[2]), return_sequences=True))\n",
        "model7.add(LSTM(128, return_sequences = False))\n",
        "model7.add(Dense(256, activation='relu'))\n",
        "model7.add(Dense(256, activation='relu'))\n",
        "model7.add(Dense(len(unique_y), activation = 'softmax'))\n",
        "model7.compile(loss='sparse_categorical_crossentropy', optimizer = 'adam')\n",
        "\n",
        "model7.summary()"
      ],
      "metadata": {
        "colab": {
          "base_uri": "https://localhost:8080/"
        },
        "id": "pRyqEXGamWYR",
        "outputId": "d03d86ff-4c46-46be-a29a-9850b4aa68a6"
      },
      "id": "pRyqEXGamWYR",
      "execution_count": 35,
      "outputs": [
        {
          "output_type": "stream",
          "name": "stdout",
          "text": [
            "Model: \"sequential_1\"\n",
            "_________________________________________________________________\n",
            " Layer (type)                Output Shape              Param #   \n",
            "=================================================================\n",
            " lstm_2 (LSTM)               (None, 32, 256)           264192    \n",
            "                                                                 \n",
            " lstm_3 (LSTM)               (None, 128)               197120    \n",
            "                                                                 \n",
            " dense_2 (Dense)             (None, 256)               33024     \n",
            "                                                                 \n",
            " dense_3 (Dense)             (None, 256)               65792     \n",
            "                                                                 \n",
            " dense_4 (Dense)             (None, 251)               64507     \n",
            "                                                                 \n",
            "=================================================================\n",
            "Total params: 624,635\n",
            "Trainable params: 624,635\n",
            "Non-trainable params: 0\n",
            "_________________________________________________________________\n"
          ]
        }
      ]
    },
    {
      "cell_type": "code",
      "source": [
        "mc7=ModelCheckpoint('best_model_7.h5', monitor = 'val_loss', mode = 'min',\n",
        "                   save_best_only=True, verbose =1)"
      ],
      "metadata": {
        "id": "mbImE6A9nKi2"
      },
      "id": "mbImE6A9nKi2",
      "execution_count": 36,
      "outputs": []
    },
    {
      "cell_type": "code",
      "source": [
        "history7=model7.fit(np.array(x_tr), np.array(y_tr), batch_size=64, \n",
        "                    epochs=60, validation_data=(np.array(x_val),\n",
        "                                                np.array(y_val)),verbose =1, callbacks=[mc7])\n"
      ],
      "metadata": {
        "colab": {
          "base_uri": "https://localhost:8080/"
        },
        "id": "IqV2hjlHmweZ",
        "outputId": "e8b1820a-0d69-4674-a958-202b5285a1c4"
      },
      "id": "IqV2hjlHmweZ",
      "execution_count": 37,
      "outputs": [
        {
          "output_type": "stream",
          "name": "stdout",
          "text": [
            "Epoch 1/60\n",
            "5774/5775 [============================>.] - ETA: 0s - loss: 4.4811\n",
            "Epoch 00001: val_loss improved from inf to 4.28573, saving model to best_model_7.h5\n",
            "5775/5775 [==============================] - 52s 9ms/step - loss: 4.4810 - val_loss: 4.2857\n",
            "Epoch 2/60\n",
            "5770/5775 [============================>.] - ETA: 0s - loss: 4.1470\n",
            "Epoch 00002: val_loss improved from 4.28573 to 4.08156, saving model to best_model_7.h5\n",
            "5775/5775 [==============================] - 49s 8ms/step - loss: 4.1469 - val_loss: 4.0816\n",
            "Epoch 3/60\n",
            "5772/5775 [============================>.] - ETA: 0s - loss: 3.9629\n",
            "Epoch 00003: val_loss improved from 4.08156 to 3.93797, saving model to best_model_7.h5\n",
            "5775/5775 [==============================] - 48s 8ms/step - loss: 3.9629 - val_loss: 3.9380\n",
            "Epoch 4/60\n",
            "5775/5775 [==============================] - ETA: 0s - loss: 3.8306\n",
            "Epoch 00004: val_loss improved from 3.93797 to 3.86490, saving model to best_model_7.h5\n",
            "5775/5775 [==============================] - 49s 8ms/step - loss: 3.8306 - val_loss: 3.8649\n",
            "Epoch 5/60\n",
            "5771/5775 [============================>.] - ETA: 0s - loss: 3.7229\n",
            "Epoch 00005: val_loss improved from 3.86490 to 3.78917, saving model to best_model_7.h5\n",
            "5775/5775 [==============================] - 48s 8ms/step - loss: 3.7230 - val_loss: 3.7892\n",
            "Epoch 6/60\n",
            "5771/5775 [============================>.] - ETA: 0s - loss: 3.6362\n",
            "Epoch 00006: val_loss improved from 3.78917 to 3.74446, saving model to best_model_7.h5\n",
            "5775/5775 [==============================] - 49s 8ms/step - loss: 3.6363 - val_loss: 3.7445\n",
            "Epoch 7/60\n",
            "5771/5775 [============================>.] - ETA: 0s - loss: 3.5588\n",
            "Epoch 00007: val_loss improved from 3.74446 to 3.72818, saving model to best_model_7.h5\n",
            "5775/5775 [==============================] - 49s 8ms/step - loss: 3.5588 - val_loss: 3.7282\n",
            "Epoch 8/60\n",
            "5775/5775 [==============================] - ETA: 0s - loss: 3.4929\n",
            "Epoch 00008: val_loss improved from 3.72818 to 3.68883, saving model to best_model_7.h5\n",
            "5775/5775 [==============================] - 49s 8ms/step - loss: 3.4929 - val_loss: 3.6888\n",
            "Epoch 9/60\n",
            "5775/5775 [==============================] - ETA: 0s - loss: 3.4331\n",
            "Epoch 00009: val_loss improved from 3.68883 to 3.67157, saving model to best_model_7.h5\n",
            "5775/5775 [==============================] - 49s 8ms/step - loss: 3.4331 - val_loss: 3.6716\n",
            "Epoch 10/60\n",
            "5770/5775 [============================>.] - ETA: 0s - loss: 3.3779\n",
            "Epoch 00010: val_loss improved from 3.67157 to 3.65814, saving model to best_model_7.h5\n",
            "5775/5775 [==============================] - 49s 8ms/step - loss: 3.3779 - val_loss: 3.6581\n",
            "Epoch 11/60\n",
            "5770/5775 [============================>.] - ETA: 0s - loss: 3.3281\n",
            "Epoch 00011: val_loss did not improve from 3.65814\n",
            "5775/5775 [==============================] - 49s 8ms/step - loss: 3.3281 - val_loss: 3.6593\n",
            "Epoch 12/60\n",
            "5769/5775 [============================>.] - ETA: 0s - loss: 3.2848\n",
            "Epoch 00012: val_loss improved from 3.65814 to 3.64198, saving model to best_model_7.h5\n",
            "5775/5775 [==============================] - 49s 8ms/step - loss: 3.2847 - val_loss: 3.6420\n",
            "Epoch 13/60\n",
            "5769/5775 [============================>.] - ETA: 0s - loss: 3.2424\n",
            "Epoch 00013: val_loss did not improve from 3.64198\n",
            "5775/5775 [==============================] - 48s 8ms/step - loss: 3.2425 - val_loss: 3.6446\n",
            "Epoch 14/60\n",
            "5772/5775 [============================>.] - ETA: 0s - loss: 3.2044\n",
            "Epoch 00014: val_loss improved from 3.64198 to 3.63629, saving model to best_model_7.h5\n",
            "5775/5775 [==============================] - 48s 8ms/step - loss: 3.2044 - val_loss: 3.6363\n",
            "Epoch 15/60\n",
            "5770/5775 [============================>.] - ETA: 0s - loss: 3.1712\n",
            "Epoch 00015: val_loss improved from 3.63629 to 3.63169, saving model to best_model_7.h5\n",
            "5775/5775 [==============================] - 48s 8ms/step - loss: 3.1711 - val_loss: 3.6317\n",
            "Epoch 16/60\n",
            "5769/5775 [============================>.] - ETA: 0s - loss: 3.1378\n",
            "Epoch 00016: val_loss did not improve from 3.63169\n",
            "5775/5775 [==============================] - 49s 8ms/step - loss: 3.1380 - val_loss: 3.6361\n",
            "Epoch 17/60\n",
            "5773/5775 [============================>.] - ETA: 0s - loss: 3.1107\n",
            "Epoch 00017: val_loss did not improve from 3.63169\n",
            "5775/5775 [==============================] - 50s 9ms/step - loss: 3.1108 - val_loss: 3.6334\n",
            "Epoch 18/60\n",
            "5770/5775 [============================>.] - ETA: 0s - loss: 3.0841\n",
            "Epoch 00018: val_loss improved from 3.63169 to 3.61182, saving model to best_model_7.h5\n",
            "5775/5775 [==============================] - 49s 8ms/step - loss: 3.0841 - val_loss: 3.6118\n",
            "Epoch 19/60\n",
            "5769/5775 [============================>.] - ETA: 0s - loss: 3.0578\n",
            "Epoch 00019: val_loss did not improve from 3.61182\n",
            "5775/5775 [==============================] - 49s 8ms/step - loss: 3.0580 - val_loss: 3.6204\n",
            "Epoch 20/60\n",
            "5774/5775 [============================>.] - ETA: 0s - loss: 3.0340\n",
            "Epoch 00020: val_loss did not improve from 3.61182\n",
            "5775/5775 [==============================] - 48s 8ms/step - loss: 3.0340 - val_loss: 3.6130\n",
            "Epoch 21/60\n",
            "5773/5775 [============================>.] - ETA: 0s - loss: 3.0104\n",
            "Epoch 00021: val_loss did not improve from 3.61182\n",
            "5775/5775 [==============================] - 49s 8ms/step - loss: 3.0105 - val_loss: 3.6506\n",
            "Epoch 22/60\n",
            "5775/5775 [==============================] - ETA: 0s - loss: 2.9906\n",
            "Epoch 00022: val_loss did not improve from 3.61182\n",
            "5775/5775 [==============================] - 48s 8ms/step - loss: 2.9906 - val_loss: 3.6402\n",
            "Epoch 23/60\n",
            "5775/5775 [==============================] - ETA: 0s - loss: 2.9708\n",
            "Epoch 00023: val_loss did not improve from 3.61182\n",
            "5775/5775 [==============================] - 48s 8ms/step - loss: 2.9708 - val_loss: 3.6771\n",
            "Epoch 24/60\n",
            "5772/5775 [============================>.] - ETA: 0s - loss: 2.9518\n",
            "Epoch 00024: val_loss did not improve from 3.61182\n",
            "5775/5775 [==============================] - 48s 8ms/step - loss: 2.9519 - val_loss: 3.6510\n",
            "Epoch 25/60\n",
            "5772/5775 [============================>.] - ETA: 0s - loss: 2.9338\n",
            "Epoch 00025: val_loss did not improve from 3.61182\n",
            "5775/5775 [==============================] - 48s 8ms/step - loss: 2.9339 - val_loss: 3.6382\n",
            "Epoch 26/60\n",
            "5769/5775 [============================>.] - ETA: 0s - loss: 2.9137\n",
            "Epoch 00026: val_loss did not improve from 3.61182\n",
            "5775/5775 [==============================] - 48s 8ms/step - loss: 2.9140 - val_loss: 3.6533\n",
            "Epoch 27/60\n",
            "5775/5775 [==============================] - ETA: 0s - loss: 2.8980\n",
            "Epoch 00027: val_loss did not improve from 3.61182\n",
            "5775/5775 [==============================] - 48s 8ms/step - loss: 2.8980 - val_loss: 3.6644\n",
            "Epoch 28/60\n",
            "5771/5775 [============================>.] - ETA: 0s - loss: 2.8843\n",
            "Epoch 00028: val_loss did not improve from 3.61182\n",
            "5775/5775 [==============================] - 48s 8ms/step - loss: 2.8843 - val_loss: 3.6696\n",
            "Epoch 29/60\n",
            "5770/5775 [============================>.] - ETA: 0s - loss: 2.8685\n",
            "Epoch 00029: val_loss did not improve from 3.61182\n",
            "5775/5775 [==============================] - 48s 8ms/step - loss: 2.8686 - val_loss: 3.6719\n",
            "Epoch 30/60\n",
            "5771/5775 [============================>.] - ETA: 0s - loss: 2.8567\n",
            "Epoch 00030: val_loss did not improve from 3.61182\n",
            "5775/5775 [==============================] - 48s 8ms/step - loss: 2.8567 - val_loss: 3.6675\n",
            "Epoch 31/60\n",
            "5769/5775 [============================>.] - ETA: 0s - loss: 2.8444\n",
            "Epoch 00031: val_loss did not improve from 3.61182\n",
            "5775/5775 [==============================] - 50s 9ms/step - loss: 2.8442 - val_loss: 3.6924\n",
            "Epoch 32/60\n",
            "5771/5775 [============================>.] - ETA: 0s - loss: 2.8304\n",
            "Epoch 00032: val_loss did not improve from 3.61182\n",
            "5775/5775 [==============================] - 50s 9ms/step - loss: 2.8303 - val_loss: 3.6812\n",
            "Epoch 33/60\n",
            "5774/5775 [============================>.] - ETA: 0s - loss: 2.8167\n",
            "Epoch 00033: val_loss did not improve from 3.61182\n",
            "5775/5775 [==============================] - 50s 9ms/step - loss: 2.8167 - val_loss: 3.6813\n",
            "Epoch 34/60\n",
            "5773/5775 [============================>.] - ETA: 0s - loss: 2.8062\n",
            "Epoch 00034: val_loss did not improve from 3.61182\n",
            "5775/5775 [==============================] - 50s 9ms/step - loss: 2.8062 - val_loss: 3.6947\n",
            "Epoch 35/60\n",
            "5774/5775 [============================>.] - ETA: 0s - loss: 2.7949\n",
            "Epoch 00035: val_loss did not improve from 3.61182\n",
            "5775/5775 [==============================] - 50s 9ms/step - loss: 2.7949 - val_loss: 3.6923\n",
            "Epoch 36/60\n",
            "5769/5775 [============================>.] - ETA: 0s - loss: 2.7822\n",
            "Epoch 00036: val_loss did not improve from 3.61182\n",
            "5775/5775 [==============================] - 50s 9ms/step - loss: 2.7823 - val_loss: 3.7363\n",
            "Epoch 37/60\n",
            "5775/5775 [==============================] - ETA: 0s - loss: 2.7750\n",
            "Epoch 00037: val_loss did not improve from 3.61182\n",
            "5775/5775 [==============================] - 50s 9ms/step - loss: 2.7750 - val_loss: 3.7062\n",
            "Epoch 38/60\n",
            "5773/5775 [============================>.] - ETA: 0s - loss: 2.7621\n",
            "Epoch 00038: val_loss did not improve from 3.61182\n",
            "5775/5775 [==============================] - 50s 9ms/step - loss: 2.7621 - val_loss: 3.6966\n",
            "Epoch 39/60\n",
            "5770/5775 [============================>.] - ETA: 0s - loss: 2.7526\n",
            "Epoch 00039: val_loss did not improve from 3.61182\n",
            "5775/5775 [==============================] - 50s 9ms/step - loss: 2.7524 - val_loss: 3.7018\n",
            "Epoch 40/60\n",
            "5772/5775 [============================>.] - ETA: 0s - loss: 2.7448\n",
            "Epoch 00040: val_loss did not improve from 3.61182\n",
            "5775/5775 [==============================] - 50s 9ms/step - loss: 2.7449 - val_loss: 3.7580\n",
            "Epoch 41/60\n",
            "5771/5775 [============================>.] - ETA: 0s - loss: 2.7384\n",
            "Epoch 00041: val_loss did not improve from 3.61182\n",
            "5775/5775 [==============================] - 50s 9ms/step - loss: 2.7384 - val_loss: 3.7629\n",
            "Epoch 42/60\n",
            "5772/5775 [============================>.] - ETA: 0s - loss: 2.7290\n",
            "Epoch 00042: val_loss did not improve from 3.61182\n",
            "5775/5775 [==============================] - 50s 9ms/step - loss: 2.7292 - val_loss: 3.7257\n",
            "Epoch 43/60\n",
            "5769/5775 [============================>.] - ETA: 0s - loss: 2.7210\n",
            "Epoch 00043: val_loss did not improve from 3.61182\n",
            "5775/5775 [==============================] - 50s 9ms/step - loss: 2.7210 - val_loss: 3.7485\n",
            "Epoch 44/60\n",
            "5772/5775 [============================>.] - ETA: 0s - loss: 2.7139\n",
            "Epoch 00044: val_loss did not improve from 3.61182\n",
            "5775/5775 [==============================] - 50s 9ms/step - loss: 2.7140 - val_loss: 3.7602\n",
            "Epoch 45/60\n",
            "5774/5775 [============================>.] - ETA: 0s - loss: 2.7038\n",
            "Epoch 00045: val_loss did not improve from 3.61182\n",
            "5775/5775 [==============================] - 50s 9ms/step - loss: 2.7038 - val_loss: 3.7592\n",
            "Epoch 46/60\n",
            "5773/5775 [============================>.] - ETA: 0s - loss: 2.6982\n",
            "Epoch 00046: val_loss did not improve from 3.61182\n",
            "5775/5775 [==============================] - 50s 9ms/step - loss: 2.6982 - val_loss: 3.7512\n",
            "Epoch 47/60\n",
            "5773/5775 [============================>.] - ETA: 0s - loss: 2.6902\n",
            "Epoch 00047: val_loss did not improve from 3.61182\n",
            "5775/5775 [==============================] - 50s 9ms/step - loss: 2.6902 - val_loss: 3.7856\n",
            "Epoch 48/60\n",
            "5772/5775 [============================>.] - ETA: 0s - loss: 2.6859\n",
            "Epoch 00048: val_loss did not improve from 3.61182\n",
            "5775/5775 [==============================] - 50s 9ms/step - loss: 2.6860 - val_loss: 3.7704\n",
            "Epoch 49/60\n",
            "5773/5775 [============================>.] - ETA: 0s - loss: 2.6791\n",
            "Epoch 00049: val_loss did not improve from 3.61182\n",
            "5775/5775 [==============================] - 51s 9ms/step - loss: 2.6792 - val_loss: 3.7533\n",
            "Epoch 50/60\n",
            "5775/5775 [==============================] - ETA: 0s - loss: 2.6728\n",
            "Epoch 00050: val_loss did not improve from 3.61182\n",
            "5775/5775 [==============================] - 50s 9ms/step - loss: 2.6728 - val_loss: 3.7902\n",
            "Epoch 51/60\n",
            "5773/5775 [============================>.] - ETA: 0s - loss: 2.6686\n",
            "Epoch 00051: val_loss did not improve from 3.61182\n",
            "5775/5775 [==============================] - 50s 9ms/step - loss: 2.6686 - val_loss: 3.7896\n",
            "Epoch 52/60\n",
            "5773/5775 [============================>.] - ETA: 0s - loss: 2.6634\n",
            "Epoch 00052: val_loss did not improve from 3.61182\n",
            "5775/5775 [==============================] - 50s 9ms/step - loss: 2.6635 - val_loss: 3.7911\n",
            "Epoch 53/60\n",
            "5773/5775 [============================>.] - ETA: 0s - loss: 2.6563\n",
            "Epoch 00053: val_loss did not improve from 3.61182\n",
            "5775/5775 [==============================] - 51s 9ms/step - loss: 2.6563 - val_loss: 3.7852\n",
            "Epoch 54/60\n",
            "5774/5775 [============================>.] - ETA: 0s - loss: 2.6539\n",
            "Epoch 00054: val_loss did not improve from 3.61182\n",
            "5775/5775 [==============================] - 51s 9ms/step - loss: 2.6539 - val_loss: 3.7978\n",
            "Epoch 55/60\n",
            "5772/5775 [============================>.] - ETA: 0s - loss: 2.6463\n",
            "Epoch 00055: val_loss did not improve from 3.61182\n",
            "5775/5775 [==============================] - 50s 9ms/step - loss: 2.6464 - val_loss: 3.7862\n",
            "Epoch 56/60\n",
            "5775/5775 [==============================] - ETA: 0s - loss: 2.6454\n",
            "Epoch 00056: val_loss did not improve from 3.61182\n",
            "5775/5775 [==============================] - 51s 9ms/step - loss: 2.6454 - val_loss: 3.8333\n",
            "Epoch 57/60\n",
            "5774/5775 [============================>.] - ETA: 0s - loss: 2.6402\n",
            "Epoch 00057: val_loss did not improve from 3.61182\n",
            "5775/5775 [==============================] - 50s 9ms/step - loss: 2.6403 - val_loss: 3.8738\n",
            "Epoch 58/60\n",
            "5773/5775 [============================>.] - ETA: 0s - loss: 2.6338\n",
            "Epoch 00058: val_loss did not improve from 3.61182\n",
            "5775/5775 [==============================] - 50s 9ms/step - loss: 2.6339 - val_loss: 3.8368\n",
            "Epoch 59/60\n",
            "5773/5775 [============================>.] - ETA: 0s - loss: 2.6274\n",
            "Epoch 00059: val_loss did not improve from 3.61182\n",
            "5775/5775 [==============================] - 50s 9ms/step - loss: 2.6275 - val_loss: 3.8376\n",
            "Epoch 60/60\n",
            "5772/5775 [============================>.] - ETA: 0s - loss: 2.6280\n",
            "Epoch 00060: val_loss did not improve from 3.61182\n",
            "5775/5775 [==============================] - 50s 9ms/step - loss: 2.6282 - val_loss: 3.8137\n"
          ]
        }
      ]
    },
    {
      "cell_type": "code",
      "source": [
        "\n",
        "model =load_model('best_model_7.h5')"
      ],
      "metadata": {
        "id": "3Lw5yzkUnSgQ"
      },
      "id": "3Lw5yzkUnSgQ",
      "execution_count": 38,
      "outputs": []
    },
    {
      "cell_type": "code",
      "source": [
        "import random\n",
        "ind =np.random.randint(0,len(x_val)-1)\n",
        "\n",
        "random_music = x_val[ind]\n",
        "\n",
        "predictions7 = []\n",
        "\n",
        "for i in range(50):\n",
        "  random_music = random_music.reshape(1,no_of_timesteps)\n",
        "\n",
        "  prob = model.predict(random_music)[0]\n",
        "\n",
        "  y_pred = np.argmax(prob, axis=0)\n",
        "  predictions7.append(y_pred)\n",
        "\n",
        "  random_music=np.insert(random_music[0], len(random_music[0]),y_pred)\n",
        "  random_music = random_music[1:]\n",
        "\n",
        "print(predictions7)"
      ],
      "metadata": {
        "colab": {
          "base_uri": "https://localhost:8080/"
        },
        "id": "0FFW0nl4zvee",
        "outputId": "f75de43c-3bdb-45e1-9a94-d662ca275f60"
      },
      "id": "0FFW0nl4zvee",
      "execution_count": 39,
      "outputs": [
        {
          "output_type": "stream",
          "name": "stdout",
          "text": [
            "[53, 77, 103, 53, 177, 249, 53, 180, 103, 103, 103, 180, 180, 69, 103, 180, 8, 35, 180, 87, 180, 180, 8, 35, 53, 8, 53, 173, 69, 8, 53, 173, 103, 23, 53, 202, 103, 23, 53, 202, 133, 69, 23, 173, 53, 113, 177, 103, 23, 177]\n"
          ]
        }
      ]
    },
    {
      "cell_type": "code",
      "source": [
        "predicted_notes7 = [x_int_to_note[i] for i in predictions7]"
      ],
      "metadata": {
        "id": "zUILf8bMz5EJ"
      },
      "id": "zUILf8bMz5EJ",
      "execution_count": 41,
      "outputs": []
    },
    {
      "cell_type": "code",
      "source": [
        "convert_to_midi(predicted_notes7)\n",
        "predicted_notes7"
      ],
      "metadata": {
        "colab": {
          "base_uri": "https://localhost:8080/"
        },
        "id": "hqNNNW9F0DKS",
        "outputId": "409762cb-322a-4bcf-ff60-179254319063"
      },
      "id": "hqNNNW9F0DKS",
      "execution_count": 42,
      "outputs": [
        {
          "output_type": "execute_result",
          "data": {
            "text/plain": [
              "['E4',\n",
              " 'E2',\n",
              " 'A3',\n",
              " 'E4',\n",
              " 'E3',\n",
              " 'B3',\n",
              " 'E4',\n",
              " 'E5',\n",
              " 'A3',\n",
              " 'A3',\n",
              " 'A3',\n",
              " 'E5',\n",
              " 'E5',\n",
              " 'A4',\n",
              " 'A3',\n",
              " 'E5',\n",
              " 'C#5',\n",
              " 'D5',\n",
              " 'E5',\n",
              " 'F#5',\n",
              " 'E5',\n",
              " 'E5',\n",
              " 'C#5',\n",
              " 'D5',\n",
              " 'E4',\n",
              " 'C#5',\n",
              " 'E4',\n",
              " 'B4',\n",
              " 'A4',\n",
              " 'C#5',\n",
              " 'E4',\n",
              " 'B4',\n",
              " 'A3',\n",
              " 'E-4',\n",
              " 'E4',\n",
              " '4.8.11',\n",
              " 'A3',\n",
              " 'E-4',\n",
              " 'E4',\n",
              " '4.8.11',\n",
              " 'G#3',\n",
              " 'A4',\n",
              " 'E-4',\n",
              " 'B4',\n",
              " 'E4',\n",
              " 'G#4',\n",
              " 'E3',\n",
              " 'A3',\n",
              " 'E-4',\n",
              " 'E3']"
            ]
          },
          "metadata": {},
          "execution_count": 42
        }
      ]
    },
    {
      "cell_type": "code",
      "source": [
        "train_loss7=history7.history['loss']\n",
        "test_loss7= history7.history['val_loss']\n",
        "\n",
        "\n",
        "plt.figure(figsize=(12,8))\n",
        "plt.title('Training versus Testing loss(model_7)')\n",
        "plt.plot(train_loss7, label ='Training Loss', color = 'crimson')\n",
        "plt.plot(test_loss7, label = 'Testing loss', color = 'navy')\n",
        "plt.legend();\n",
        "plt.savefig('lstm_7thmodel_loss_plot.png')"
      ],
      "metadata": {
        "colab": {
          "base_uri": "https://localhost:8080/",
          "height": 498
        },
        "id": "Jjqdvrz60afb",
        "outputId": "60a26c12-03f9-4bdf-c175-858c6cb4256f"
      },
      "id": "Jjqdvrz60afb",
      "execution_count": 43,
      "outputs": [
        {
          "output_type": "display_data",
          "data": {
            "image/png": "[encoded data removed]",
            "text/plain": [
              "<Figure size 864x576 with 1 Axes>"
            ]
          },
          "metadata": {
            "image/png": {
              "width": 713,
              "height": 481
            },
            "needs_background": "light"
          }
        }
      ]
    },
    {
      "cell_type": "code",
      "source": [
        "model8 = Sequential()\n",
        "model8.add(LSTM(512, input_shape =(x_input.shape[1],x_input.shape[2]), return_sequences=True))\n",
        "model8.add(LSTM(256, return_sequences = False))\n",
        "model8.add(Dense(512, activation='relu'))\n",
        "model8.add(Dense(256, activation='relu'))\n",
        "model8.add(Dense(128, activation='relu'))\n",
        "model8.add(Dense(len(unique_y), activation = 'softmax'))\n",
        "model8.compile(loss='sparse_categorical_crossentropy', optimizer = Adam(lr=.0009))\n",
        "model8.summary()"
      ],
      "metadata": {
        "colab": {
          "base_uri": "https://localhost:8080/"
        },
        "id": "TObNDBZB0_tW",
        "outputId": "a9a0b3c9-7b57-4791-bff2-4805725e7a66"
      },
      "id": "TObNDBZB0_tW",
      "execution_count": 45,
      "outputs": [
        {
          "output_type": "stream",
          "name": "stdout",
          "text": [
            "Model: \"sequential_3\"\n",
            "_________________________________________________________________\n",
            " Layer (type)                Output Shape              Param #   \n",
            "=================================================================\n",
            " lstm_6 (LSTM)               (None, 32, 512)           1052672   \n",
            "                                                                 \n",
            " lstm_7 (LSTM)               (None, 256)               787456    \n",
            "                                                                 \n",
            " dense_9 (Dense)             (None, 512)               131584    \n",
            "                                                                 \n",
            " dense_10 (Dense)            (None, 256)               131328    \n",
            "                                                                 \n",
            " dense_11 (Dense)            (None, 128)               32896     \n",
            "                                                                 \n",
            " dense_12 (Dense)            (None, 251)               32379     \n",
            "                                                                 \n",
            "=================================================================\n",
            "Total params: 2,168,315\n",
            "Trainable params: 2,168,315\n",
            "Non-trainable params: 0\n",
            "_________________________________________________________________\n"
          ]
        }
      ]
    },
    {
      "cell_type": "code",
      "source": [
        "mc8=ModelCheckpoint('best_model_8.h5', monitor = 'val_loss', mode = 'min',\n",
        "                   save_best_only=True, verbose =1)\n",
        "\n",
        "history8=model8.fit(np.array(x_tr), np.array(y_tr), batch_size=32, \n",
        "                    epochs=40, validation_data=(np.array(x_val),\n",
        "                                                np.array(y_val)),verbose =1, callbacks=[mc8])"
      ],
      "metadata": {
        "colab": {
          "base_uri": "https://localhost:8080/"
        },
        "id": "_BfYVyd21i1X",
        "outputId": "feaddac5-6d4b-46f7-dc87-c17be3d2cadd"
      },
      "id": "_BfYVyd21i1X",
      "execution_count": 46,
      "outputs": [
        {
          "output_type": "stream",
          "name": "stdout",
          "text": [
            "Epoch 1/40\n",
            "11544/11549 [============================>.] - ETA: 0s - loss: 4.5292\n",
            "Epoch 00001: val_loss improved from inf to 4.37897, saving model to best_model_8.h5\n",
            "11549/11549 [==============================] - 93s 8ms/step - loss: 4.5291 - val_loss: 4.3790\n",
            "Epoch 2/40\n",
            "11548/11549 [============================>.] - ETA: 0s - loss: 4.2723\n",
            "Epoch 00002: val_loss improved from 4.37897 to 4.18332, saving model to best_model_8.h5\n",
            "11549/11549 [==============================] - 90s 8ms/step - loss: 4.2723 - val_loss: 4.1833\n",
            "Epoch 3/40\n",
            "11547/11549 [============================>.] - ETA: 0s - loss: 4.0889\n",
            "Epoch 00003: val_loss improved from 4.18332 to 4.08539, saving model to best_model_8.h5\n",
            "11549/11549 [==============================] - 90s 8ms/step - loss: 4.0889 - val_loss: 4.0854\n",
            "Epoch 4/40\n",
            "11542/11549 [============================>.] - ETA: 0s - loss: 3.9696\n",
            "Epoch 00004: val_loss improved from 4.08539 to 3.96570, saving model to best_model_8.h5\n",
            "11549/11549 [==============================] - 90s 8ms/step - loss: 3.9695 - val_loss: 3.9657\n",
            "Epoch 5/40\n",
            "11549/11549 [==============================] - ETA: 0s - loss: 3.8760\n",
            "Epoch 00005: val_loss improved from 3.96570 to 3.92372, saving model to best_model_8.h5\n",
            "11549/11549 [==============================] - 90s 8ms/step - loss: 3.8760 - val_loss: 3.9237\n",
            "Epoch 6/40\n",
            "11543/11549 [============================>.] - ETA: 0s - loss: 3.7928\n",
            "Epoch 00006: val_loss improved from 3.92372 to 3.86266, saving model to best_model_8.h5\n",
            "11549/11549 [==============================] - 90s 8ms/step - loss: 3.7927 - val_loss: 3.8627\n",
            "Epoch 7/40\n",
            "11549/11549 [==============================] - ETA: 0s - loss: 3.7200\n",
            "Epoch 00007: val_loss improved from 3.86266 to 3.82341, saving model to best_model_8.h5\n",
            "11549/11549 [==============================] - 90s 8ms/step - loss: 3.7200 - val_loss: 3.8234\n",
            "Epoch 8/40\n",
            "11544/11549 [============================>.] - ETA: 0s - loss: 3.6528\n",
            "Epoch 00008: val_loss improved from 3.82341 to 3.79091, saving model to best_model_8.h5\n",
            "11549/11549 [==============================] - 90s 8ms/step - loss: 3.6530 - val_loss: 3.7909\n",
            "Epoch 9/40\n",
            "11546/11549 [============================>.] - ETA: 0s - loss: 3.5919\n",
            "Epoch 00009: val_loss improved from 3.79091 to 3.75539, saving model to best_model_8.h5\n",
            "11549/11549 [==============================] - 90s 8ms/step - loss: 3.5919 - val_loss: 3.7554\n",
            "Epoch 10/40\n",
            "11548/11549 [============================>.] - ETA: 0s - loss: 3.5392\n",
            "Epoch 00010: val_loss improved from 3.75539 to 3.74953, saving model to best_model_8.h5\n",
            "11549/11549 [==============================] - 90s 8ms/step - loss: 3.5392 - val_loss: 3.7495\n",
            "Epoch 11/40\n",
            "11549/11549 [==============================] - ETA: 0s - loss: 3.4853\n",
            "Epoch 00011: val_loss improved from 3.74953 to 3.73170, saving model to best_model_8.h5\n",
            "11549/11549 [==============================] - 89s 8ms/step - loss: 3.4853 - val_loss: 3.7317\n",
            "Epoch 12/40\n",
            "11547/11549 [============================>.] - ETA: 0s - loss: 3.4367\n",
            "Epoch 00012: val_loss improved from 3.73170 to 3.69914, saving model to best_model_8.h5\n",
            "11549/11549 [==============================] - 89s 8ms/step - loss: 3.4368 - val_loss: 3.6991\n",
            "Epoch 13/40\n",
            "11542/11549 [============================>.] - ETA: 0s - loss: 3.3949\n",
            "Epoch 00013: val_loss improved from 3.69914 to 3.69443, saving model to best_model_8.h5\n",
            "11549/11549 [==============================] - 89s 8ms/step - loss: 3.3949 - val_loss: 3.6944\n",
            "Epoch 14/40\n",
            "11544/11549 [============================>.] - ETA: 0s - loss: 3.3509\n",
            "Epoch 00014: val_loss did not improve from 3.69443\n",
            "11549/11549 [==============================] - 90s 8ms/step - loss: 3.3510 - val_loss: 3.7098\n",
            "Epoch 15/40\n",
            "11542/11549 [============================>.] - ETA: 0s - loss: 3.3198\n",
            "Epoch 00015: val_loss improved from 3.69443 to 3.69111, saving model to best_model_8.h5\n",
            "11549/11549 [==============================] - 89s 8ms/step - loss: 3.3200 - val_loss: 3.6911\n",
            "Epoch 16/40\n",
            "11544/11549 [============================>.] - ETA: 0s - loss: 3.2862\n",
            "Epoch 00016: val_loss improved from 3.69111 to 3.68037, saving model to best_model_8.h5\n",
            "11549/11549 [==============================] - 89s 8ms/step - loss: 3.2862 - val_loss: 3.6804\n",
            "Epoch 17/40\n",
            "11547/11549 [============================>.] - ETA: 0s - loss: 3.2587\n",
            "Epoch 00017: val_loss improved from 3.68037 to 3.64972, saving model to best_model_8.h5\n",
            "11549/11549 [==============================] - 89s 8ms/step - loss: 3.2587 - val_loss: 3.6497\n",
            "Epoch 18/40\n",
            "11548/11549 [============================>.] - ETA: 0s - loss: 3.2306\n",
            "Epoch 00018: val_loss did not improve from 3.64972\n",
            "11549/11549 [==============================] - 89s 8ms/step - loss: 3.2306 - val_loss: 3.6820\n",
            "Epoch 19/40\n",
            "11545/11549 [============================>.] - ETA: 0s - loss: 3.2033\n",
            "Epoch 00019: val_loss did not improve from 3.64972\n",
            "11549/11549 [==============================] - 89s 8ms/step - loss: 3.2032 - val_loss: 3.6513\n",
            "Epoch 20/40\n",
            "11543/11549 [============================>.] - ETA: 0s - loss: 3.1776\n",
            "Epoch 00020: val_loss did not improve from 3.64972\n",
            "11549/11549 [==============================] - 89s 8ms/step - loss: 3.1776 - val_loss: 3.6605\n",
            "Epoch 21/40\n",
            "11547/11549 [============================>.] - ETA: 0s - loss: 3.1555\n",
            "Epoch 00021: val_loss did not improve from 3.64972\n",
            "11549/11549 [==============================] - 89s 8ms/step - loss: 3.1555 - val_loss: 3.6761\n",
            "Epoch 22/40\n",
            "11545/11549 [============================>.] - ETA: 0s - loss: 3.1364\n",
            "Epoch 00022: val_loss did not improve from 3.64972\n",
            "11549/11549 [==============================] - 89s 8ms/step - loss: 3.1365 - val_loss: 3.6634\n",
            "Epoch 23/40\n",
            "11547/11549 [============================>.] - ETA: 0s - loss: 3.1158\n",
            "Epoch 00023: val_loss did not improve from 3.64972\n",
            "11549/11549 [==============================] - 89s 8ms/step - loss: 3.1159 - val_loss: 3.6824\n",
            "Epoch 24/40\n",
            "11546/11549 [============================>.] - ETA: 0s - loss: 3.0994\n",
            "Epoch 00024: val_loss did not improve from 3.64972\n",
            "11549/11549 [==============================] - 89s 8ms/step - loss: 3.0994 - val_loss: 3.6694\n",
            "Epoch 25/40\n",
            "11544/11549 [============================>.] - ETA: 0s - loss: 3.0816\n",
            "Epoch 00025: val_loss did not improve from 3.64972\n",
            "11549/11549 [==============================] - 89s 8ms/step - loss: 3.0816 - val_loss: 3.6966\n",
            "Epoch 26/40\n",
            "11548/11549 [============================>.] - ETA: 0s - loss: 3.0684\n",
            "Epoch 00026: val_loss did not improve from 3.64972\n",
            "11549/11549 [==============================] - 89s 8ms/step - loss: 3.0684 - val_loss: 3.6533\n",
            "Epoch 27/40\n",
            "11549/11549 [==============================] - ETA: 0s - loss: 3.0514\n",
            "Epoch 00027: val_loss did not improve from 3.64972\n",
            "11549/11549 [==============================] - 89s 8ms/step - loss: 3.0514 - val_loss: 3.6697\n",
            "Epoch 28/40\n",
            "11545/11549 [============================>.] - ETA: 0s - loss: 3.0352\n",
            "Epoch 00028: val_loss did not improve from 3.64972\n",
            "11549/11549 [==============================] - 90s 8ms/step - loss: 3.0352 - val_loss: 3.6575\n",
            "Epoch 29/40\n",
            "11547/11549 [============================>.] - ETA: 0s - loss: 3.0266\n",
            "Epoch 00029: val_loss did not improve from 3.64972\n",
            "11549/11549 [==============================] - 90s 8ms/step - loss: 3.0266 - val_loss: 3.7095\n",
            "Epoch 30/40\n",
            "11542/11549 [============================>.] - ETA: 0s - loss: 3.0139\n",
            "Epoch 00030: val_loss did not improve from 3.64972\n",
            "11549/11549 [==============================] - 90s 8ms/step - loss: 3.0138 - val_loss: 3.6498\n",
            "Epoch 31/40\n",
            "11543/11549 [============================>.] - ETA: 0s - loss: 3.0024\n",
            "Epoch 00031: val_loss did not improve from 3.64972\n",
            "11549/11549 [==============================] - 89s 8ms/step - loss: 3.0023 - val_loss: 3.6689\n",
            "Epoch 32/40\n",
            "11546/11549 [============================>.] - ETA: 0s - loss: 2.9909\n",
            "Epoch 00032: val_loss did not improve from 3.64972\n",
            "11549/11549 [==============================] - 89s 8ms/step - loss: 2.9909 - val_loss: 3.6962\n",
            "Epoch 33/40\n",
            "11548/11549 [============================>.] - ETA: 0s - loss: 2.9808\n",
            "Epoch 00033: val_loss did not improve from 3.64972\n",
            "11549/11549 [==============================] - 89s 8ms/step - loss: 2.9808 - val_loss: 3.7104\n",
            "Epoch 34/40\n",
            "11547/11549 [============================>.] - ETA: 0s - loss: 2.9720\n",
            "Epoch 00034: val_loss did not improve from 3.64972\n",
            "11549/11549 [==============================] - 89s 8ms/step - loss: 2.9719 - val_loss: 3.6692\n",
            "Epoch 35/40\n",
            "11546/11549 [============================>.] - ETA: 0s - loss: 2.9622\n",
            "Epoch 00035: val_loss did not improve from 3.64972\n",
            "11549/11549 [==============================] - 90s 8ms/step - loss: 2.9622 - val_loss: 3.6853\n",
            "Epoch 36/40\n",
            "11547/11549 [============================>.] - ETA: 0s - loss: 2.9521\n",
            "Epoch 00036: val_loss did not improve from 3.64972\n",
            "11549/11549 [==============================] - 89s 8ms/step - loss: 2.9521 - val_loss: 3.7134\n",
            "Epoch 37/40\n",
            "11549/11549 [==============================] - ETA: 0s - loss: 2.9469\n",
            "Epoch 00037: val_loss did not improve from 3.64972\n",
            "11549/11549 [==============================] - 89s 8ms/step - loss: 2.9469 - val_loss: 3.7075\n",
            "Epoch 38/40\n",
            "11543/11549 [============================>.] - ETA: 0s - loss: 2.9381\n",
            "Epoch 00038: val_loss did not improve from 3.64972\n",
            "11549/11549 [==============================] - 90s 8ms/step - loss: 2.9381 - val_loss: 3.7311\n",
            "Epoch 39/40\n",
            "11544/11549 [============================>.] - ETA: 0s - loss: 2.9313\n",
            "Epoch 00039: val_loss did not improve from 3.64972\n",
            "11549/11549 [==============================] - 90s 8ms/step - loss: 2.9313 - val_loss: 3.6941\n",
            "Epoch 40/40\n",
            "11549/11549 [==============================] - ETA: 0s - loss: 2.9226\n",
            "Epoch 00040: val_loss did not improve from 3.64972\n",
            "11549/11549 [==============================] - 90s 8ms/step - loss: 2.9226 - val_loss: 3.6854\n"
          ]
        }
      ]
    },
    {
      "cell_type": "code",
      "source": [
        "model8= load_model('best_model_8.h5')"
      ],
      "metadata": {
        "id": "fVXPk7hK17kx"
      },
      "id": "fVXPk7hK17kx",
      "execution_count": 47,
      "outputs": []
    },
    {
      "cell_type": "code",
      "source": [
        "ind =np.random.randint(0,len(x_val)-1)\n",
        "\n",
        "random_music = x_val[ind]\n",
        "\n",
        "predictions8 = []\n",
        "\n",
        "for i in range(45):\n",
        "  random_music = random_music.reshape(1,no_of_timesteps)\n",
        "\n",
        "  prob = model8.predict(random_music)[0]\n",
        "\n",
        "  y_pred = np.argmax(prob, axis=0)\n",
        "  predictions8.append(y_pred)\n",
        "\n",
        "  random_music=np.insert(random_music[0], len(random_music[0]),y_pred)\n",
        "  random_music = random_music[1:]\n",
        "\n",
        "print(predictions8)"
      ],
      "metadata": {
        "colab": {
          "base_uri": "https://localhost:8080/"
        },
        "id": "j_2XPo_EEJ_5",
        "outputId": "0936679b-cf03-4a2e-d0ae-35e14fecb5d3"
      },
      "id": "j_2XPo_EEJ_5",
      "execution_count": 49,
      "outputs": [
        {
          "output_type": "stream",
          "name": "stdout",
          "text": [
            "[74, 103, 80, 80, 0, 49, 75, 0, 49, 97, 74, 0, 86, 80, 23, 86, 86, 0, 74, 80, 74, 0, 74, 80, 80, 248, 80, 0, 44, 103, 74, 0, 86, 80, 31, 75, 31, 0, 86, 0, 248, 80, 0, 248, 75]\n"
          ]
        }
      ]
    },
    {
      "cell_type": "code",
      "source": [
        "predicted_notes8 = [x_int_to_note[i] for i in predictions8]\n",
        "convert_to_midi(predicted_notes8)\n",
        "predicted_notes8"
      ],
      "metadata": {
        "colab": {
          "base_uri": "https://localhost:8080/"
        },
        "id": "2rtvs-eVETmx",
        "outputId": "0d9a4a5f-ef93-463c-a00b-2bf7b8a71c3e"
      },
      "id": "2rtvs-eVETmx",
      "execution_count": 103,
      "outputs": [
        {
          "output_type": "execute_result",
          "data": {
            "text/plain": [
              "['D4',\n",
              " 'A3',\n",
              " 'F3',\n",
              " 'F3',\n",
              " 'D3',\n",
              " 'B-3',\n",
              " 'E-3',\n",
              " 'D3',\n",
              " 'B-3',\n",
              " 'B-2',\n",
              " 'D4',\n",
              " 'D3',\n",
              " 'F4',\n",
              " 'F3',\n",
              " 'E-4',\n",
              " 'F4',\n",
              " 'F4',\n",
              " 'D3',\n",
              " 'D4',\n",
              " 'F3',\n",
              " 'D4',\n",
              " 'D3',\n",
              " 'D4',\n",
              " 'F3',\n",
              " 'F3',\n",
              " 'B-4',\n",
              " 'F3',\n",
              " 'D3',\n",
              " 'C4',\n",
              " 'A3',\n",
              " 'D4',\n",
              " 'D3',\n",
              " 'F4',\n",
              " 'F3',\n",
              " 'G4',\n",
              " 'E-3',\n",
              " 'G4',\n",
              " 'D3',\n",
              " 'F4',\n",
              " 'D3',\n",
              " 'B-4',\n",
              " 'F3',\n",
              " 'D3',\n",
              " 'B-4',\n",
              " 'E-3']"
            ]
          },
          "metadata": {},
          "execution_count": 103
        }
      ]
    },
    {
      "cell_type": "code",
      "source": [
        "train_loss8=history8.history['loss']\n",
        "test_loss8= history8.history['val_loss']\n",
        "\n",
        "\n",
        "plt.figure(figsize=(12,8))\n",
        "plt.title('Training versus Testing loss(LSTM-model8)')\n",
        "plt.plot(train_loss8, label ='Training Loss', color = 'orange')\n",
        "plt.plot(test_loss8, label = 'Testing loss', color = 'blue')\n",
        "plt.legend();\n",
        "plt.savefig('8thmodel_loss_plot.png')"
      ],
      "metadata": {
        "colab": {
          "base_uri": "https://localhost:8080/",
          "height": 498
        },
        "id": "Jq1GvVWvElVq",
        "outputId": "01e6cb82-839f-4e3b-f00e-3df003c74b1a"
      },
      "id": "Jq1GvVWvElVq",
      "execution_count": 51,
      "outputs": [
        {
          "output_type": "display_data",
          "data": {
            "image/png": "[encoded data removed]",
            "text/plain": [
              "<Figure size 864x576 with 1 Axes>"
            ]
          },
          "metadata": {
            "image/png": {
              "width": 706,
              "height": 481
            },
            "needs_background": "light"
          }
        }
      ]
    },
    {
      "cell_type": "code",
      "source": [
        "model9 = Sequential()\n",
        "model9.add(LSTM(512, input_shape =(x_input.shape[1],x_input.shape[2]), return_sequences=True))\n",
        "model9.add(Dropout(0.25))\n",
        "model9.add(LSTM(256, return_sequences = False))\n",
        "model9.add(Dropout(0.25))\n",
        "model9.add(Dense(512, activation='relu'))\n",
        "model9.add(Dropout(0.25))\n",
        "model9.add(Dense(256, activation='relu'))\n",
        "model9.add(Dropout(0.25))\n",
        "model9.add(Dense(128, activation='relu'))\n",
        "model9.add(Dropout(0.25))\n",
        "model9.add(Dense(len(unique_y), activation = 'softmax'))\n",
        "model9.compile(loss='sparse_categorical_crossentropy', optimizer = Adam(lr=.002))\n",
        "model9.summary()"
      ],
      "metadata": {
        "colab": {
          "base_uri": "https://localhost:8080/"
        },
        "id": "lnfrNk00E1H6",
        "outputId": "95aa8402-c522-46b4-82ae-94687558e119"
      },
      "id": "lnfrNk00E1H6",
      "execution_count": 52,
      "outputs": [
        {
          "output_type": "stream",
          "name": "stdout",
          "text": [
            "Model: \"sequential_4\"\n",
            "_________________________________________________________________\n",
            " Layer (type)                Output Shape              Param #   \n",
            "=================================================================\n",
            " lstm_8 (LSTM)               (None, 32, 512)           1052672   \n",
            "                                                                 \n",
            " dropout (Dropout)           (None, 32, 512)           0         \n",
            "                                                                 \n",
            " lstm_9 (LSTM)               (None, 256)               787456    \n",
            "                                                                 \n",
            " dropout_1 (Dropout)         (None, 256)               0         \n",
            "                                                                 \n",
            " dense_13 (Dense)            (None, 512)               131584    \n",
            "                                                                 \n",
            " dropout_2 (Dropout)         (None, 512)               0         \n",
            "                                                                 \n",
            " dense_14 (Dense)            (None, 256)               131328    \n",
            "                                                                 \n",
            " dropout_3 (Dropout)         (None, 256)               0         \n",
            "                                                                 \n",
            " dense_15 (Dense)            (None, 128)               32896     \n",
            "                                                                 \n",
            " dropout_4 (Dropout)         (None, 128)               0         \n",
            "                                                                 \n",
            " dense_16 (Dense)            (None, 251)               32379     \n",
            "                                                                 \n",
            "=================================================================\n",
            "Total params: 2,168,315\n",
            "Trainable params: 2,168,315\n",
            "Non-trainable params: 0\n",
            "_________________________________________________________________\n"
          ]
        }
      ]
    },
    {
      "cell_type": "code",
      "source": [
        "mc9=ModelCheckpoint('best_model_9.h5', monitor = 'val_loss', mode = 'min',\n",
        "                   save_best_only=True, verbose =1)\n",
        "\n",
        "history9=model9.fit(np.array(x_tr), np.array(y_tr), batch_size=48, \n",
        "                    epochs=40, validation_data=(np.array(x_val),\n",
        "                                                np.array(y_val)),verbose =1, callbacks=[mc9])"
      ],
      "metadata": {
        "colab": {
          "base_uri": "https://localhost:8080/"
        },
        "id": "gKQxCYzCFjjn",
        "outputId": "58d70a98-25a4-4be7-98fa-24aa5bdb6d0b"
      },
      "id": "gKQxCYzCFjjn",
      "execution_count": 53,
      "outputs": [
        {
          "output_type": "stream",
          "name": "stdout",
          "text": [
            "Epoch 1/40\n",
            "7699/7700 [============================>.] - ETA: 0s - loss: 4.6588\n",
            "Epoch 00001: val_loss improved from inf to 4.59505, saving model to best_model_9.h5\n",
            "7700/7700 [==============================] - 76s 10ms/step - loss: 4.6588 - val_loss: 4.5950\n",
            "Epoch 2/40\n",
            "7699/7700 [============================>.] - ETA: 0s - loss: 4.5835\n",
            "Epoch 00002: val_loss improved from 4.59505 to 4.51716, saving model to best_model_9.h5\n",
            "7700/7700 [==============================] - 73s 9ms/step - loss: 4.5835 - val_loss: 4.5172\n",
            "Epoch 3/40\n",
            "7698/7700 [============================>.] - ETA: 0s - loss: 4.5526\n",
            "Epoch 00003: val_loss improved from 4.51716 to 4.49486, saving model to best_model_9.h5\n",
            "7700/7700 [==============================] - 72s 9ms/step - loss: 4.5525 - val_loss: 4.4949\n",
            "Epoch 4/40\n",
            "7699/7700 [============================>.] - ETA: 0s - loss: 4.5396\n",
            "Epoch 00004: val_loss improved from 4.49486 to 4.48162, saving model to best_model_9.h5\n",
            "7700/7700 [==============================] - 72s 9ms/step - loss: 4.5396 - val_loss: 4.4816\n",
            "Epoch 5/40\n",
            "7697/7700 [============================>.] - ETA: 0s - loss: 4.5340\n",
            "Epoch 00005: val_loss did not improve from 4.48162\n",
            "7700/7700 [==============================] - 72s 9ms/step - loss: 4.5341 - val_loss: 4.4833\n",
            "Epoch 6/40\n",
            "7699/7700 [============================>.] - ETA: 0s - loss: 4.5304\n",
            "Epoch 00006: val_loss did not improve from 4.48162\n",
            "7700/7700 [==============================] - 72s 9ms/step - loss: 4.5304 - val_loss: 4.4972\n",
            "Epoch 7/40\n",
            "7700/7700 [==============================] - ETA: 0s - loss: 4.5332\n",
            "Epoch 00007: val_loss did not improve from 4.48162\n",
            "7700/7700 [==============================] - 72s 9ms/step - loss: 4.5332 - val_loss: 4.4841\n",
            "Epoch 8/40\n",
            "7698/7700 [============================>.] - ETA: 0s - loss: 4.5322\n",
            "Epoch 00008: val_loss did not improve from 4.48162\n",
            "7700/7700 [==============================] - 72s 9ms/step - loss: 4.5322 - val_loss: 4.4921\n",
            "Epoch 9/40\n",
            "7698/7700 [============================>.] - ETA: 0s - loss: 4.5349\n",
            "Epoch 00009: val_loss did not improve from 4.48162\n",
            "7700/7700 [==============================] - 72s 9ms/step - loss: 4.5349 - val_loss: 4.4987\n",
            "Epoch 10/40\n",
            "7695/7700 [============================>.] - ETA: 0s - loss: 4.5322\n",
            "Epoch 00010: val_loss did not improve from 4.48162\n",
            "7700/7700 [==============================] - 72s 9ms/step - loss: 4.5323 - val_loss: 4.4826\n",
            "Epoch 11/40\n",
            "7694/7700 [============================>.] - ETA: 0s - loss: 4.5433\n",
            "Epoch 00011: val_loss did not improve from 4.48162\n",
            "7700/7700 [==============================] - 72s 9ms/step - loss: 4.5433 - val_loss: 4.4883\n",
            "Epoch 12/40\n",
            "7698/7700 [============================>.] - ETA: 0s - loss: 4.5429\n",
            "Epoch 00012: val_loss did not improve from 4.48162\n",
            "7700/7700 [==============================] - 72s 9ms/step - loss: 4.5429 - val_loss: 4.4925\n",
            "Epoch 13/40\n",
            "7700/7700 [==============================] - ETA: 0s - loss: 4.5533\n",
            "Epoch 00013: val_loss did not improve from 4.48162\n",
            "7700/7700 [==============================] - 72s 9ms/step - loss: 4.5533 - val_loss: 4.5193\n",
            "Epoch 14/40\n",
            "7696/7700 [============================>.] - ETA: 0s - loss: 4.5618\n",
            "Epoch 00014: val_loss did not improve from 4.48162\n",
            "7700/7700 [==============================] - 72s 9ms/step - loss: 4.5618 - val_loss: 4.5197\n",
            "Epoch 15/40\n",
            "7695/7700 [============================>.] - ETA: 0s - loss: 4.5712\n",
            "Epoch 00015: val_loss did not improve from 4.48162\n",
            "7700/7700 [==============================] - 72s 9ms/step - loss: 4.5713 - val_loss: 4.5321\n",
            "Epoch 16/40\n",
            "7698/7700 [============================>.] - ETA: 0s - loss: 4.5734\n",
            "Epoch 00016: val_loss did not improve from 4.48162\n",
            "7700/7700 [==============================] - 72s 9ms/step - loss: 4.5734 - val_loss: 4.5187\n",
            "Epoch 17/40\n",
            "7700/7700 [==============================] - ETA: 0s - loss: 4.5773\n",
            "Epoch 00017: val_loss did not improve from 4.48162\n",
            "7700/7700 [==============================] - 72s 9ms/step - loss: 4.5773 - val_loss: 4.5624\n",
            "Epoch 18/40\n",
            "7700/7700 [==============================] - ETA: 0s - loss: 4.5907\n",
            "Epoch 00018: val_loss did not improve from 4.48162\n",
            "7700/7700 [==============================] - 72s 9ms/step - loss: 4.5907 - val_loss: 4.5350\n",
            "Epoch 19/40\n",
            "7696/7700 [============================>.] - ETA: 0s - loss: 4.6017\n",
            "Epoch 00019: val_loss did not improve from 4.48162\n",
            "7700/7700 [==============================] - 72s 9ms/step - loss: 4.6017 - val_loss: 4.5682\n",
            "Epoch 20/40\n",
            "7695/7700 [============================>.] - ETA: 0s - loss: 4.5958\n",
            "Epoch 00020: val_loss did not improve from 4.48162\n",
            "7700/7700 [==============================] - 72s 9ms/step - loss: 4.5957 - val_loss: 4.5641\n",
            "Epoch 21/40\n",
            "7695/7700 [============================>.] - ETA: 0s - loss: 4.6093\n",
            "Epoch 00021: val_loss did not improve from 4.48162\n",
            "7700/7700 [==============================] - 72s 9ms/step - loss: 4.6093 - val_loss: 4.5782\n",
            "Epoch 22/40\n",
            "7699/7700 [============================>.] - ETA: 0s - loss: 4.6048\n",
            "Epoch 00022: val_loss did not improve from 4.48162\n",
            "7700/7700 [==============================] - 72s 9ms/step - loss: 4.6049 - val_loss: 4.5833\n",
            "Epoch 23/40\n",
            "7697/7700 [============================>.] - ETA: 0s - loss: 4.6049\n",
            "Epoch 00023: val_loss did not improve from 4.48162\n",
            "7700/7700 [==============================] - 72s 9ms/step - loss: 4.6049 - val_loss: 4.5660\n",
            "Epoch 24/40\n",
            "7698/7700 [============================>.] - ETA: 0s - loss: 4.6179\n",
            "Epoch 00024: val_loss did not improve from 4.48162\n",
            "7700/7700 [==============================] - 72s 9ms/step - loss: 4.6179 - val_loss: 4.5798\n",
            "Epoch 25/40\n",
            "7695/7700 [============================>.] - ETA: 0s - loss: 4.6156\n",
            "Epoch 00025: val_loss did not improve from 4.48162\n",
            "7700/7700 [==============================] - 72s 9ms/step - loss: 4.6157 - val_loss: 4.5825\n",
            "Epoch 26/40\n",
            "7696/7700 [============================>.] - ETA: 0s - loss: 4.6338\n",
            "Epoch 00026: val_loss did not improve from 4.48162\n",
            "7700/7700 [==============================] - 72s 9ms/step - loss: 4.6338 - val_loss: 4.6062\n",
            "Epoch 27/40\n",
            "7696/7700 [============================>.] - ETA: 0s - loss: 4.6244\n",
            "Epoch 00027: val_loss did not improve from 4.48162\n",
            "7700/7700 [==============================] - 72s 9ms/step - loss: 4.6244 - val_loss: 4.5758\n",
            "Epoch 28/40\n",
            "7696/7700 [============================>.] - ETA: 0s - loss: 4.6352\n",
            "Epoch 00028: val_loss did not improve from 4.48162\n",
            "7700/7700 [==============================] - 72s 9ms/step - loss: 4.6352 - val_loss: 4.6047\n",
            "Epoch 29/40\n",
            "7694/7700 [============================>.] - ETA: 0s - loss: 4.6382\n",
            "Epoch 00029: val_loss did not improve from 4.48162\n",
            "7700/7700 [==============================] - 72s 9ms/step - loss: 4.6383 - val_loss: 4.6116\n",
            "Epoch 30/40\n",
            "7694/7700 [============================>.] - ETA: 0s - loss: 4.6428\n",
            "Epoch 00030: val_loss did not improve from 4.48162\n",
            "7700/7700 [==============================] - 72s 9ms/step - loss: 4.6427 - val_loss: 4.6231\n",
            "Epoch 31/40\n",
            "7695/7700 [============================>.] - ETA: 0s - loss: 4.6530\n",
            "Epoch 00031: val_loss did not improve from 4.48162\n",
            "7700/7700 [==============================] - 72s 9ms/step - loss: 4.6530 - val_loss: 4.5971\n",
            "Epoch 32/40\n",
            "7700/7700 [==============================] - ETA: 0s - loss: 4.6467\n",
            "Epoch 00032: val_loss did not improve from 4.48162\n",
            "7700/7700 [==============================] - 72s 9ms/step - loss: 4.6467 - val_loss: 4.6078\n",
            "Epoch 33/40\n",
            "7697/7700 [============================>.] - ETA: 0s - loss: 4.6425\n",
            "Epoch 00033: val_loss did not improve from 4.48162\n",
            "7700/7700 [==============================] - 72s 9ms/step - loss: 4.6425 - val_loss: 4.5952\n",
            "Epoch 34/40\n",
            "7700/7700 [==============================] - ETA: 0s - loss: 4.6397\n",
            "Epoch 00034: val_loss did not improve from 4.48162\n",
            "7700/7700 [==============================] - 72s 9ms/step - loss: 4.6397 - val_loss: 4.6032\n",
            "Epoch 35/40\n",
            "7699/7700 [============================>.] - ETA: 0s - loss: 4.6408\n",
            "Epoch 00035: val_loss did not improve from 4.48162\n",
            "7700/7700 [==============================] - 72s 9ms/step - loss: 4.6407 - val_loss: 4.6145\n",
            "Epoch 36/40\n",
            "7695/7700 [============================>.] - ETA: 0s - loss: 4.6420\n",
            "Epoch 00036: val_loss did not improve from 4.48162\n",
            "7700/7700 [==============================] - 72s 9ms/step - loss: 4.6419 - val_loss: 4.5871\n",
            "Epoch 37/40\n",
            "7694/7700 [============================>.] - ETA: 0s - loss: 4.6424\n",
            "Epoch 00037: val_loss did not improve from 4.48162\n",
            "7700/7700 [==============================] - 72s 9ms/step - loss: 4.6425 - val_loss: 4.6058\n",
            "Epoch 38/40\n",
            "7696/7700 [============================>.] - ETA: 0s - loss: 4.6381\n",
            "Epoch 00038: val_loss did not improve from 4.48162\n",
            "7700/7700 [==============================] - 72s 9ms/step - loss: 4.6381 - val_loss: 4.6016\n",
            "Epoch 39/40\n",
            "7698/7700 [============================>.] - ETA: 0s - loss: 4.6409\n",
            "Epoch 00039: val_loss did not improve from 4.48162\n",
            "7700/7700 [==============================] - 72s 9ms/step - loss: 4.6409 - val_loss: 4.6175\n",
            "Epoch 40/40\n",
            "7695/7700 [============================>.] - ETA: 0s - loss: 4.6491\n",
            "Epoch 00040: val_loss did not improve from 4.48162\n",
            "7700/7700 [==============================] - 72s 9ms/step - loss: 4.6491 - val_loss: 4.6698\n"
          ]
        }
      ]
    },
    {
      "cell_type": "code",
      "source": [
        "model9= load_model('best_model_9.h5')"
      ],
      "metadata": {
        "id": "L4kj9ywRGJ8G"
      },
      "id": "L4kj9ywRGJ8G",
      "execution_count": 54,
      "outputs": []
    },
    {
      "cell_type": "code",
      "source": [
        "ind =np.random.randint(0,len(x_val)-1)\n",
        "\n",
        "random_music = x_val[ind]\n",
        "\n",
        "predictions9 = []\n",
        "\n",
        "for i in range(100):\n",
        "  random_music = random_music.reshape(1,no_of_timesteps)\n",
        "\n",
        "  prob = model9.predict(random_music)[0]\n",
        "\n",
        "  y_pred = np.argmax(prob, axis=0)\n",
        "  predictions9.append(y_pred)\n",
        "\n",
        "  random_music=np.insert(random_music[0], len(random_music[0]),y_pred)\n",
        "  random_music = random_music[1:]\n",
        "\n",
        "print(predictions9)"
      ],
      "metadata": {
        "colab": {
          "base_uri": "https://localhost:8080/"
        },
        "id": "eRFKejvCW1-E",
        "outputId": "a7856434-b582-4bbb-dd33-b3fe39130934"
      },
      "id": "eRFKejvCW1-E",
      "execution_count": 68,
      "outputs": [
        {
          "output_type": "stream",
          "name": "stdout",
          "text": [
            "[21, 21, 156, 21, 21, 156, 21, 21, 156, 21, 21, 21, 156, 21, 21, 21, 156, 21, 21, 21, 21, 21, 21, 21, 21, 21, 21, 21, 156, 21, 156, 21, 21, 21, 21, 21, 156, 21, 21, 21, 21, 21, 156, 21, 156, 21, 21, 21, 21, 21, 156, 21, 21, 21, 21, 21, 21, 21, 21, 156, 21, 156, 21, 21, 21, 21, 21, 156, 21, 21, 21, 21, 21, 156, 21, 21, 21, 21, 21, 156, 21, 21, 21, 21, 21, 156, 21, 21, 21, 21, 21, 156, 21, 156, 21, 21, 21, 21, 21, 156]\n"
          ]
        }
      ]
    },
    {
      "cell_type": "code",
      "source": [
        "predicted_notes9 = [x_int_to_note[i] for i in predictions9]\n",
        "convert_to_midi(predicted_notes9)\n",
        "predicted_notes9"
      ],
      "metadata": {
        "colab": {
          "base_uri": "https://localhost:8080/"
        },
        "id": "M4IfvHWrYfhv",
        "outputId": "2afdc426-e8ce-4dfe-f493-2adec37227bd"
      },
      "id": "M4IfvHWrYfhv",
      "execution_count": 69,
      "outputs": [
        {
          "output_type": "execute_result",
          "data": {
            "text/plain": [
              "['G5',\n",
              " 'G5',\n",
              " 'C5',\n",
              " 'G5',\n",
              " 'G5',\n",
              " 'C5',\n",
              " 'G5',\n",
              " 'G5',\n",
              " 'C5',\n",
              " 'G5',\n",
              " 'G5',\n",
              " 'G5',\n",
              " 'C5',\n",
              " 'G5',\n",
              " 'G5',\n",
              " 'G5',\n",
              " 'C5',\n",
              " 'G5',\n",
              " 'G5',\n",
              " 'G5',\n",
              " 'G5',\n",
              " 'G5',\n",
              " 'G5',\n",
              " 'G5',\n",
              " 'G5',\n",
              " 'G5',\n",
              " 'G5',\n",
              " 'G5',\n",
              " 'C5',\n",
              " 'G5',\n",
              " 'C5',\n",
              " 'G5',\n",
              " 'G5',\n",
              " 'G5',\n",
              " 'G5',\n",
              " 'G5',\n",
              " 'C5',\n",
              " 'G5',\n",
              " 'G5',\n",
              " 'G5',\n",
              " 'G5',\n",
              " 'G5',\n",
              " 'C5',\n",
              " 'G5',\n",
              " 'C5',\n",
              " 'G5',\n",
              " 'G5',\n",
              " 'G5',\n",
              " 'G5',\n",
              " 'G5',\n",
              " 'C5',\n",
              " 'G5',\n",
              " 'G5',\n",
              " 'G5',\n",
              " 'G5',\n",
              " 'G5',\n",
              " 'G5',\n",
              " 'G5',\n",
              " 'G5',\n",
              " 'C5',\n",
              " 'G5',\n",
              " 'C5',\n",
              " 'G5',\n",
              " 'G5',\n",
              " 'G5',\n",
              " 'G5',\n",
              " 'G5',\n",
              " 'C5',\n",
              " 'G5',\n",
              " 'G5',\n",
              " 'G5',\n",
              " 'G5',\n",
              " 'G5',\n",
              " 'C5',\n",
              " 'G5',\n",
              " 'G5',\n",
              " 'G5',\n",
              " 'G5',\n",
              " 'G5',\n",
              " 'C5',\n",
              " 'G5',\n",
              " 'G5',\n",
              " 'G5',\n",
              " 'G5',\n",
              " 'G5',\n",
              " 'C5',\n",
              " 'G5',\n",
              " 'G5',\n",
              " 'G5',\n",
              " 'G5',\n",
              " 'G5',\n",
              " 'C5',\n",
              " 'G5',\n",
              " 'C5',\n",
              " 'G5',\n",
              " 'G5',\n",
              " 'G5',\n",
              " 'G5',\n",
              " 'G5',\n",
              " 'C5']"
            ]
          },
          "metadata": {},
          "execution_count": 69
        }
      ]
    },
    {
      "cell_type": "code",
      "source": [
        "train_loss9=history9.history['loss']\n",
        "test_loss9= history9.history['val_loss']\n",
        "\n",
        "\n",
        "plt.figure(figsize=(12,8))\n",
        "plt.title('Training versus Testing loss(LSTM-model9)')\n",
        "plt.plot(train_loss9, label ='Training Loss', color = 'orange')\n",
        "plt.plot(test_loss9, label = 'Testing loss', color = 'blue')\n",
        "plt.legend();\n",
        "plt.savefig('9thmodel_loss_plot.png')"
      ],
      "metadata": {
        "colab": {
          "base_uri": "https://localhost:8080/",
          "height": 498
        },
        "id": "JTerF3eYZ-s4",
        "outputId": "e2d6b31c-9b04-4f98-db4d-15f617377988"
      },
      "id": "JTerF3eYZ-s4",
      "execution_count": 70,
      "outputs": [
        {
          "output_type": "display_data",
          "data": {
            "image/png": "[encoded data removed]",
            "text/plain": [
              "<Figure size 864x576 with 1 Axes>"
            ]
          },
          "metadata": {
            "image/png": {
              "width": 719,
              "height": 481
            },
            "needs_background": "light"
          }
        }
      ]
    },
    {
      "cell_type": "code",
      "source": [
        "model10 = Sequential()\n",
        "model10.add(LSTM(512, input_shape =(x_input.shape[1],x_input.shape[2]), return_sequences=True))\n",
        "model10.add(Dropout(0.05))\n",
        "model10.add(LSTM(256, return_sequences = False))\n",
        "model10.add(Dropout(0.05))\n",
        "model10.add(Dense(512, activation='relu'))\n",
        "model10.add(Dropout(0.05))\n",
        "model10.add(Dense(256, activation='relu'))\n",
        "model10.add(Dropout(0.05))\n",
        "model10.add(Dense(128, activation='relu'))\n",
        "model10.add(Dropout(0.05))\n",
        "model10.add(Dense(len(unique_y), activation = 'softmax'))\n",
        "model10.compile(loss='sparse_categorical_crossentropy', optimizer = Adam(lr=.005))\n",
        "model10.summary()"
      ],
      "metadata": {
        "colab": {
          "base_uri": "https://localhost:8080/"
        },
        "id": "I3q8F-UCbNcE",
        "outputId": "05c9cf83-1f08-41e7-dfaa-66c453b30d33"
      },
      "id": "I3q8F-UCbNcE",
      "execution_count": 87,
      "outputs": [
        {
          "output_type": "stream",
          "name": "stdout",
          "text": [
            "Model: \"sequential_6\"\n",
            "_________________________________________________________________\n",
            " Layer (type)                Output Shape              Param #   \n",
            "=================================================================\n",
            " lstm_12 (LSTM)              (None, 32, 512)           1052672   \n",
            "                                                                 \n",
            " dropout_10 (Dropout)        (None, 32, 512)           0         \n",
            "                                                                 \n",
            " lstm_13 (LSTM)              (None, 256)               787456    \n",
            "                                                                 \n",
            " dropout_11 (Dropout)        (None, 256)               0         \n",
            "                                                                 \n",
            " dense_21 (Dense)            (None, 512)               131584    \n",
            "                                                                 \n",
            " dropout_12 (Dropout)        (None, 512)               0         \n",
            "                                                                 \n",
            " dense_22 (Dense)            (None, 256)               131328    \n",
            "                                                                 \n",
            " dropout_13 (Dropout)        (None, 256)               0         \n",
            "                                                                 \n",
            " dense_23 (Dense)            (None, 128)               32896     \n",
            "                                                                 \n",
            " dropout_14 (Dropout)        (None, 128)               0         \n",
            "                                                                 \n",
            " dense_24 (Dense)            (None, 251)               32379     \n",
            "                                                                 \n",
            "=================================================================\n",
            "Total params: 2,168,315\n",
            "Trainable params: 2,168,315\n",
            "Non-trainable params: 0\n",
            "_________________________________________________________________\n"
          ]
        }
      ]
    },
    {
      "cell_type": "code",
      "source": [
        "mc10=ModelCheckpoint('best_model_10.h5', monitor = 'val_loss', mode = 'min',\n",
        "                   save_best_only=True, verbose =1)\n",
        "\n",
        "history10=model10.fit(np.array(x_tr), np.array(y_tr), batch_size=32, \n",
        "                    epochs=40, validation_data=(np.array(x_val),\n",
        "                                                np.array(y_val)),verbose =1, callbacks=[mc10])"
      ],
      "metadata": {
        "colab": {
          "base_uri": "https://localhost:8080/"
        },
        "id": "lw52Zb3VbmAZ",
        "outputId": "8b997e19-50ba-42c0-8b0f-ae867136d0f6"
      },
      "id": "lw52Zb3VbmAZ",
      "execution_count": 88,
      "outputs": [
        {
          "output_type": "stream",
          "name": "stdout",
          "text": [
            "Epoch 1/40\n",
            "11549/11549 [==============================] - ETA: 0s - loss: 4.7484\n",
            "Epoch 00001: val_loss improved from inf to 4.73730, saving model to best_model_10.h5\n",
            "11549/11549 [==============================] - 102s 9ms/step - loss: 4.7484 - val_loss: 4.7373\n",
            "Epoch 2/40\n",
            "11548/11549 [============================>.] - ETA: 0s - loss: 4.7402\n",
            "Epoch 00002: val_loss did not improve from 4.73730\n",
            "11549/11549 [==============================] - 94s 8ms/step - loss: 4.7402 - val_loss: 4.7373\n",
            "Epoch 3/40\n",
            "11549/11549 [==============================] - ETA: 0s - loss: 4.7376\n",
            "Epoch 00003: val_loss improved from 4.73730 to 4.73606, saving model to best_model_10.h5\n",
            "11549/11549 [==============================] - 94s 8ms/step - loss: 4.7376 - val_loss: 4.7361\n",
            "Epoch 4/40\n",
            "11545/11549 [============================>.] - ETA: 0s - loss: 4.7363\n",
            "Epoch 00004: val_loss improved from 4.73606 to 4.73392, saving model to best_model_10.h5\n",
            "11549/11549 [==============================] - 93s 8ms/step - loss: 4.7363 - val_loss: 4.7339\n",
            "Epoch 5/40\n",
            "11549/11549 [==============================] - ETA: 0s - loss: 4.7360\n",
            "Epoch 00005: val_loss did not improve from 4.73392\n",
            "11549/11549 [==============================] - 93s 8ms/step - loss: 4.7360 - val_loss: 4.7343\n",
            "Epoch 6/40\n",
            "11547/11549 [============================>.] - ETA: 0s - loss: 4.7361\n",
            "Epoch 00006: val_loss improved from 4.73392 to 4.73390, saving model to best_model_10.h5\n",
            "11549/11549 [==============================] - 93s 8ms/step - loss: 4.7362 - val_loss: 4.7339\n",
            "Epoch 7/40\n",
            "11544/11549 [============================>.] - ETA: 0s - loss: 4.7363\n",
            "Epoch 00007: val_loss improved from 4.73390 to 4.73345, saving model to best_model_10.h5\n",
            "11549/11549 [==============================] - 93s 8ms/step - loss: 4.7363 - val_loss: 4.7334\n",
            "Epoch 8/40\n",
            "11543/11549 [============================>.] - ETA: 0s - loss: 4.7361\n",
            "Epoch 00008: val_loss did not improve from 4.73345\n",
            "11549/11549 [==============================] - 93s 8ms/step - loss: 4.7361 - val_loss: 4.7346\n",
            "Epoch 9/40\n",
            "11548/11549 [============================>.] - ETA: 0s - loss: 4.7362\n",
            "Epoch 00009: val_loss did not improve from 4.73345\n",
            "11549/11549 [==============================] - 93s 8ms/step - loss: 4.7362 - val_loss: 4.7344\n",
            "Epoch 10/40\n",
            "11546/11549 [============================>.] - ETA: 0s - loss: 4.7361\n",
            "Epoch 00010: val_loss did not improve from 4.73345\n",
            "11549/11549 [==============================] - 94s 8ms/step - loss: 4.7362 - val_loss: 4.7344\n",
            "Epoch 11/40\n",
            "11547/11549 [============================>.] - ETA: 0s - loss: 4.7363\n",
            "Epoch 00011: val_loss did not improve from 4.73345\n",
            "11549/11549 [==============================] - 93s 8ms/step - loss: 4.7362 - val_loss: 4.7341\n",
            "Epoch 12/40\n",
            "11548/11549 [============================>.] - ETA: 0s - loss: 4.7363\n",
            "Epoch 00012: val_loss did not improve from 4.73345\n",
            "11549/11549 [==============================] - 93s 8ms/step - loss: 4.7363 - val_loss: 4.7345\n",
            "Epoch 13/40\n",
            "11546/11549 [============================>.] - ETA: 0s - loss: 4.7361\n",
            "Epoch 00013: val_loss did not improve from 4.73345\n",
            "11549/11549 [==============================] - 94s 8ms/step - loss: 4.7361 - val_loss: 4.7354\n",
            "Epoch 14/40\n",
            "11547/11549 [============================>.] - ETA: 0s - loss: 4.7363\n",
            "Epoch 00014: val_loss did not improve from 4.73345\n",
            "11549/11549 [==============================] - 93s 8ms/step - loss: 4.7363 - val_loss: 4.7344\n",
            "Epoch 15/40\n",
            "11546/11549 [============================>.] - ETA: 0s - loss: 4.7361\n",
            "Epoch 00015: val_loss did not improve from 4.73345\n",
            "11549/11549 [==============================] - 94s 8ms/step - loss: 4.7362 - val_loss: 4.7337\n",
            "Epoch 16/40\n",
            "11543/11549 [============================>.] - ETA: 0s - loss: 4.7362\n",
            "Epoch 00016: val_loss did not improve from 4.73345\n",
            "11549/11549 [==============================] - 94s 8ms/step - loss: 4.7362 - val_loss: 4.7335\n",
            "Epoch 17/40\n",
            "11545/11549 [============================>.] - ETA: 0s - loss: 4.7362\n",
            "Epoch 00017: val_loss did not improve from 4.73345\n",
            "11549/11549 [==============================] - 94s 8ms/step - loss: 4.7362 - val_loss: 4.7343\n",
            "Epoch 18/40\n",
            "11549/11549 [==============================] - ETA: 0s - loss: 4.7361\n",
            "Epoch 00018: val_loss did not improve from 4.73345\n",
            "11549/11549 [==============================] - 94s 8ms/step - loss: 4.7361 - val_loss: 4.7348\n",
            "Epoch 19/40\n",
            "11546/11549 [============================>.] - ETA: 0s - loss: 4.7363\n",
            "Epoch 00019: val_loss did not improve from 4.73345\n",
            "11549/11549 [==============================] - 93s 8ms/step - loss: 4.7363 - val_loss: 4.7338\n",
            "Epoch 20/40\n",
            "11543/11549 [============================>.] - ETA: 0s - loss: 4.7361\n",
            "Epoch 00020: val_loss did not improve from 4.73345\n",
            "11549/11549 [==============================] - 93s 8ms/step - loss: 4.7361 - val_loss: 4.7345\n",
            "Epoch 21/40\n",
            "11543/11549 [============================>.] - ETA: 0s - loss: 4.7361\n",
            "Epoch 00021: val_loss did not improve from 4.73345\n",
            "11549/11549 [==============================] - 93s 8ms/step - loss: 4.7362 - val_loss: 4.7337\n",
            "Epoch 22/40\n",
            "11545/11549 [============================>.] - ETA: 0s - loss: 4.7361\n",
            "Epoch 00022: val_loss did not improve from 4.73345\n",
            "11549/11549 [==============================] - 93s 8ms/step - loss: 4.7361 - val_loss: 4.7345\n",
            "Epoch 23/40\n",
            "11545/11549 [============================>.] - ETA: 0s - loss: 4.7361\n",
            "Epoch 00023: val_loss did not improve from 4.73345\n",
            "11549/11549 [==============================] - 94s 8ms/step - loss: 4.7361 - val_loss: 4.7344\n",
            "Epoch 24/40\n",
            "11544/11549 [============================>.] - ETA: 0s - loss: 4.7362\n",
            "Epoch 00024: val_loss did not improve from 4.73345\n",
            "11549/11549 [==============================] - 95s 8ms/step - loss: 4.7362 - val_loss: 4.7340\n",
            "Epoch 25/40\n",
            "11543/11549 [============================>.] - ETA: 0s - loss: 4.7361\n",
            "Epoch 00025: val_loss did not improve from 4.73345\n",
            "11549/11549 [==============================] - 94s 8ms/step - loss: 4.7361 - val_loss: 4.7337\n",
            "Epoch 26/40\n",
            "11543/11549 [============================>.] - ETA: 0s - loss: 4.7362\n",
            "Epoch 00026: val_loss did not improve from 4.73345\n",
            "11549/11549 [==============================] - 95s 8ms/step - loss: 4.7362 - val_loss: 4.7338\n",
            "Epoch 27/40\n",
            "11547/11549 [============================>.] - ETA: 0s - loss: 4.7362\n",
            "Epoch 00027: val_loss did not improve from 4.73345\n",
            "11549/11549 [==============================] - 94s 8ms/step - loss: 4.7362 - val_loss: 4.7346\n",
            "Epoch 28/40\n",
            "11549/11549 [==============================] - ETA: 0s - loss: 4.7361\n",
            "Epoch 00028: val_loss did not improve from 4.73345\n",
            "11549/11549 [==============================] - 95s 8ms/step - loss: 4.7361 - val_loss: 4.7343\n",
            "Epoch 29/40\n",
            "11543/11549 [============================>.] - ETA: 0s - loss: 4.7362\n",
            "Epoch 00029: val_loss did not improve from 4.73345\n",
            "11549/11549 [==============================] - 94s 8ms/step - loss: 4.7361 - val_loss: 4.7337\n",
            "Epoch 30/40\n",
            "11544/11549 [============================>.] - ETA: 0s - loss: 4.7361\n",
            "Epoch 00030: val_loss did not improve from 4.73345\n",
            "11549/11549 [==============================] - 95s 8ms/step - loss: 4.7361 - val_loss: 4.7344\n",
            "Epoch 31/40\n",
            "11549/11549 [==============================] - ETA: 0s - loss: 4.7362\n",
            "Epoch 00031: val_loss did not improve from 4.73345\n",
            "11549/11549 [==============================] - 94s 8ms/step - loss: 4.7362 - val_loss: 4.7337\n",
            "Epoch 32/40\n",
            "11547/11549 [============================>.] - ETA: 0s - loss: 4.7361\n",
            "Epoch 00032: val_loss did not improve from 4.73345\n",
            "11549/11549 [==============================] - 95s 8ms/step - loss: 4.7362 - val_loss: 4.7342\n",
            "Epoch 33/40\n",
            "11549/11549 [==============================] - ETA: 0s - loss: 4.7362\n",
            "Epoch 00033: val_loss did not improve from 4.73345\n",
            "11549/11549 [==============================] - 95s 8ms/step - loss: 4.7362 - val_loss: 4.7341\n",
            "Epoch 34/40\n",
            "11548/11549 [============================>.] - ETA: 0s - loss: 4.7362\n",
            "Epoch 00034: val_loss did not improve from 4.73345\n",
            "11549/11549 [==============================] - 93s 8ms/step - loss: 4.7362 - val_loss: 4.7343\n",
            "Epoch 35/40\n",
            "11549/11549 [==============================] - ETA: 0s - loss: 4.7363\n",
            "Epoch 00035: val_loss did not improve from 4.73345\n",
            "11549/11549 [==============================] - 93s 8ms/step - loss: 4.7363 - val_loss: 4.7340\n",
            "Epoch 36/40\n",
            "11547/11549 [============================>.] - ETA: 0s - loss: 4.7362\n",
            "Epoch 00036: val_loss did not improve from 4.73345\n",
            "11549/11549 [==============================] - 94s 8ms/step - loss: 4.7362 - val_loss: 4.7338\n",
            "Epoch 37/40\n",
            "11542/11549 [============================>.] - ETA: 0s - loss: 4.7361\n",
            "Epoch 00037: val_loss did not improve from 4.73345\n",
            "11549/11549 [==============================] - 93s 8ms/step - loss: 4.7361 - val_loss: 4.7340\n",
            "Epoch 38/40\n",
            "11546/11549 [============================>.] - ETA: 0s - loss: 4.7362\n",
            "Epoch 00038: val_loss did not improve from 4.73345\n",
            "11549/11549 [==============================] - 93s 8ms/step - loss: 4.7362 - val_loss: 4.7338\n",
            "Epoch 39/40\n",
            "11545/11549 [============================>.] - ETA: 0s - loss: 4.7362\n",
            "Epoch 00039: val_loss improved from 4.73345 to 4.73322, saving model to best_model_10.h5\n",
            "11549/11549 [==============================] - 93s 8ms/step - loss: 4.7362 - val_loss: 4.7332\n",
            "Epoch 40/40\n",
            "11544/11549 [============================>.] - ETA: 0s - loss: 4.7361\n",
            "Epoch 00040: val_loss did not improve from 4.73322\n",
            "11549/11549 [==============================] - 94s 8ms/step - loss: 4.7361 - val_loss: 4.7344\n"
          ]
        }
      ]
    },
    {
      "cell_type": "code",
      "source": [
        "model10= load_model('best_model_10.h5')"
      ],
      "metadata": {
        "id": "DQrvR9pmcyzH"
      },
      "id": "DQrvR9pmcyzH",
      "execution_count": 89,
      "outputs": []
    },
    {
      "cell_type": "code",
      "source": [
        "ind =np.random.randint(0,len(x_val)-1)\n",
        "\n",
        "random_music = x_val[ind]\n",
        "\n",
        "predictions10 = []\n",
        "\n",
        "for i in range(50):\n",
        "  random_music = random_music.reshape(1,no_of_timesteps)\n",
        "\n",
        "  prob = model10.predict(random_music)[0]\n",
        "\n",
        "  y_pred = np.argmax(prob, axis=0)\n",
        "  predictions10.append(y_pred)\n",
        "\n",
        "  random_music=np.insert(random_music[0], len(random_music[0]),y_pred)\n",
        "  random_music = random_music[1:]\n",
        "\n",
        "print(predictions10)"
      ],
      "metadata": {
        "colab": {
          "base_uri": "https://localhost:8080/"
        },
        "id": "VdVEyW6irpPf",
        "outputId": "32194ee8-a595-45f9-fb92-8aaf302002ce"
      },
      "id": "VdVEyW6irpPf",
      "execution_count": 102,
      "outputs": [
        {
          "output_type": "stream",
          "name": "stdout",
          "text": [
            "[35, 35, 35, 35, 35, 35, 35, 35, 35, 35, 35, 35, 35, 35, 35, 35, 35, 35, 35, 35, 35, 35, 35, 35, 35, 35, 35, 35, 35, 35, 35, 35, 35, 35, 35, 35, 35, 35, 35, 35, 35, 35, 35, 35, 35, 35, 35, 35, 35, 35]\n"
          ]
        }
      ]
    },
    {
      "cell_type": "code",
      "source": [
        "predicted_notes10 = [x_int_to_note[i] for i in predictions10]\n",
        "convert_to_midi(predicted_notes10)\n",
        "predicted_notes10"
      ],
      "metadata": {
        "colab": {
          "base_uri": "https://localhost:8080/"
        },
        "id": "3BPxDUMmrwGk",
        "outputId": "0fa8acf6-f2d4-4a31-9b32-1422e91ed049"
      },
      "id": "3BPxDUMmrwGk",
      "execution_count": 99,
      "outputs": [
        {
          "output_type": "execute_result",
          "data": {
            "text/plain": [
              "['D5',\n",
              " 'D5',\n",
              " 'D5',\n",
              " 'D5',\n",
              " 'D5',\n",
              " 'D5',\n",
              " 'D5',\n",
              " 'D5',\n",
              " 'D5',\n",
              " 'D5',\n",
              " 'D5',\n",
              " 'D5',\n",
              " 'D5',\n",
              " 'D5',\n",
              " 'D5',\n",
              " 'D5',\n",
              " 'D5',\n",
              " 'D5',\n",
              " 'D5',\n",
              " 'D5',\n",
              " 'D5',\n",
              " 'D5',\n",
              " 'D5',\n",
              " 'D5',\n",
              " 'D5',\n",
              " 'D5',\n",
              " 'D5',\n",
              " 'D5',\n",
              " 'D5',\n",
              " 'D5',\n",
              " 'D5',\n",
              " 'D5',\n",
              " 'D5',\n",
              " 'D5',\n",
              " 'D5',\n",
              " 'D5',\n",
              " 'D5',\n",
              " 'D5',\n",
              " 'D5',\n",
              " 'D5',\n",
              " 'D5',\n",
              " 'D5',\n",
              " 'D5',\n",
              " 'D5',\n",
              " 'D5',\n",
              " 'D5',\n",
              " 'D5',\n",
              " 'D5',\n",
              " 'D5',\n",
              " 'D5']"
            ]
          },
          "metadata": {},
          "execution_count": 99
        }
      ]
    },
    {
      "cell_type": "code",
      "source": [
        "train_loss10=history10.history['loss']\n",
        "test_loss10= history10.history['val_loss']\n",
        "\n",
        "\n",
        "plt.figure(figsize=(12,8))\n",
        "plt.title('Training versus Testing loss(LSTM-model-10)')\n",
        "plt.plot(train_loss10, label ='Training Loss', color = 'orange')\n",
        "plt.plot(test_loss10, label = 'Testing loss', color = 'blue')\n",
        "plt.legend();\n",
        "plt.savefig('10thmodel_loss_plot.png')"
      ],
      "metadata": {
        "colab": {
          "base_uri": "https://localhost:8080/",
          "height": 498
        },
        "id": "VdYvKX5Zssb6",
        "outputId": "791dec78-9cc8-4c84-ff7a-5118ce1579c4"
      },
      "id": "VdYvKX5Zssb6",
      "execution_count": 113,
      "outputs": [
        {
          "output_type": "display_data",
          "data": {
            "image/png": "[encoded data removed]",
            "text/plain": [
              "<Figure size 864x576 with 1 Axes>"
            ]
          },
          "metadata": {
            "image/png": {
              "width": 719,
              "height": 481
            },
            "needs_background": "light"
          }
        }
      ]
    },
    {
      "cell_type": "code",
      "source": [
        "model11 = Sequential()\n",
        "model11.add(LSTM(512, input_shape =(x_input.shape[1],x_input.shape[2]), return_sequences=True))\n",
        "model11.add(Dropout(0.01))\n",
        "model11.add(LSTM(512, return_sequences = False))\n",
        "model11.add(Dropout(0.01))\n",
        "model11.add(Dense(512, activation='relu'))\n",
        "model11.add(Dropout(0.01))\n",
        "model11.add(Dense(256, activation='relu'))\n",
        "model11.add(Dropout(0.01))\n",
        "model11.add(Dense(128, activation='relu'))\n",
        "model11.add(Dropout(0.01))\n",
        "model11.add(Dense(len(unique_y), activation = 'softmax'))\n",
        "model11.compile(loss='sparse_categorical_crossentropy', optimizer = Adam(lr=.001))\n",
        "model11.summary() "
      ],
      "metadata": {
        "colab": {
          "base_uri": "https://localhost:8080/"
        },
        "id": "aVVmc7_H8EQC",
        "outputId": "12942601-ef3a-496d-917c-b36cb7e6ce6e"
      },
      "id": "aVVmc7_H8EQC",
      "execution_count": 107,
      "outputs": [
        {
          "output_type": "stream",
          "name": "stdout",
          "text": [
            "Model: \"sequential_10\"\n",
            "_________________________________________________________________\n",
            " Layer (type)                Output Shape              Param #   \n",
            "=================================================================\n",
            " lstm_22 (LSTM)              (None, 32, 512)           1052672   \n",
            "                                                                 \n",
            " dropout_24 (Dropout)        (None, 32, 512)           0         \n",
            "                                                                 \n",
            " lstm_23 (LSTM)              (None, 512)               2099200   \n",
            "                                                                 \n",
            " dropout_25 (Dropout)        (None, 512)               0         \n",
            "                                                                 \n",
            " dense_29 (Dense)            (None, 512)               262656    \n",
            "                                                                 \n",
            " dropout_26 (Dropout)        (None, 512)               0         \n",
            "                                                                 \n",
            " dense_30 (Dense)            (None, 256)               131328    \n",
            "                                                                 \n",
            " dropout_27 (Dropout)        (None, 256)               0         \n",
            "                                                                 \n",
            " dense_31 (Dense)            (None, 128)               32896     \n",
            "                                                                 \n",
            " dropout_28 (Dropout)        (None, 128)               0         \n",
            "                                                                 \n",
            " dense_32 (Dense)            (None, 251)               32379     \n",
            "                                                                 \n",
            "=================================================================\n",
            "Total params: 3,611,131\n",
            "Trainable params: 3,611,131\n",
            "Non-trainable params: 0\n",
            "_________________________________________________________________\n"
          ]
        }
      ]
    },
    {
      "cell_type": "code",
      "source": [
        "mc11=ModelCheckpoint('best_model_11.h5', monitor = 'val_loss', mode = 'min',\n",
        "                   save_best_only=True, verbose =1)\n",
        "\n",
        "history11=model11.fit(np.array(x_tr), np.array(y_tr), batch_size=32, \n",
        "                    epochs=50, validation_data=(np.array(x_val),\n",
        "                                                np.array(y_val)),verbose =1, callbacks=[mc11])"
      ],
      "metadata": {
        "colab": {
          "base_uri": "https://localhost:8080/"
        },
        "id": "DrmZm5uxGdjR",
        "outputId": "87646517-dce3-4b1a-e2e7-ce6874141061"
      },
      "id": "DrmZm5uxGdjR",
      "execution_count": 108,
      "outputs": [
        {
          "output_type": "stream",
          "name": "stdout",
          "text": [
            "Epoch 1/50\n",
            "11545/11549 [============================>.] - ETA: 0s - loss: 4.5545\n",
            "Epoch 00001: val_loss improved from inf to 4.41442, saving model to best_model_11.h5\n",
            "11549/11549 [==============================] - 109s 9ms/step - loss: 4.5543 - val_loss: 4.4144\n",
            "Epoch 2/50\n",
            "11547/11549 [============================>.] - ETA: 0s - loss: 4.2888\n",
            "Epoch 00002: val_loss improved from 4.41442 to 4.17430, saving model to best_model_11.h5\n",
            "11549/11549 [==============================] - 106s 9ms/step - loss: 4.2888 - val_loss: 4.1743\n",
            "Epoch 3/50\n",
            "11548/11549 [============================>.] - ETA: 0s - loss: 4.1014\n",
            "Epoch 00003: val_loss improved from 4.17430 to 4.05559, saving model to best_model_11.h5\n",
            "11549/11549 [==============================] - 106s 9ms/step - loss: 4.1014 - val_loss: 4.0556\n",
            "Epoch 4/50\n",
            "11547/11549 [============================>.] - ETA: 0s - loss: 3.9810\n",
            "Epoch 00004: val_loss improved from 4.05559 to 3.96137, saving model to best_model_11.h5\n",
            "11549/11549 [==============================] - 106s 9ms/step - loss: 3.9811 - val_loss: 3.9614\n",
            "Epoch 5/50\n",
            "11545/11549 [============================>.] - ETA: 0s - loss: 3.8895\n",
            "Epoch 00005: val_loss improved from 3.96137 to 3.89515, saving model to best_model_11.h5\n",
            "11549/11549 [==============================] - 105s 9ms/step - loss: 3.8895 - val_loss: 3.8951\n",
            "Epoch 6/50\n",
            "11546/11549 [============================>.] - ETA: 0s - loss: 3.8136\n",
            "Epoch 00006: val_loss improved from 3.89515 to 3.83818, saving model to best_model_11.h5\n",
            "11549/11549 [==============================] - 106s 9ms/step - loss: 3.8135 - val_loss: 3.8382\n",
            "Epoch 7/50\n",
            "11547/11549 [============================>.] - ETA: 0s - loss: 3.7430\n",
            "Epoch 00007: val_loss improved from 3.83818 to 3.82542, saving model to best_model_11.h5\n",
            "11549/11549 [==============================] - 106s 9ms/step - loss: 3.7430 - val_loss: 3.8254\n",
            "Epoch 8/50\n",
            "11546/11549 [============================>.] - ETA: 0s - loss: 3.6856\n",
            "Epoch 00008: val_loss improved from 3.82542 to 3.77409, saving model to best_model_11.h5\n",
            "11549/11549 [==============================] - 105s 9ms/step - loss: 3.6855 - val_loss: 3.7741\n",
            "Epoch 9/50\n",
            "11546/11549 [============================>.] - ETA: 0s - loss: 3.6349\n",
            "Epoch 00009: val_loss improved from 3.77409 to 3.75874, saving model to best_model_11.h5\n",
            "11549/11549 [==============================] - 105s 9ms/step - loss: 3.6349 - val_loss: 3.7587\n",
            "Epoch 10/50\n",
            "11546/11549 [============================>.] - ETA: 0s - loss: 3.5885\n",
            "Epoch 00010: val_loss improved from 3.75874 to 3.72631, saving model to best_model_11.h5\n",
            "11549/11549 [==============================] - 105s 9ms/step - loss: 3.5885 - val_loss: 3.7263\n",
            "Epoch 11/50\n",
            "11546/11549 [============================>.] - ETA: 0s - loss: 3.5442\n",
            "Epoch 00011: val_loss improved from 3.72631 to 3.71793, saving model to best_model_11.h5\n",
            "11549/11549 [==============================] - 105s 9ms/step - loss: 3.5442 - val_loss: 3.7179\n",
            "Epoch 12/50\n",
            "11545/11549 [============================>.] - ETA: 0s - loss: 3.5062\n",
            "Epoch 00012: val_loss improved from 3.71793 to 3.67283, saving model to best_model_11.h5\n",
            "11549/11549 [==============================] - 105s 9ms/step - loss: 3.5063 - val_loss: 3.6728\n",
            "Epoch 13/50\n",
            "11545/11549 [============================>.] - ETA: 0s - loss: 3.4667\n",
            "Epoch 00013: val_loss improved from 3.67283 to 3.66703, saving model to best_model_11.h5\n",
            "11549/11549 [==============================] - 105s 9ms/step - loss: 3.4667 - val_loss: 3.6670\n",
            "Epoch 14/50\n",
            "11546/11549 [============================>.] - ETA: 0s - loss: 3.4366\n",
            "Epoch 00014: val_loss did not improve from 3.66703\n",
            "11549/11549 [==============================] - 105s 9ms/step - loss: 3.4365 - val_loss: 3.6730\n",
            "Epoch 15/50\n",
            "11544/11549 [============================>.] - ETA: 0s - loss: 3.4032\n",
            "Epoch 00015: val_loss improved from 3.66703 to 3.66015, saving model to best_model_11.h5\n",
            "11549/11549 [==============================] - 105s 9ms/step - loss: 3.4033 - val_loss: 3.6601\n",
            "Epoch 16/50\n",
            "11545/11549 [============================>.] - ETA: 0s - loss: 3.3796\n",
            "Epoch 00016: val_loss improved from 3.66015 to 3.63891, saving model to best_model_11.h5\n",
            "11549/11549 [==============================] - 105s 9ms/step - loss: 3.3797 - val_loss: 3.6389\n",
            "Epoch 17/50\n",
            "11545/11549 [============================>.] - ETA: 0s - loss: 3.3504\n",
            "Epoch 00017: val_loss improved from 3.63891 to 3.61856, saving model to best_model_11.h5\n",
            "11549/11549 [==============================] - 105s 9ms/step - loss: 3.3504 - val_loss: 3.6186\n",
            "Epoch 18/50\n",
            "11546/11549 [============================>.] - ETA: 0s - loss: 3.3252\n",
            "Epoch 00018: val_loss did not improve from 3.61856\n",
            "11549/11549 [==============================] - 105s 9ms/step - loss: 3.3253 - val_loss: 3.6435\n",
            "Epoch 19/50\n",
            "11547/11549 [============================>.] - ETA: 0s - loss: 3.2992\n",
            "Epoch 00019: val_loss improved from 3.61856 to 3.59620, saving model to best_model_11.h5\n",
            "11549/11549 [==============================] - 105s 9ms/step - loss: 3.2992 - val_loss: 3.5962\n",
            "Epoch 20/50\n",
            "11545/11549 [============================>.] - ETA: 0s - loss: 3.2784\n",
            "Epoch 00020: val_loss did not improve from 3.59620\n",
            "11549/11549 [==============================] - 105s 9ms/step - loss: 3.2784 - val_loss: 3.6003\n",
            "Epoch 21/50\n",
            "11548/11549 [============================>.] - ETA: 0s - loss: 3.2588\n",
            "Epoch 00021: val_loss improved from 3.59620 to 3.59269, saving model to best_model_11.h5\n",
            "11549/11549 [==============================] - 105s 9ms/step - loss: 3.2588 - val_loss: 3.5927\n",
            "Epoch 22/50\n",
            "11547/11549 [============================>.] - ETA: 0s - loss: 3.2378\n",
            "Epoch 00022: val_loss did not improve from 3.59269\n",
            "11549/11549 [==============================] - 105s 9ms/step - loss: 3.2378 - val_loss: 3.6229\n",
            "Epoch 23/50\n",
            "11545/11549 [============================>.] - ETA: 0s - loss: 3.2186\n",
            "Epoch 00023: val_loss did not improve from 3.59269\n",
            "11549/11549 [==============================] - 105s 9ms/step - loss: 3.2186 - val_loss: 3.6129\n",
            "Epoch 24/50\n",
            "11544/11549 [============================>.] - ETA: 0s - loss: 3.2041\n",
            "Epoch 00024: val_loss did not improve from 3.59269\n",
            "11549/11549 [==============================] - 105s 9ms/step - loss: 3.2039 - val_loss: 3.6250\n",
            "Epoch 25/50\n",
            "11547/11549 [============================>.] - ETA: 0s - loss: 3.1835\n",
            "Epoch 00025: val_loss did not improve from 3.59269\n",
            "11549/11549 [==============================] - 105s 9ms/step - loss: 3.1836 - val_loss: 3.6066\n",
            "Epoch 26/50\n",
            "11544/11549 [============================>.] - ETA: 0s - loss: 3.1678\n",
            "Epoch 00026: val_loss did not improve from 3.59269\n",
            "11549/11549 [==============================] - 105s 9ms/step - loss: 3.1679 - val_loss: 3.6092\n",
            "Epoch 27/50\n",
            "11546/11549 [============================>.] - ETA: 0s - loss: 3.1542\n",
            "Epoch 00027: val_loss improved from 3.59269 to 3.59052, saving model to best_model_11.h5\n",
            "11549/11549 [==============================] - 105s 9ms/step - loss: 3.1542 - val_loss: 3.5905\n",
            "Epoch 28/50\n",
            "11545/11549 [============================>.] - ETA: 0s - loss: 3.1422\n",
            "Epoch 00028: val_loss did not improve from 3.59052\n",
            "11549/11549 [==============================] - 105s 9ms/step - loss: 3.1423 - val_loss: 3.6075\n",
            "Epoch 29/50\n",
            "11548/11549 [============================>.] - ETA: 0s - loss: 3.1315\n",
            "Epoch 00029: val_loss did not improve from 3.59052\n",
            "11549/11549 [==============================] - 105s 9ms/step - loss: 3.1315 - val_loss: 3.5978\n",
            "Epoch 30/50\n",
            "11545/11549 [============================>.] - ETA: 0s - loss: 3.1199\n",
            "Epoch 00030: val_loss did not improve from 3.59052\n",
            "11549/11549 [==============================] - 106s 9ms/step - loss: 3.1200 - val_loss: 3.6207\n",
            "Epoch 31/50\n",
            "11543/11549 [============================>.] - ETA: 0s - loss: 3.1085\n",
            "Epoch 00031: val_loss improved from 3.59052 to 3.56320, saving model to best_model_11.h5\n",
            "11549/11549 [==============================] - 106s 9ms/step - loss: 3.1085 - val_loss: 3.5632\n",
            "Epoch 32/50\n",
            "11549/11549 [==============================] - ETA: 0s - loss: 3.0945\n",
            "Epoch 00032: val_loss did not improve from 3.56320\n",
            "11549/11549 [==============================] - 105s 9ms/step - loss: 3.0945 - val_loss: 3.5803\n",
            "Epoch 33/50\n",
            "11547/11549 [============================>.] - ETA: 0s - loss: 3.0872\n",
            "Epoch 00033: val_loss improved from 3.56320 to 3.54461, saving model to best_model_11.h5\n",
            "11549/11549 [==============================] - 105s 9ms/step - loss: 3.0872 - val_loss: 3.5446\n",
            "Epoch 34/50\n",
            "11545/11549 [============================>.] - ETA: 0s - loss: 3.0683\n",
            "Epoch 00034: val_loss did not improve from 3.54461\n",
            "11549/11549 [==============================] - 105s 9ms/step - loss: 3.0683 - val_loss: 3.6124\n",
            "Epoch 35/50\n",
            "11546/11549 [============================>.] - ETA: 0s - loss: 3.0632\n",
            "Epoch 00035: val_loss did not improve from 3.54461\n",
            "11549/11549 [==============================] - 105s 9ms/step - loss: 3.0632 - val_loss: 3.5670\n",
            "Epoch 36/50\n",
            "11547/11549 [============================>.] - ETA: 0s - loss: 3.0549\n",
            "Epoch 00036: val_loss did not improve from 3.54461\n",
            "11549/11549 [==============================] - 105s 9ms/step - loss: 3.0548 - val_loss: 3.5514\n",
            "Epoch 37/50\n",
            "11545/11549 [============================>.] - ETA: 0s - loss: 3.0485\n",
            "Epoch 00037: val_loss did not improve from 3.54461\n",
            "11549/11549 [==============================] - 105s 9ms/step - loss: 3.0486 - val_loss: 3.6092\n",
            "Epoch 38/50\n",
            "11549/11549 [==============================] - ETA: 0s - loss: 3.0396\n",
            "Epoch 00038: val_loss did not improve from 3.54461\n",
            "11549/11549 [==============================] - 105s 9ms/step - loss: 3.0396 - val_loss: 3.5850\n",
            "Epoch 39/50\n",
            "11546/11549 [============================>.] - ETA: 0s - loss: 3.0341\n",
            "Epoch 00039: val_loss did not improve from 3.54461\n",
            "11549/11549 [==============================] - 105s 9ms/step - loss: 3.0343 - val_loss: 3.6317\n",
            "Epoch 40/50\n",
            "11544/11549 [============================>.] - ETA: 0s - loss: 3.0200\n",
            "Epoch 00040: val_loss did not improve from 3.54461\n",
            "11549/11549 [==============================] - 105s 9ms/step - loss: 3.0199 - val_loss: 3.6243\n",
            "Epoch 41/50\n",
            "11549/11549 [==============================] - ETA: 0s - loss: 3.0221\n",
            "Epoch 00041: val_loss did not improve from 3.54461\n",
            "11549/11549 [==============================] - 105s 9ms/step - loss: 3.0221 - val_loss: 3.5821\n",
            "Epoch 42/50\n",
            "11547/11549 [============================>.] - ETA: 0s - loss: 3.0125\n",
            "Epoch 00042: val_loss did not improve from 3.54461\n",
            "11549/11549 [==============================] - 103s 9ms/step - loss: 3.0125 - val_loss: 3.5822\n",
            "Epoch 43/50\n",
            "11543/11549 [============================>.] - ETA: 0s - loss: 3.0028\n",
            "Epoch 00043: val_loss did not improve from 3.54461\n",
            "11549/11549 [==============================] - 103s 9ms/step - loss: 3.0027 - val_loss: 3.5631\n",
            "Epoch 44/50\n",
            "11549/11549 [==============================] - ETA: 0s - loss: 3.0048\n",
            "Epoch 00044: val_loss did not improve from 3.54461\n",
            "11549/11549 [==============================] - 103s 9ms/step - loss: 3.0048 - val_loss: 3.5988\n",
            "Epoch 45/50\n",
            "11548/11549 [============================>.] - ETA: 0s - loss: 3.0003\n",
            "Epoch 00045: val_loss did not improve from 3.54461\n",
            "11549/11549 [==============================] - 103s 9ms/step - loss: 3.0004 - val_loss: 3.5747\n",
            "Epoch 46/50\n",
            "11548/11549 [============================>.] - ETA: 0s - loss: 2.9984\n",
            "Epoch 00046: val_loss did not improve from 3.54461\n",
            "11549/11549 [==============================] - 103s 9ms/step - loss: 2.9984 - val_loss: 3.6112\n",
            "Epoch 47/50\n",
            "11545/11549 [============================>.] - ETA: 0s - loss: 2.9968\n",
            "Epoch 00047: val_loss did not improve from 3.54461\n",
            "11549/11549 [==============================] - 103s 9ms/step - loss: 2.9969 - val_loss: 3.6164\n",
            "Epoch 48/50\n",
            "11546/11549 [============================>.] - ETA: 0s - loss: 2.9854\n",
            "Epoch 00048: val_loss did not improve from 3.54461\n",
            "11549/11549 [==============================] - 103s 9ms/step - loss: 2.9854 - val_loss: 3.6229\n",
            "Epoch 49/50\n",
            "11543/11549 [============================>.] - ETA: 0s - loss: 2.9731\n",
            "Epoch 00049: val_loss did not improve from 3.54461\n",
            "11549/11549 [==============================] - 103s 9ms/step - loss: 2.9730 - val_loss: 3.5651\n",
            "Epoch 50/50\n",
            "11543/11549 [============================>.] - ETA: 0s - loss: 2.9664\n",
            "Epoch 00050: val_loss did not improve from 3.54461\n",
            "11549/11549 [==============================] - 103s 9ms/step - loss: 2.9666 - val_loss: 3.6060\n"
          ]
        }
      ]
    },
    {
      "cell_type": "code",
      "source": [
        "model11= load_model('best_model_11.h5')"
      ],
      "metadata": {
        "id": "lZLGe1RcG5o3"
      },
      "id": "lZLGe1RcG5o3",
      "execution_count": 109,
      "outputs": []
    },
    {
      "cell_type": "code",
      "source": [
        "ind =np.random.randint(0,len(x_val)-1)\n",
        "\n",
        "random_music = x_val[ind]\n",
        "\n",
        "predictions11 = []\n",
        "\n",
        "for i in range(100):\n",
        "  random_music = random_music.reshape(1,no_of_timesteps)\n",
        "\n",
        "  prob = model11.predict(random_music)[0]\n",
        "\n",
        "  y_pred = np.argmax(prob, axis=0)\n",
        "  predictions11.append(y_pred)\n",
        "\n",
        "  random_music=np.insert(random_music[0], len(random_music[0]),y_pred)\n",
        "  random_music = random_music[1:]\n",
        "\n",
        "print(predictions11)"
      ],
      "metadata": {
        "colab": {
          "base_uri": "https://localhost:8080/"
        },
        "id": "x5n7s2VhbRkd",
        "outputId": "cf77ae1e-77c8-432d-b6ea-ef9d7e16bbe5"
      },
      "id": "x5n7s2VhbRkd",
      "execution_count": 110,
      "outputs": [
        {
          "output_type": "stream",
          "name": "stdout",
          "text": [
            "[240, 110, 240, 158, 110, 240, 57, 2, 221, 221, 172, 172, 78, 166, 141, 78, 21, 234, 209, 209, 35, 156, 248, 248, 156, 248, 113, 113, 209, 31, 86, 23, 86, 74, 74, 74, 74, 74, 23, 74, 44, 49, 103, 44, 74, 44, 74, 44, 74, 44, 74, 44, 103, 44, 103, 44, 103, 44, 97, 153, 97, 74, 103, 80, 104, 80, 98, 49, 103, 39, 104, 41, 104, 41, 104, 41, 104, 41, 104, 41, 104, 41, 104, 41, 104, 41, 104, 41, 104, 41, 104, 41, 104, 41, 104, 41, 104, 235, 104, 104]\n"
          ]
        }
      ]
    },
    {
      "cell_type": "code",
      "source": [
        "predicted_notes11 = [x_int_to_note[i] for i in predictions11]\n",
        "convert_to_midi(predicted_notes11)\n",
        "predicted_notes11"
      ],
      "metadata": {
        "colab": {
          "base_uri": "https://localhost:8080/"
        },
        "id": "zy-9RHY2bouz",
        "outputId": "3dfc3784-ea58-4d30-8cbb-2dc118f76766"
      },
      "id": "zy-9RHY2bouz",
      "execution_count": 111,
      "outputs": [
        {
          "output_type": "execute_result",
          "data": {
            "text/plain": [
              "['A6',\n",
              " 'B6',\n",
              " 'A6',\n",
              " 'B-6',\n",
              " 'B6',\n",
              " 'A6',\n",
              " 'G6',\n",
              " 'F6',\n",
              " 'E-6',\n",
              " 'E-6',\n",
              " 'C6',\n",
              " 'C6',\n",
              " 'G#5',\n",
              " 'A5',\n",
              " 'B-5',\n",
              " 'G#5',\n",
              " 'G5',\n",
              " 'F5',\n",
              " 'E-5',\n",
              " 'E-5',\n",
              " 'D5',\n",
              " 'C5',\n",
              " 'B-4',\n",
              " 'B-4',\n",
              " 'C5',\n",
              " 'B-4',\n",
              " 'G#4',\n",
              " 'G#4',\n",
              " 'E-5',\n",
              " 'G4',\n",
              " 'F4',\n",
              " 'E-4',\n",
              " 'F4',\n",
              " 'D4',\n",
              " 'D4',\n",
              " 'D4',\n",
              " 'D4',\n",
              " 'D4',\n",
              " 'E-4',\n",
              " 'D4',\n",
              " 'C4',\n",
              " 'B-3',\n",
              " 'A3',\n",
              " 'C4',\n",
              " 'D4',\n",
              " 'C4',\n",
              " 'D4',\n",
              " 'C4',\n",
              " 'D4',\n",
              " 'C4',\n",
              " 'D4',\n",
              " 'C4',\n",
              " 'A3',\n",
              " 'C4',\n",
              " 'A3',\n",
              " 'C4',\n",
              " 'A3',\n",
              " 'C4',\n",
              " 'B-2',\n",
              " 'G3',\n",
              " 'B-2',\n",
              " 'D4',\n",
              " 'A3',\n",
              " 'F3',\n",
              " 'D2',\n",
              " 'F3',\n",
              " 'G1',\n",
              " 'B-3',\n",
              " 'A3',\n",
              " '5.7',\n",
              " 'D2',\n",
              " 'B-1',\n",
              " 'D2',\n",
              " 'B-1',\n",
              " 'D2',\n",
              " 'B-1',\n",
              " 'D2',\n",
              " 'B-1',\n",
              " 'D2',\n",
              " 'B-1',\n",
              " 'D2',\n",
              " 'B-1',\n",
              " 'D2',\n",
              " 'B-1',\n",
              " 'D2',\n",
              " 'B-1',\n",
              " 'D2',\n",
              " 'B-1',\n",
              " 'D2',\n",
              " 'B-1',\n",
              " 'D2',\n",
              " 'B-1',\n",
              " 'D2',\n",
              " 'B-1',\n",
              " 'D2',\n",
              " 'B-1',\n",
              " 'D2',\n",
              " '7.9',\n",
              " 'D2',\n",
              " 'D2']"
            ]
          },
          "metadata": {},
          "execution_count": 111
        }
      ]
    },
    {
      "cell_type": "code",
      "source": [
        "train_loss11=history11.history['loss']\n",
        "test_loss11= history11.history['val_loss']\n",
        "\n",
        "\n",
        "plt.figure(figsize=(12,8))\n",
        "plt.title('Training versus Testing loss(LSTM-model-11)')\n",
        "plt.plot(train_loss11, label ='Training Loss', color = 'salmon')\n",
        "plt.plot(test_loss11, label = 'Testing loss', color = 'mediumblue')\n",
        "plt.legend();\n",
        "plt.savefig('11_LSTM_model_loss_plot.png')"
      ],
      "metadata": {
        "colab": {
          "base_uri": "https://localhost:8080/",
          "height": 498
        },
        "id": "8hyWXWY2byy1",
        "outputId": "4a6822d4-1a5b-4116-8062-940f89e7b67e"
      },
      "id": "8hyWXWY2byy1",
      "execution_count": 112,
      "outputs": [
        {
          "output_type": "display_data",
          "data": {
            "image/png": "[encoded data removed]",
            "text/plain": [
              "<Figure size 864x576 with 1 Axes>"
            ]
          },
          "metadata": {
            "image/png": {
              "width": 706,
              "height": 481
            },
            "needs_background": "light"
          }
        }
      ]
    },
    {
      "cell_type": "code",
      "source": [
        ""
      ],
      "metadata": {
        "id": "TCWhplhleevx"
      },
      "id": "TCWhplhleevx",
      "execution_count": null,
      "outputs": []
    }
  ],
  "metadata": {
    "kernelspec": {
      "display_name": "Python 3 (ipykernel)",
      "language": "python",
      "name": "python3"
    },
    "language_info": {
      "codemirror_mode": {
        "name": "ipython",
        "version": 3
      },
      "file_extension": ".py",
      "mimetype": "text/x-python",
      "name": "python",
      "nbconvert_exporter": "python",
      "pygments_lexer": "ipython3",
      "version": "3.8.8"
    },
    "colab": {
      "name": "3-eda_jazz.ipynb",
      "provenance": [],
      "collapsed_sections": [],
      "machine_shape": "hm"
    },
    "accelerator": "GPU"
  },
  "nbformat": 4,
  "nbformat_minor": 5
}